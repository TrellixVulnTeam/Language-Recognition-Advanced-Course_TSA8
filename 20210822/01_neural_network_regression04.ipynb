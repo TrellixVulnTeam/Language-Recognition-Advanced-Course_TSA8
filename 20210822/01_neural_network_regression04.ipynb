{
 "cells": [
  {
   "cell_type": "code",
   "execution_count": 2,
   "source": [
    "import tensorflow as tf\r\n",
    "import numpy as np\r\n",
    "import pandas as pd\r\n",
    "import matplotlib.pyplot as plt"
   ],
   "outputs": [],
   "metadata": {}
  },
  {
   "cell_type": "code",
   "execution_count": 8,
   "source": [
    "def plot_predictions(\r\n",
    "    train_data,\r\n",
    "    train_labels,\r\n",
    "    test_data,\r\n",
    "    test_labels,\r\n",
    "    predictions\r\n",
    "):\r\n",
    "    plt.figure(figsize = (10, 7))\r\n",
    "    plt.scatter(train_data, train_labels, c = \"b\", label = \"Traning data\")\r\n",
    "    plt.scatter(test_data, test_labels, c = \"g\", label = \"Testing data\")\r\n",
    "    plt.scatter(test_data, predictions, c = \"r\", label = \"Predictions\")\r\n",
    "    plt.legend()"
   ],
   "outputs": [],
   "metadata": {}
  },
  {
   "cell_type": "code",
   "execution_count": null,
   "source": [
    "def mae(y_test, y_pred):\r\n",
    "    return tf.metrics.mean_absolute_error(y_test, y_pred)\r\n",
    "\r\n",
    "def mse(y_test, y_pred):\r\n",
    "    return tf.metrics.mean_squared_error(y_test, y_pred)"
   ],
   "outputs": [],
   "metadata": {}
  },
  {
   "cell_type": "code",
   "execution_count": 6,
   "source": [
    "insurance = pd.read_csv('insurance.csv')"
   ],
   "outputs": [],
   "metadata": {}
  },
  {
   "cell_type": "code",
   "execution_count": 9,
   "source": [
    "# age, sex, bmi, childern, smoker, region : feature\r\n",
    "# charges : label"
   ],
   "outputs": [],
   "metadata": {}
  },
  {
   "cell_type": "code",
   "execution_count": 10,
   "source": [
    "insurance.head()"
   ],
   "outputs": [
    {
     "output_type": "execute_result",
     "data": {
      "text/plain": [
       "   age     sex     bmi  children smoker     region      charges\n",
       "0   19  female  27.900         0    yes  southwest  16884.92400\n",
       "1   18    male  33.770         1     no  southeast   1725.55230\n",
       "2   28    male  33.000         3     no  southeast   4449.46200\n",
       "3   33    male  22.705         0     no  northwest  21984.47061\n",
       "4   32    male  28.880         0     no  northwest   3866.85520"
      ],
      "text/html": [
       "<div>\n",
       "<style scoped>\n",
       "    .dataframe tbody tr th:only-of-type {\n",
       "        vertical-align: middle;\n",
       "    }\n",
       "\n",
       "    .dataframe tbody tr th {\n",
       "        vertical-align: top;\n",
       "    }\n",
       "\n",
       "    .dataframe thead th {\n",
       "        text-align: right;\n",
       "    }\n",
       "</style>\n",
       "<table border=\"1\" class=\"dataframe\">\n",
       "  <thead>\n",
       "    <tr style=\"text-align: right;\">\n",
       "      <th></th>\n",
       "      <th>age</th>\n",
       "      <th>sex</th>\n",
       "      <th>bmi</th>\n",
       "      <th>children</th>\n",
       "      <th>smoker</th>\n",
       "      <th>region</th>\n",
       "      <th>charges</th>\n",
       "    </tr>\n",
       "  </thead>\n",
       "  <tbody>\n",
       "    <tr>\n",
       "      <th>0</th>\n",
       "      <td>19</td>\n",
       "      <td>female</td>\n",
       "      <td>27.900</td>\n",
       "      <td>0</td>\n",
       "      <td>yes</td>\n",
       "      <td>southwest</td>\n",
       "      <td>16884.92400</td>\n",
       "    </tr>\n",
       "    <tr>\n",
       "      <th>1</th>\n",
       "      <td>18</td>\n",
       "      <td>male</td>\n",
       "      <td>33.770</td>\n",
       "      <td>1</td>\n",
       "      <td>no</td>\n",
       "      <td>southeast</td>\n",
       "      <td>1725.55230</td>\n",
       "    </tr>\n",
       "    <tr>\n",
       "      <th>2</th>\n",
       "      <td>28</td>\n",
       "      <td>male</td>\n",
       "      <td>33.000</td>\n",
       "      <td>3</td>\n",
       "      <td>no</td>\n",
       "      <td>southeast</td>\n",
       "      <td>4449.46200</td>\n",
       "    </tr>\n",
       "    <tr>\n",
       "      <th>3</th>\n",
       "      <td>33</td>\n",
       "      <td>male</td>\n",
       "      <td>22.705</td>\n",
       "      <td>0</td>\n",
       "      <td>no</td>\n",
       "      <td>northwest</td>\n",
       "      <td>21984.47061</td>\n",
       "    </tr>\n",
       "    <tr>\n",
       "      <th>4</th>\n",
       "      <td>32</td>\n",
       "      <td>male</td>\n",
       "      <td>28.880</td>\n",
       "      <td>0</td>\n",
       "      <td>no</td>\n",
       "      <td>northwest</td>\n",
       "      <td>3866.85520</td>\n",
       "    </tr>\n",
       "  </tbody>\n",
       "</table>\n",
       "</div>"
      ]
     },
     "metadata": {},
     "execution_count": 10
    }
   ],
   "metadata": {}
  },
  {
   "cell_type": "code",
   "execution_count": 11,
   "source": [
    "insurance.tail()"
   ],
   "outputs": [
    {
     "output_type": "execute_result",
     "data": {
      "text/plain": [
       "      age     sex    bmi  children smoker     region     charges\n",
       "1333   50    male  30.97         3     no  northwest  10600.5483\n",
       "1334   18  female  31.92         0     no  northeast   2205.9808\n",
       "1335   18  female  36.85         0     no  southeast   1629.8335\n",
       "1336   21  female  25.80         0     no  southwest   2007.9450\n",
       "1337   61  female  29.07         0    yes  northwest  29141.3603"
      ],
      "text/html": [
       "<div>\n",
       "<style scoped>\n",
       "    .dataframe tbody tr th:only-of-type {\n",
       "        vertical-align: middle;\n",
       "    }\n",
       "\n",
       "    .dataframe tbody tr th {\n",
       "        vertical-align: top;\n",
       "    }\n",
       "\n",
       "    .dataframe thead th {\n",
       "        text-align: right;\n",
       "    }\n",
       "</style>\n",
       "<table border=\"1\" class=\"dataframe\">\n",
       "  <thead>\n",
       "    <tr style=\"text-align: right;\">\n",
       "      <th></th>\n",
       "      <th>age</th>\n",
       "      <th>sex</th>\n",
       "      <th>bmi</th>\n",
       "      <th>children</th>\n",
       "      <th>smoker</th>\n",
       "      <th>region</th>\n",
       "      <th>charges</th>\n",
       "    </tr>\n",
       "  </thead>\n",
       "  <tbody>\n",
       "    <tr>\n",
       "      <th>1333</th>\n",
       "      <td>50</td>\n",
       "      <td>male</td>\n",
       "      <td>30.97</td>\n",
       "      <td>3</td>\n",
       "      <td>no</td>\n",
       "      <td>northwest</td>\n",
       "      <td>10600.5483</td>\n",
       "    </tr>\n",
       "    <tr>\n",
       "      <th>1334</th>\n",
       "      <td>18</td>\n",
       "      <td>female</td>\n",
       "      <td>31.92</td>\n",
       "      <td>0</td>\n",
       "      <td>no</td>\n",
       "      <td>northeast</td>\n",
       "      <td>2205.9808</td>\n",
       "    </tr>\n",
       "    <tr>\n",
       "      <th>1335</th>\n",
       "      <td>18</td>\n",
       "      <td>female</td>\n",
       "      <td>36.85</td>\n",
       "      <td>0</td>\n",
       "      <td>no</td>\n",
       "      <td>southeast</td>\n",
       "      <td>1629.8335</td>\n",
       "    </tr>\n",
       "    <tr>\n",
       "      <th>1336</th>\n",
       "      <td>21</td>\n",
       "      <td>female</td>\n",
       "      <td>25.80</td>\n",
       "      <td>0</td>\n",
       "      <td>no</td>\n",
       "      <td>southwest</td>\n",
       "      <td>2007.9450</td>\n",
       "    </tr>\n",
       "    <tr>\n",
       "      <th>1337</th>\n",
       "      <td>61</td>\n",
       "      <td>female</td>\n",
       "      <td>29.07</td>\n",
       "      <td>0</td>\n",
       "      <td>yes</td>\n",
       "      <td>northwest</td>\n",
       "      <td>29141.3603</td>\n",
       "    </tr>\n",
       "  </tbody>\n",
       "</table>\n",
       "</div>"
      ]
     },
     "metadata": {},
     "execution_count": 11
    }
   ],
   "metadata": {}
  },
  {
   "cell_type": "code",
   "execution_count": 12,
   "source": [
    "import sweetviz as sv\r\n",
    "\r\n",
    "my_report = sv.analyze(insurance)\r\n",
    "my_report.show_html()"
   ],
   "outputs": [
    {
     "output_type": "stream",
     "name": "stderr",
     "text": [
      "Done! Use 'show' commands to display/save.   |██████████| [100%]   00:00 -> (00:00 left)\n"
     ]
    },
    {
     "output_type": "stream",
     "name": "stdout",
     "text": [
      "Report SWEETVIZ_REPORT.html was generated! NOTEBOOK/COLAB USERS: the web browser MAY not pop up, regardless, the report IS saved in your notebook/colab files.\n"
     ]
    }
   ],
   "metadata": {}
  },
  {
   "cell_type": "code",
   "execution_count": 13,
   "source": [
    "# sex, smoker, region은 분류형(categorical) => numerical variable로 바꿔야 함\r\n",
    "# one-hot encoding \r\n",
    "insurance_one_hot = pd.get_dummies(insurance)"
   ],
   "outputs": [],
   "metadata": {}
  },
  {
   "cell_type": "code",
   "execution_count": 14,
   "source": [
    "insurance_one_hot.head()"
   ],
   "outputs": [
    {
     "output_type": "execute_result",
     "data": {
      "text/plain": [
       "   age     bmi  children      charges  sex_female  sex_male  smoker_no  \\\n",
       "0   19  27.900         0  16884.92400           1         0          0   \n",
       "1   18  33.770         1   1725.55230           0         1          1   \n",
       "2   28  33.000         3   4449.46200           0         1          1   \n",
       "3   33  22.705         0  21984.47061           0         1          1   \n",
       "4   32  28.880         0   3866.85520           0         1          1   \n",
       "\n",
       "   smoker_yes  region_northeast  region_northwest  region_southeast  \\\n",
       "0           1                 0                 0                 0   \n",
       "1           0                 0                 0                 1   \n",
       "2           0                 0                 0                 1   \n",
       "3           0                 0                 1                 0   \n",
       "4           0                 0                 1                 0   \n",
       "\n",
       "   region_southwest  \n",
       "0                 1  \n",
       "1                 0  \n",
       "2                 0  \n",
       "3                 0  \n",
       "4                 0  "
      ],
      "text/html": [
       "<div>\n",
       "<style scoped>\n",
       "    .dataframe tbody tr th:only-of-type {\n",
       "        vertical-align: middle;\n",
       "    }\n",
       "\n",
       "    .dataframe tbody tr th {\n",
       "        vertical-align: top;\n",
       "    }\n",
       "\n",
       "    .dataframe thead th {\n",
       "        text-align: right;\n",
       "    }\n",
       "</style>\n",
       "<table border=\"1\" class=\"dataframe\">\n",
       "  <thead>\n",
       "    <tr style=\"text-align: right;\">\n",
       "      <th></th>\n",
       "      <th>age</th>\n",
       "      <th>bmi</th>\n",
       "      <th>children</th>\n",
       "      <th>charges</th>\n",
       "      <th>sex_female</th>\n",
       "      <th>sex_male</th>\n",
       "      <th>smoker_no</th>\n",
       "      <th>smoker_yes</th>\n",
       "      <th>region_northeast</th>\n",
       "      <th>region_northwest</th>\n",
       "      <th>region_southeast</th>\n",
       "      <th>region_southwest</th>\n",
       "    </tr>\n",
       "  </thead>\n",
       "  <tbody>\n",
       "    <tr>\n",
       "      <th>0</th>\n",
       "      <td>19</td>\n",
       "      <td>27.900</td>\n",
       "      <td>0</td>\n",
       "      <td>16884.92400</td>\n",
       "      <td>1</td>\n",
       "      <td>0</td>\n",
       "      <td>0</td>\n",
       "      <td>1</td>\n",
       "      <td>0</td>\n",
       "      <td>0</td>\n",
       "      <td>0</td>\n",
       "      <td>1</td>\n",
       "    </tr>\n",
       "    <tr>\n",
       "      <th>1</th>\n",
       "      <td>18</td>\n",
       "      <td>33.770</td>\n",
       "      <td>1</td>\n",
       "      <td>1725.55230</td>\n",
       "      <td>0</td>\n",
       "      <td>1</td>\n",
       "      <td>1</td>\n",
       "      <td>0</td>\n",
       "      <td>0</td>\n",
       "      <td>0</td>\n",
       "      <td>1</td>\n",
       "      <td>0</td>\n",
       "    </tr>\n",
       "    <tr>\n",
       "      <th>2</th>\n",
       "      <td>28</td>\n",
       "      <td>33.000</td>\n",
       "      <td>3</td>\n",
       "      <td>4449.46200</td>\n",
       "      <td>0</td>\n",
       "      <td>1</td>\n",
       "      <td>1</td>\n",
       "      <td>0</td>\n",
       "      <td>0</td>\n",
       "      <td>0</td>\n",
       "      <td>1</td>\n",
       "      <td>0</td>\n",
       "    </tr>\n",
       "    <tr>\n",
       "      <th>3</th>\n",
       "      <td>33</td>\n",
       "      <td>22.705</td>\n",
       "      <td>0</td>\n",
       "      <td>21984.47061</td>\n",
       "      <td>0</td>\n",
       "      <td>1</td>\n",
       "      <td>1</td>\n",
       "      <td>0</td>\n",
       "      <td>0</td>\n",
       "      <td>1</td>\n",
       "      <td>0</td>\n",
       "      <td>0</td>\n",
       "    </tr>\n",
       "    <tr>\n",
       "      <th>4</th>\n",
       "      <td>32</td>\n",
       "      <td>28.880</td>\n",
       "      <td>0</td>\n",
       "      <td>3866.85520</td>\n",
       "      <td>0</td>\n",
       "      <td>1</td>\n",
       "      <td>1</td>\n",
       "      <td>0</td>\n",
       "      <td>0</td>\n",
       "      <td>1</td>\n",
       "      <td>0</td>\n",
       "      <td>0</td>\n",
       "    </tr>\n",
       "  </tbody>\n",
       "</table>\n",
       "</div>"
      ]
     },
     "metadata": {},
     "execution_count": 14
    }
   ],
   "metadata": {}
  },
  {
   "cell_type": "code",
   "execution_count": 15,
   "source": [
    "# feature(x), label(y)로 insurance_one_hot 분리\r\n",
    "X = insurance_one_hot.drop('charges', axis=1)\r\n",
    "y = insurance_one_hot['charges']"
   ],
   "outputs": [],
   "metadata": {}
  },
  {
   "cell_type": "code",
   "execution_count": 16,
   "source": [
    "y.head()"
   ],
   "outputs": [
    {
     "output_type": "execute_result",
     "data": {
      "text/plain": [
       "0    16884.92400\n",
       "1     1725.55230\n",
       "2     4449.46200\n",
       "3    21984.47061\n",
       "4     3866.85520\n",
       "Name: charges, dtype: float64"
      ]
     },
     "metadata": {},
     "execution_count": 16
    }
   ],
   "metadata": {}
  },
  {
   "cell_type": "code",
   "execution_count": 17,
   "source": [
    "type(X), type(y) # 떼어낸 것들은 series로 타입 변경됨"
   ],
   "outputs": [
    {
     "output_type": "execute_result",
     "data": {
      "text/plain": [
       "(pandas.core.frame.DataFrame, pandas.core.series.Series)"
      ]
     },
     "metadata": {},
     "execution_count": 17
    }
   ],
   "metadata": {}
  },
  {
   "cell_type": "code",
   "execution_count": 19,
   "source": [
    "# dataset에서 feature 와 label 구분\r\n",
    "# 이제 training dataset과 test dataset으로 구분(split)\r\n",
    "from sklearn.model_selection import train_test_split\r\n",
    "X_train, X_test, y_train, y_test = train_test_split(\r\n",
    "    X,\r\n",
    "    y,\r\n",
    "    test_size = 0.2,\r\n",
    "    random_state = 42\r\n",
    ")"
   ],
   "outputs": [],
   "metadata": {}
  },
  {
   "cell_type": "code",
   "execution_count": 20,
   "source": [
    "len(X_train), len(X_test), len(y_train), len(y_test)"
   ],
   "outputs": [
    {
     "output_type": "execute_result",
     "data": {
      "text/plain": [
       "(1070, 268, 1070, 268)"
      ]
     },
     "metadata": {},
     "execution_count": 20
    }
   ],
   "metadata": {}
  },
  {
   "cell_type": "code",
   "execution_count": 21,
   "source": [
    "tf.random.set_seed(42)\r\n",
    "\r\n",
    "insurance_model = tf.keras.Sequential([\r\n",
    "    tf.keras.layers.Dense(1),\r\n",
    "    tf.keras.layers.Dense(1)\r\n",
    "])\r\n",
    "\r\n",
    "insurance_model.compile(\r\n",
    "    loss = tf.keras.losses.mae,\r\n",
    "    optimizer = tf.keras.optimizers.SGD(),\r\n",
    "    metrics = [\"mae\"]\r\n",
    ")\r\n",
    "\r\n",
    "# 3. 모델을 fit\r\n",
    "insurance_model.fit(X_train, y_train, epochs = 100, verbose = 0)"
   ],
   "outputs": [
    {
     "output_type": "execute_result",
     "data": {
      "text/plain": [
       "<tensorflow.python.keras.callbacks.History at 0x229d80a1280>"
      ]
     },
     "metadata": {},
     "execution_count": 21
    }
   ],
   "metadata": {}
  },
  {
   "cell_type": "code",
   "execution_count": 22,
   "source": [
    "insurance_model.evaluate(X_test, y_test)"
   ],
   "outputs": [
    {
     "output_type": "stream",
     "name": "stdout",
     "text": [
      "9/9 [==============================] - 1s 4ms/step - loss: 8628.2520 - mae: 8628.2520\n"
     ]
    },
    {
     "output_type": "execute_result",
     "data": {
      "text/plain": [
       "[8628.251953125, 8628.251953125]"
      ]
     },
     "metadata": {},
     "execution_count": 22
    }
   ],
   "metadata": {}
  },
  {
   "cell_type": "code",
   "execution_count": 23,
   "source": [
    "# 모델이 좋지 않음\r\n",
    "# 1. layer 늘려볼까\r\n",
    "# 2. layer의 neuron을 늘려볼까\r\n",
    "# 3. optimizer를 바꿔볼까"
   ],
   "outputs": [],
   "metadata": {}
  },
  {
   "cell_type": "code",
   "execution_count": 26,
   "source": [
    "tf.random.set_seed(42)\r\n",
    "\r\n",
    "insurance_model_2 = tf.keras.Sequential([\r\n",
    "    tf.keras.layers.Dense(100),\r\n",
    "    tf.keras.layers.Dense(10),\r\n",
    "    tf.keras.layers.Dense(1)\r\n",
    "])\r\n",
    "\r\n",
    "insurance_model_2.compile(\r\n",
    "    loss = tf.keras.losses.mae,\r\n",
    "    optimizer = tf.keras.optimizers.Adam(),\r\n",
    "    metrics = [\"mae\"]\r\n",
    ")\r\n",
    "\r\n",
    "# 3. 모델을 fit\r\n",
    "history = insurance_model_2.fit(X_train, y_train, epochs = 100, verbose = 0)"
   ],
   "outputs": [],
   "metadata": {}
  },
  {
   "cell_type": "code",
   "execution_count": 27,
   "source": [
    "insurance_model_2.evaluate(X_test, y_test)"
   ],
   "outputs": [
    {
     "output_type": "stream",
     "name": "stdout",
     "text": [
      "9/9 [==============================] - 0s 1ms/step - loss: 4924.5093 - mae: 4924.5093\n"
     ]
    },
    {
     "output_type": "execute_result",
     "data": {
      "text/plain": [
       "[4924.50927734375, 4924.50927734375]"
      ]
     },
     "metadata": {},
     "execution_count": 27
    }
   ],
   "metadata": {}
  },
  {
   "cell_type": "code",
   "execution_count": 29,
   "source": [
    "type(history.history)"
   ],
   "outputs": [
    {
     "output_type": "execute_result",
     "data": {
      "text/plain": [
       "dict"
      ]
     },
     "metadata": {},
     "execution_count": 29
    }
   ],
   "metadata": {}
  },
  {
   "cell_type": "code",
   "execution_count": 30,
   "source": [
    "pd.DataFrame(history.history).plot()\r\n",
    "plt.ylabel('loss')\r\n",
    "plt.xlabel('epochs')"
   ],
   "outputs": [
    {
     "output_type": "execute_result",
     "data": {
      "text/plain": [
       "Text(0.5, 0, 'epochs')"
      ]
     },
     "metadata": {},
     "execution_count": 30
    },
    {
     "output_type": "display_data",
     "data": {
      "text/plain": [
       "<Figure size 600x400 with 1 Axes>"
      ],
      "image/svg+xml": "<?xml version=\"1.0\" encoding=\"utf-8\" standalone=\"no\"?>\r\n<!DOCTYPE svg PUBLIC \"-//W3C//DTD SVG 1.1//EN\"\r\n  \"http://www.w3.org/Graphics/SVG/1.1/DTD/svg11.dtd\">\r\n<svg height=\"259.99625pt\" version=\"1.1\" viewBox=\"0 0 392.46875 259.99625\" width=\"392.46875pt\" xmlns=\"http://www.w3.org/2000/svg\" xmlns:xlink=\"http://www.w3.org/1999/xlink\">\r\n <metadata>\r\n  <rdf:RDF xmlns:cc=\"http://creativecommons.org/ns#\" xmlns:dc=\"http://purl.org/dc/elements/1.1/\" xmlns:rdf=\"http://www.w3.org/1999/02/22-rdf-syntax-ns#\">\r\n   <cc:Work>\r\n    <dc:type rdf:resource=\"http://purl.org/dc/dcmitype/StillImage\"/>\r\n    <dc:date>2021-08-22T13:41:49.978534</dc:date>\r\n    <dc:format>image/svg+xml</dc:format>\r\n    <dc:creator>\r\n     <cc:Agent>\r\n      <dc:title>Matplotlib v3.4.2, https://matplotlib.org/</dc:title>\r\n     </cc:Agent>\r\n    </dc:creator>\r\n   </cc:Work>\r\n  </rdf:RDF>\r\n </metadata>\r\n <defs>\r\n  <style type=\"text/css\">*{stroke-linecap:butt;stroke-linejoin:round;}</style>\r\n </defs>\r\n <g id=\"figure_1\">\r\n  <g id=\"patch_1\">\r\n   <path d=\"M 0 259.99625 \r\nL 392.46875 259.99625 \r\nL 392.46875 0 \r\nL 0 0 \r\nz\r\n\" style=\"fill:#ffffff;\"/>\r\n  </g>\r\n  <g id=\"axes_1\">\r\n   <g id=\"patch_2\">\r\n    <path d=\"M 50.46875 224.64 \r\nL 385.26875 224.64 \r\nL 385.26875 7.2 \r\nL 50.46875 7.2 \r\nz\r\n\" style=\"fill:#ffffff;\"/>\r\n   </g>\r\n   <g id=\"matplotlib.axis_1\">\r\n    <g id=\"xtick_1\">\r\n     <g id=\"line2d_1\">\r\n      <defs>\r\n       <path d=\"M 0 0 \r\nL 0 3.5 \r\n\" id=\"md31af80784\" style=\"stroke:#58544f;stroke-width:0.8;\"/>\r\n      </defs>\r\n      <g>\r\n       <use style=\"fill:#58544f;stroke:#58544f;stroke-width:0.8;\" x=\"65.686932\" xlink:href=\"#md31af80784\" y=\"224.64\"/>\r\n      </g>\r\n     </g>\r\n     <g id=\"text_1\">\r\n      <!-- 0 -->\r\n      <g style=\"fill:#58544f;\" transform=\"translate(63.413182 237.64)scale(0.08 -0.08)\">\r\n       <defs>\r\n        <path d=\"M 3306 1916 \r\nQ 3306 934 2939 435 \r\nQ 2572 -63 1822 -63 \r\nQ 1084 -63 711 423 \r\nQ 338 909 328 1863 \r\nL 328 2650 \r\nQ 328 3631 695 4122 \r\nQ 1063 4613 1816 4613 \r\nQ 2563 4613 2930 4134 \r\nQ 3297 3656 3306 2703 \r\nL 3306 1916 \r\nz\r\nM 2547 2766 \r\nQ 2547 3406 2372 3704 \r\nQ 2197 4003 1816 4003 \r\nQ 1444 4003 1269 3720 \r\nQ 1094 3438 1084 2838 \r\nL 1084 1806 \r\nQ 1084 1169 1262 856 \r\nQ 1441 544 1822 544 \r\nQ 2188 544 2363 833 \r\nQ 2538 1122 2547 1738 \r\nL 2547 2766 \r\nz\r\n\" id=\"Roboto-Medium-30\" transform=\"scale(0.015625)\"/>\r\n       </defs>\r\n       <use xlink:href=\"#Roboto-Medium-30\"/>\r\n      </g>\r\n     </g>\r\n    </g>\r\n    <g id=\"xtick_2\">\r\n     <g id=\"line2d_2\">\r\n      <g>\r\n       <use style=\"fill:#58544f;stroke:#58544f;stroke-width:0.8;\" x=\"127.174535\" xlink:href=\"#md31af80784\" y=\"224.64\"/>\r\n      </g>\r\n     </g>\r\n     <g id=\"text_2\">\r\n      <!-- 20 -->\r\n      <g style=\"fill:#58544f;\" transform=\"translate(122.627035 237.64)scale(0.08 -0.08)\">\r\n       <defs>\r\n        <path d=\"M 3400 0 \r\nL 341 0 \r\nL 341 522 \r\nL 1856 2175 \r\nQ 2184 2541 2323 2786 \r\nQ 2463 3031 2463 3278 \r\nQ 2463 3603 2280 3803 \r\nQ 2097 4003 1788 4003 \r\nQ 1419 4003 1216 3778 \r\nQ 1013 3553 1013 3163 \r\nL 253 3163 \r\nQ 253 3578 442 3911 \r\nQ 631 4244 982 4428 \r\nQ 1334 4613 1794 4613 \r\nQ 2456 4613 2839 4280 \r\nQ 3222 3947 3222 3359 \r\nQ 3222 3019 3030 2645 \r\nQ 2838 2272 2400 1797 \r\nL 1288 606 \r\nL 3400 606 \r\nL 3400 0 \r\nz\r\n\" id=\"Roboto-Medium-32\" transform=\"scale(0.015625)\"/>\r\n       </defs>\r\n       <use xlink:href=\"#Roboto-Medium-32\"/>\r\n       <use x=\"56.835938\" xlink:href=\"#Roboto-Medium-30\"/>\r\n      </g>\r\n     </g>\r\n    </g>\r\n    <g id=\"xtick_3\">\r\n     <g id=\"line2d_3\">\r\n      <g>\r\n       <use style=\"fill:#58544f;stroke:#58544f;stroke-width:0.8;\" x=\"188.662138\" xlink:href=\"#md31af80784\" y=\"224.64\"/>\r\n      </g>\r\n     </g>\r\n     <g id=\"text_3\">\r\n      <!-- 40 -->\r\n      <g style=\"fill:#58544f;\" transform=\"translate(184.114638 237.64)scale(0.08 -0.08)\">\r\n       <defs>\r\n        <path d=\"M 2909 1622 \r\nL 3475 1622 \r\nL 3475 1013 \r\nL 2909 1013 \r\nL 2909 0 \r\nL 2150 0 \r\nL 2150 1013 \r\nL 184 1013 \r\nL 163 1475 \r\nL 2125 4550 \r\nL 2909 4550 \r\nL 2909 1622 \r\nz\r\nM 959 1622 \r\nL 2150 1622 \r\nL 2150 3522 \r\nL 2094 3422 \r\nL 959 1622 \r\nz\r\n\" id=\"Roboto-Medium-34\" transform=\"scale(0.015625)\"/>\r\n       </defs>\r\n       <use xlink:href=\"#Roboto-Medium-34\"/>\r\n       <use x=\"56.835938\" xlink:href=\"#Roboto-Medium-30\"/>\r\n      </g>\r\n     </g>\r\n    </g>\r\n    <g id=\"xtick_4\">\r\n     <g id=\"line2d_4\">\r\n      <g>\r\n       <use style=\"fill:#58544f;stroke:#58544f;stroke-width:0.8;\" x=\"250.149742\" xlink:href=\"#md31af80784\" y=\"224.64\"/>\r\n      </g>\r\n     </g>\r\n     <g id=\"text_4\">\r\n      <!-- 60 -->\r\n      <g style=\"fill:#58544f;\" transform=\"translate(245.602242 237.64)scale(0.08 -0.08)\">\r\n       <defs>\r\n        <path d=\"M 2703 4572 \r\nL 2703 3944 \r\nL 2609 3944 \r\nQ 1972 3934 1590 3593 \r\nQ 1209 3253 1138 2628 \r\nQ 1503 3013 2072 3013 \r\nQ 2675 3013 3023 2588 \r\nQ 3372 2163 3372 1491 \r\nQ 3372 797 2964 367 \r\nQ 2556 -63 1894 -63 \r\nQ 1213 -63 789 440 \r\nQ 366 944 366 1759 \r\nL 366 2019 \r\nQ 366 3216 948 3894 \r\nQ 1531 4572 2625 4572 \r\nL 2703 4572 \r\nz\r\nM 1888 2400 \r\nQ 1638 2400 1430 2259 \r\nQ 1222 2119 1125 1884 \r\nL 1125 1653 \r\nQ 1125 1147 1337 848 \r\nQ 1550 550 1887 550 \r\nQ 2225 550 2422 803 \r\nQ 2619 1056 2619 1468 \r\nQ 2619 1881 2419 2140 \r\nQ 2219 2400 1888 2400 \r\nz\r\n\" id=\"Roboto-Medium-36\" transform=\"scale(0.015625)\"/>\r\n       </defs>\r\n       <use xlink:href=\"#Roboto-Medium-36\"/>\r\n       <use x=\"56.835938\" xlink:href=\"#Roboto-Medium-30\"/>\r\n      </g>\r\n     </g>\r\n    </g>\r\n    <g id=\"xtick_5\">\r\n     <g id=\"line2d_5\">\r\n      <g>\r\n       <use style=\"fill:#58544f;stroke:#58544f;stroke-width:0.8;\" x=\"311.637345\" xlink:href=\"#md31af80784\" y=\"224.64\"/>\r\n      </g>\r\n     </g>\r\n     <g id=\"text_5\">\r\n      <!-- 80 -->\r\n      <g style=\"fill:#58544f;\" transform=\"translate(307.089845 237.64)scale(0.08 -0.08)\">\r\n       <defs>\r\n        <path d=\"M 3206 3350 \r\nQ 3206 3016 3034 2755 \r\nQ 2863 2494 2566 2344 \r\nQ 2922 2178 3114 1890 \r\nQ 3306 1603 3306 1241 \r\nQ 3306 641 2900 289 \r\nQ 2494 -63 1819 -63 \r\nQ 1141 -63 733 290 \r\nQ 325 644 325 1241 \r\nQ 325 1606 519 1897 \r\nQ 713 2188 1063 2344 \r\nQ 769 2494 598 2755 \r\nQ 428 3016 428 3350 \r\nQ 428 3931 803 4272 \r\nQ 1178 4613 1816 4613 \r\nQ 2456 4613 2831 4272 \r\nQ 3206 3931 3206 3350 \r\nz\r\nM 2547 1278 \r\nQ 2547 1616 2345 1823 \r\nQ 2144 2031 1812 2031 \r\nQ 1481 2031 1282 1825 \r\nQ 1084 1619 1084 1278 \r\nQ 1084 944 1279 744 \r\nQ 1475 544 1819 544 \r\nQ 2163 544 2355 737 \r\nQ 2547 931 2547 1278 \r\nz\r\nM 2450 3322 \r\nQ 2450 3619 2278 3811 \r\nQ 2106 4003 1815 4003 \r\nQ 1525 4003 1356 3820 \r\nQ 1188 3638 1188 3322 \r\nQ 1188 3009 1358 2825 \r\nQ 1528 2641 1818 2641 \r\nQ 2109 2641 2279 2825 \r\nQ 2450 3009 2450 3322 \r\nz\r\n\" id=\"Roboto-Medium-38\" transform=\"scale(0.015625)\"/>\r\n       </defs>\r\n       <use xlink:href=\"#Roboto-Medium-38\"/>\r\n       <use x=\"56.835938\" xlink:href=\"#Roboto-Medium-30\"/>\r\n      </g>\r\n     </g>\r\n    </g>\r\n    <g id=\"xtick_6\">\r\n     <g id=\"line2d_6\">\r\n      <g>\r\n       <use style=\"fill:#58544f;stroke:#58544f;stroke-width:0.8;\" x=\"373.124948\" xlink:href=\"#md31af80784\" y=\"224.64\"/>\r\n      </g>\r\n     </g>\r\n     <g id=\"text_6\">\r\n      <!-- 100 -->\r\n      <g style=\"fill:#58544f;\" transform=\"translate(366.303698 237.64)scale(0.08 -0.08)\">\r\n       <defs>\r\n        <path d=\"M 2397 0 \r\nL 1641 0 \r\nL 1641 3653 \r\nL 525 3272 \r\nL 525 3913 \r\nL 2300 4566 \r\nL 2397 4566 \r\nL 2397 0 \r\nz\r\n\" id=\"Roboto-Medium-31\" transform=\"scale(0.015625)\"/>\r\n       </defs>\r\n       <use xlink:href=\"#Roboto-Medium-31\"/>\r\n       <use x=\"56.835938\" xlink:href=\"#Roboto-Medium-30\"/>\r\n       <use x=\"113.671875\" xlink:href=\"#Roboto-Medium-30\"/>\r\n      </g>\r\n     </g>\r\n    </g>\r\n    <g id=\"text_7\">\r\n     <!-- epochs -->\r\n     <g style=\"fill:#58544f;\" transform=\"translate(201.550781 250.765)scale(0.1 -0.1)\">\r\n      <defs>\r\n       <path d=\"M 1878 -63 \r\nQ 1156 -63 707 392 \r\nQ 259 847 259 1603 \r\nL 259 1697 \r\nQ 259 2203 454 2601 \r\nQ 650 3000 1003 3222 \r\nQ 1356 3444 1791 3444 \r\nQ 2481 3444 2857 3003 \r\nQ 3234 2563 3234 1756 \r\nL 3234 1450 \r\nL 1025 1450 \r\nQ 1059 1031 1304 787 \r\nQ 1550 544 1922 544 \r\nQ 2444 544 2772 966 \r\nL 3181 575 \r\nQ 2978 272 2639 104 \r\nQ 2300 -63 1878 -63 \r\nz\r\nM 1788 2834 \r\nQ 1475 2834 1283 2615 \r\nQ 1091 2397 1038 2006 \r\nL 2484 2006 \r\nL 2484 2063 \r\nQ 2459 2444 2281 2639 \r\nQ 2103 2834 1788 2834 \r\nz\r\n\" id=\"Roboto-Medium-65\" transform=\"scale(0.015625)\"/>\r\n       <path d=\"M 3350 1656 \r\nQ 3350 872 2994 404 \r\nQ 2638 -63 2038 -63 \r\nQ 1481 -63 1147 303 \r\nL 1147 -1300 \r\nL 388 -1300 \r\nL 388 3381 \r\nL 1088 3381 \r\nL 1119 3038 \r\nQ 1453 3444 2028 3444 \r\nQ 2647 3444 2998 2983 \r\nQ 3350 2522 3350 1703 \r\nL 3350 1656 \r\nz\r\nM 2594 1722 \r\nQ 2594 2228 2392 2525 \r\nQ 2191 2822 1816 2822 \r\nQ 1350 2822 1147 2438 \r\nL 1147 938 \r\nQ 1353 544 1822 544 \r\nQ 2184 544 2389 836 \r\nQ 2594 1128 2594 1722 \r\nz\r\n\" id=\"Roboto-Medium-70\" transform=\"scale(0.015625)\"/>\r\n       <path d=\"M 247 1722 \r\nQ 247 2219 444 2617 \r\nQ 641 3016 997 3230 \r\nQ 1353 3444 1816 3444 \r\nQ 2500 3444 2926 3003 \r\nQ 3353 2563 3388 1834 \r\nL 3391 1656 \r\nQ 3391 1156 3198 762 \r\nQ 3006 369 2648 153 \r\nQ 2291 -63 1822 -63 \r\nQ 1106 -63 676 414 \r\nQ 247 891 247 1684 \r\nL 247 1722 \r\nz\r\nM 1006 1656 \r\nQ 1006 1134 1222 839 \r\nQ 1438 544 1822 544 \r\nQ 2206 544 2420 844 \r\nQ 2634 1144 2634 1722 \r\nQ 2634 2234 2414 2534 \r\nQ 2194 2834 1816 2834 \r\nQ 1444 2834 1225 2539 \r\nQ 1006 2244 1006 1656 \r\nz\r\n\" id=\"Roboto-Medium-6f\" transform=\"scale(0.015625)\"/>\r\n       <path d=\"M 1778 544 \r\nQ 2063 544 2250 709 \r\nQ 2438 875 2450 1119 \r\nL 3166 1119 \r\nQ 3153 803 2968 529 \r\nQ 2784 256 2468 96 \r\nQ 2153 -63 1788 -63 \r\nQ 1078 -63 662 396 \r\nQ 247 856 247 1666 \r\nL 247 1744 \r\nQ 247 2516 659 2980 \r\nQ 1072 3444 1784 3444 \r\nQ 2388 3444 2767 3092 \r\nQ 3147 2741 3166 2169 \r\nL 2450 2169 \r\nQ 2438 2459 2252 2646 \r\nQ 2066 2834 1778 2834 \r\nQ 1409 2834 1209 2567 \r\nQ 1009 2300 1006 1756 \r\nL 1006 1634 \r\nQ 1006 1084 1204 814 \r\nQ 1403 544 1778 544 \r\nz\r\n\" id=\"Roboto-Medium-63\" transform=\"scale(0.015625)\"/>\r\n       <path d=\"M 1138 3013 \r\nQ 1509 3444 2078 3444 \r\nQ 3159 3444 3175 2209 \r\nL 3175 0 \r\nL 2416 0 \r\nL 2416 2181 \r\nQ 2416 2531 2264 2676 \r\nQ 2113 2822 1819 2822 \r\nQ 1363 2822 1138 2416 \r\nL 1138 0 \r\nL 378 0 \r\nL 378 4800 \r\nL 1138 4800 \r\nL 1138 3013 \r\nz\r\n\" id=\"Roboto-Medium-68\" transform=\"scale(0.015625)\"/>\r\n       <path d=\"M 2284 919 \r\nQ 2284 1122 2117 1228 \r\nQ 1950 1334 1562 1415 \r\nQ 1175 1497 916 1622 \r\nQ 347 1897 347 2419 \r\nQ 347 2856 715 3150 \r\nQ 1084 3444 1653 3444 \r\nQ 2259 3444 2632 3144 \r\nQ 3006 2844 3006 2366 \r\nL 2247 2366 \r\nQ 2247 2584 2084 2729 \r\nQ 1922 2875 1653 2875 \r\nQ 1403 2875 1245 2759 \r\nQ 1088 2644 1088 2450 \r\nQ 1088 2275 1234 2178 \r\nQ 1381 2081 1828 1982 \r\nQ 2275 1884 2529 1748 \r\nQ 2784 1613 2907 1422 \r\nQ 3031 1231 3031 959 \r\nQ 3031 503 2653 220 \r\nQ 2275 -63 1663 -63 \r\nQ 1247 -63 922 87 \r\nQ 597 238 415 500 \r\nQ 234 763 234 1066 \r\nL 972 1066 \r\nQ 988 797 1175 651 \r\nQ 1363 506 1672 506 \r\nQ 1972 506 2128 620 \r\nQ 2284 734 2284 919 \r\nz\r\n\" id=\"Roboto-Medium-73\" transform=\"scale(0.015625)\"/>\r\n      </defs>\r\n      <use xlink:href=\"#Roboto-Medium-65\"/>\r\n      <use x=\"53.662109\" xlink:href=\"#Roboto-Medium-70\"/>\r\n      <use x=\"109.960938\" xlink:href=\"#Roboto-Medium-6f\"/>\r\n      <use x=\"166.894531\" xlink:href=\"#Roboto-Medium-63\"/>\r\n      <use x=\"219.238281\" xlink:href=\"#Roboto-Medium-68\"/>\r\n      <use x=\"274.755859\" xlink:href=\"#Roboto-Medium-73\"/>\r\n     </g>\r\n    </g>\r\n   </g>\r\n   <g id=\"matplotlib.axis_2\">\r\n    <g id=\"ytick_1\">\r\n     <g id=\"line2d_7\">\r\n      <defs>\r\n       <path d=\"M 0 0 \r\nL -3.5 0 \r\n\" id=\"m87ac95a26b\" style=\"stroke:#58544f;stroke-width:0.8;\"/>\r\n      </defs>\r\n      <g>\r\n       <use style=\"fill:#58544f;stroke:#58544f;stroke-width:0.8;\" x=\"50.46875\" xlink:href=\"#m87ac95a26b\" y=\"192.134449\"/>\r\n      </g>\r\n     </g>\r\n     <g id=\"text_8\">\r\n      <!-- 6000 -->\r\n      <g style=\"fill:#58544f;\" transform=\"translate(25.27875 195.134449)scale(0.08 -0.08)\">\r\n       <use xlink:href=\"#Roboto-Medium-36\"/>\r\n       <use x=\"56.835938\" xlink:href=\"#Roboto-Medium-30\"/>\r\n       <use x=\"113.671875\" xlink:href=\"#Roboto-Medium-30\"/>\r\n       <use x=\"170.507812\" xlink:href=\"#Roboto-Medium-30\"/>\r\n      </g>\r\n     </g>\r\n    </g>\r\n    <g id=\"ytick_2\">\r\n     <g id=\"line2d_8\">\r\n      <g>\r\n       <use style=\"fill:#58544f;stroke:#58544f;stroke-width:0.8;\" x=\"50.46875\" xlink:href=\"#m87ac95a26b\" y=\"143.998341\"/>\r\n      </g>\r\n     </g>\r\n     <g id=\"text_9\">\r\n      <!-- 8000 -->\r\n      <g style=\"fill:#58544f;\" transform=\"translate(25.27875 146.998341)scale(0.08 -0.08)\">\r\n       <use xlink:href=\"#Roboto-Medium-38\"/>\r\n       <use x=\"56.835938\" xlink:href=\"#Roboto-Medium-30\"/>\r\n       <use x=\"113.671875\" xlink:href=\"#Roboto-Medium-30\"/>\r\n       <use x=\"170.507812\" xlink:href=\"#Roboto-Medium-30\"/>\r\n      </g>\r\n     </g>\r\n    </g>\r\n    <g id=\"ytick_3\">\r\n     <g id=\"line2d_9\">\r\n      <g>\r\n       <use style=\"fill:#58544f;stroke:#58544f;stroke-width:0.8;\" x=\"50.46875\" xlink:href=\"#m87ac95a26b\" y=\"95.862232\"/>\r\n      </g>\r\n     </g>\r\n     <g id=\"text_10\">\r\n      <!-- 10000 -->\r\n      <g style=\"fill:#58544f;\" transform=\"translate(20.73125 98.862232)scale(0.08 -0.08)\">\r\n       <use xlink:href=\"#Roboto-Medium-31\"/>\r\n       <use x=\"56.835938\" xlink:href=\"#Roboto-Medium-30\"/>\r\n       <use x=\"113.671875\" xlink:href=\"#Roboto-Medium-30\"/>\r\n       <use x=\"170.507812\" xlink:href=\"#Roboto-Medium-30\"/>\r\n       <use x=\"227.34375\" xlink:href=\"#Roboto-Medium-30\"/>\r\n      </g>\r\n     </g>\r\n    </g>\r\n    <g id=\"ytick_4\">\r\n     <g id=\"line2d_10\">\r\n      <g>\r\n       <use style=\"fill:#58544f;stroke:#58544f;stroke-width:0.8;\" x=\"50.46875\" xlink:href=\"#m87ac95a26b\" y=\"47.726124\"/>\r\n      </g>\r\n     </g>\r\n     <g id=\"text_11\">\r\n      <!-- 12000 -->\r\n      <g style=\"fill:#58544f;\" transform=\"translate(20.73125 50.726124)scale(0.08 -0.08)\">\r\n       <use xlink:href=\"#Roboto-Medium-31\"/>\r\n       <use x=\"56.835938\" xlink:href=\"#Roboto-Medium-32\"/>\r\n       <use x=\"113.671875\" xlink:href=\"#Roboto-Medium-30\"/>\r\n       <use x=\"170.507812\" xlink:href=\"#Roboto-Medium-30\"/>\r\n       <use x=\"227.34375\" xlink:href=\"#Roboto-Medium-30\"/>\r\n      </g>\r\n     </g>\r\n    </g>\r\n    <g id=\"text_12\">\r\n     <!-- loss -->\r\n     <g style=\"fill:#58544f;\" transform=\"translate(14.7 125.204375)rotate(-90)scale(0.1 -0.1)\">\r\n      <defs>\r\n       <path d=\"M 1197 0 \r\nL 438 0 \r\nL 438 4800 \r\nL 1197 4800 \r\nL 1197 0 \r\nz\r\n\" id=\"Roboto-Medium-6c\" transform=\"scale(0.015625)\"/>\r\n      </defs>\r\n      <use xlink:href=\"#Roboto-Medium-6c\"/>\r\n      <use x=\"25.537109\" xlink:href=\"#Roboto-Medium-6f\"/>\r\n      <use x=\"82.470703\" xlink:href=\"#Roboto-Medium-73\"/>\r\n      <use x=\"134.082031\" xlink:href=\"#Roboto-Medium-73\"/>\r\n     </g>\r\n    </g>\r\n   </g>\r\n   <g id=\"line2d_11\">\r\n    <path clip-path=\"url(#p4eee6ae07c)\" d=\"M 65.686932 17.083636 \r\nL 68.761312 21.14465 \r\nL 71.835692 29.686107 \r\nL 74.910072 46.38433 \r\nL 77.984452 74.061018 \r\nL 81.058833 108.913816 \r\nL 84.133213 140.444589 \r\nL 87.207593 155.338226 \r\nL 90.281973 157.737521 \r\nL 93.356353 158.22061 \r\nL 96.430733 158.660498 \r\nL 99.505114 159.187281 \r\nL 102.579494 159.678208 \r\nL 105.653874 160.208434 \r\nL 108.728254 160.663506 \r\nL 111.802634 161.188384 \r\nL 114.877014 161.671262 \r\nL 117.951395 162.228717 \r\nL 121.025775 162.759225 \r\nL 124.100155 163.320229 \r\nL 127.174535 163.757743 \r\nL 130.248915 164.427054 \r\nL 133.323295 165.022656 \r\nL 136.397676 165.613381 \r\nL 139.472056 166.036546 \r\nL 142.546436 166.806924 \r\nL 145.620816 167.480324 \r\nL 148.695196 168.145909 \r\nL 151.769576 168.812234 \r\nL 154.843957 169.457771 \r\nL 157.918337 170.190941 \r\nL 160.992717 170.857796 \r\nL 164.067097 171.593211 \r\nL 167.141477 172.324819 \r\nL 170.215857 173.128255 \r\nL 173.290238 173.944665 \r\nL 176.364618 174.800573 \r\nL 179.438998 175.534332 \r\nL 182.513378 176.430984 \r\nL 185.587758 177.257959 \r\nL 188.662138 178.03386 \r\nL 191.736519 178.668479 \r\nL 194.810899 179.377323 \r\nL 197.885279 179.936588 \r\nL 200.959659 180.255137 \r\nL 204.034039 180.679842 \r\nL 207.108419 181.089657 \r\nL 210.1828 181.420569 \r\nL 213.25718 181.761988 \r\nL 216.33156 182.079973 \r\nL 219.40594 182.428384 \r\nL 222.48032 182.689806 \r\nL 225.5547 183.018791 \r\nL 228.629081 183.351713 \r\nL 231.703461 183.673882 \r\nL 234.777841 184.007626 \r\nL 237.852221 184.316257 \r\nL 240.926601 184.668663 \r\nL 244.000981 185.019848 \r\nL 247.075362 185.278192 \r\nL 250.149742 185.740985 \r\nL 253.224122 186.044985 \r\nL 256.298502 186.480161 \r\nL 259.372882 186.886568 \r\nL 262.447262 187.292199 \r\nL 265.521643 187.706914 \r\nL 268.596023 188.011608 \r\nL 271.670403 188.552152 \r\nL 274.744783 188.94307 \r\nL 277.819163 189.429567 \r\nL 280.893543 189.902854 \r\nL 283.967924 190.359618 \r\nL 287.042304 190.702682 \r\nL 290.116684 191.379079 \r\nL 293.191064 191.885707 \r\nL 296.265444 192.249572 \r\nL 299.339824 193.02324 \r\nL 302.414205 193.577075 \r\nL 305.488585 194.177672 \r\nL 308.562965 194.830095 \r\nL 311.637345 195.463092 \r\nL 314.711725 196.122366 \r\nL 317.786105 196.807883 \r\nL 320.860486 197.614186 \r\nL 323.934866 198.26816 \r\nL 327.009246 199.08175 \r\nL 330.083626 199.968084 \r\nL 333.158006 200.811159 \r\nL 336.232386 201.745653 \r\nL 339.306767 202.738049 \r\nL 342.381147 203.600021 \r\nL 345.455527 204.791237 \r\nL 348.529907 205.798699 \r\nL 351.604287 206.910965 \r\nL 354.678667 208.183481 \r\nL 357.753048 209.251266 \r\nL 360.827428 210.554232 \r\nL 363.901808 212.088417 \r\nL 366.976188 213.484153 \r\nL 370.050568 214.756364 \r\n\" style=\"fill:none;stroke:#0088ed;stroke-linecap:square;stroke-width:1.5;\"/>\r\n   </g>\r\n   <g id=\"line2d_12\">\r\n    <path clip-path=\"url(#p4eee6ae07c)\" d=\"M 65.686932 17.083636 \r\nL 68.761312 21.14465 \r\nL 71.835692 29.686107 \r\nL 74.910072 46.38433 \r\nL 77.984452 74.061018 \r\nL 81.058833 108.913816 \r\nL 84.133213 140.444589 \r\nL 87.207593 155.338226 \r\nL 90.281973 157.737521 \r\nL 93.356353 158.22061 \r\nL 96.430733 158.660498 \r\nL 99.505114 159.187281 \r\nL 102.579494 159.678208 \r\nL 105.653874 160.208434 \r\nL 108.728254 160.663506 \r\nL 111.802634 161.188384 \r\nL 114.877014 161.671262 \r\nL 117.951395 162.228717 \r\nL 121.025775 162.759225 \r\nL 124.100155 163.320229 \r\nL 127.174535 163.757743 \r\nL 130.248915 164.427054 \r\nL 133.323295 165.022656 \r\nL 136.397676 165.613381 \r\nL 139.472056 166.036546 \r\nL 142.546436 166.806924 \r\nL 145.620816 167.480324 \r\nL 148.695196 168.145909 \r\nL 151.769576 168.812234 \r\nL 154.843957 169.457771 \r\nL 157.918337 170.190941 \r\nL 160.992717 170.857796 \r\nL 164.067097 171.593211 \r\nL 167.141477 172.324819 \r\nL 170.215857 173.128255 \r\nL 173.290238 173.944665 \r\nL 176.364618 174.800573 \r\nL 179.438998 175.534332 \r\nL 182.513378 176.430984 \r\nL 185.587758 177.257959 \r\nL 188.662138 178.03386 \r\nL 191.736519 178.668479 \r\nL 194.810899 179.377323 \r\nL 197.885279 179.936588 \r\nL 200.959659 180.255137 \r\nL 204.034039 180.679842 \r\nL 207.108419 181.089657 \r\nL 210.1828 181.420569 \r\nL 213.25718 181.761988 \r\nL 216.33156 182.079973 \r\nL 219.40594 182.428384 \r\nL 222.48032 182.689806 \r\nL 225.5547 183.018791 \r\nL 228.629081 183.351713 \r\nL 231.703461 183.673882 \r\nL 234.777841 184.007626 \r\nL 237.852221 184.316257 \r\nL 240.926601 184.668663 \r\nL 244.000981 185.019848 \r\nL 247.075362 185.278192 \r\nL 250.149742 185.740985 \r\nL 253.224122 186.044985 \r\nL 256.298502 186.480161 \r\nL 259.372882 186.886568 \r\nL 262.447262 187.292199 \r\nL 265.521643 187.706914 \r\nL 268.596023 188.011608 \r\nL 271.670403 188.552152 \r\nL 274.744783 188.94307 \r\nL 277.819163 189.429567 \r\nL 280.893543 189.902854 \r\nL 283.967924 190.359618 \r\nL 287.042304 190.702682 \r\nL 290.116684 191.379079 \r\nL 293.191064 191.885707 \r\nL 296.265444 192.249572 \r\nL 299.339824 193.02324 \r\nL 302.414205 193.577075 \r\nL 305.488585 194.177672 \r\nL 308.562965 194.830095 \r\nL 311.637345 195.463092 \r\nL 314.711725 196.122366 \r\nL 317.786105 196.807883 \r\nL 320.860486 197.614186 \r\nL 323.934866 198.26816 \r\nL 327.009246 199.08175 \r\nL 330.083626 199.968084 \r\nL 333.158006 200.811159 \r\nL 336.232386 201.745653 \r\nL 339.306767 202.738049 \r\nL 342.381147 203.600021 \r\nL 345.455527 204.791237 \r\nL 348.529907 205.798699 \r\nL 351.604287 206.910965 \r\nL 354.678667 208.183481 \r\nL 357.753048 209.251266 \r\nL 360.827428 210.554232 \r\nL 363.901808 212.088417 \r\nL 366.976188 213.484153 \r\nL 370.050568 214.756364 \r\n\" style=\"fill:none;stroke:#ff7721;stroke-linecap:square;stroke-width:1.5;\"/>\r\n   </g>\r\n   <g id=\"patch_3\">\r\n    <path d=\"M 50.46875 224.64 \r\nL 50.46875 7.2 \r\n\" style=\"fill:none;stroke:#58544f;stroke-linecap:square;stroke-linejoin:miter;stroke-width:0.8;\"/>\r\n   </g>\r\n   <g id=\"patch_4\">\r\n    <path d=\"M 385.26875 224.64 \r\nL 385.26875 7.2 \r\n\" style=\"fill:none;stroke:#58544f;stroke-linecap:square;stroke-linejoin:miter;stroke-width:0.8;\"/>\r\n   </g>\r\n   <g id=\"patch_5\">\r\n    <path d=\"M 50.46875 224.64 \r\nL 385.26875 224.64 \r\n\" style=\"fill:none;stroke:#58544f;stroke-linecap:square;stroke-linejoin:miter;stroke-width:0.8;\"/>\r\n   </g>\r\n   <g id=\"patch_6\">\r\n    <path d=\"M 50.46875 7.2 \r\nL 385.26875 7.2 \r\n\" style=\"fill:none;stroke:#58544f;stroke-linecap:square;stroke-linejoin:miter;stroke-width:0.8;\"/>\r\n   </g>\r\n   <g id=\"legend_1\">\r\n    <g id=\"patch_7\">\r\n     <path d=\"M 326.790625 44.2625 \r\nL 378.26875 44.2625 \r\nQ 380.26875 44.2625 380.26875 42.2625 \r\nL 380.26875 14.2 \r\nQ 380.26875 12.2 378.26875 12.2 \r\nL 326.790625 12.2 \r\nQ 324.790625 12.2 324.790625 14.2 \r\nL 324.790625 42.2625 \r\nQ 324.790625 44.2625 326.790625 44.2625 \r\nz\r\n\" style=\"fill:#ffffff;opacity:0.8;stroke:#cccccc;stroke-linejoin:miter;\"/>\r\n    </g>\r\n    <g id=\"line2d_13\">\r\n     <path d=\"M 328.790625 20.2 \r\nL 348.790625 20.2 \r\n\" style=\"fill:none;stroke:#0088ed;stroke-linecap:square;stroke-width:1.5;\"/>\r\n    </g>\r\n    <g id=\"line2d_14\"/>\r\n    <g id=\"text_13\">\r\n     <!-- loss -->\r\n     <g transform=\"translate(356.790625 23.7)scale(0.1 -0.1)\">\r\n      <use xlink:href=\"#Roboto-Medium-6c\"/>\r\n      <use x=\"25.537109\" xlink:href=\"#Roboto-Medium-6f\"/>\r\n      <use x=\"82.470703\" xlink:href=\"#Roboto-Medium-73\"/>\r\n      <use x=\"134.082031\" xlink:href=\"#Roboto-Medium-73\"/>\r\n     </g>\r\n    </g>\r\n    <g id=\"line2d_15\">\r\n     <path d=\"M 328.790625 34.73125 \r\nL 348.790625 34.73125 \r\n\" style=\"fill:none;stroke:#ff7721;stroke-linecap:square;stroke-width:1.5;\"/>\r\n    </g>\r\n    <g id=\"line2d_16\"/>\r\n    <g id=\"text_14\">\r\n     <!-- mae -->\r\n     <g transform=\"translate(356.790625 38.23125)scale(0.1 -0.1)\">\r\n      <defs>\r\n       <path d=\"M 1103 3381 \r\nL 1125 3028 \r\nQ 1481 3444 2100 3444 \r\nQ 2778 3444 3028 2925 \r\nQ 3397 3444 4066 3444 \r\nQ 4625 3444 4898 3134 \r\nQ 5172 2825 5178 2222 \r\nL 5178 0 \r\nL 4419 0 \r\nL 4419 2200 \r\nQ 4419 2522 4278 2672 \r\nQ 4138 2822 3813 2822 \r\nQ 3553 2822 3389 2683 \r\nQ 3225 2544 3159 2319 \r\nL 3163 0 \r\nL 2403 0 \r\nL 2403 2225 \r\nQ 2388 2822 1794 2822 \r\nQ 1338 2822 1147 2450 \r\nL 1147 0 \r\nL 388 0 \r\nL 388 3381 \r\nL 1103 3381 \r\nz\r\n\" id=\"Roboto-Medium-6d\" transform=\"scale(0.015625)\"/>\r\n       <path d=\"M 2409 0 \r\nQ 2359 97 2322 316 \r\nQ 1959 -63 1434 -63 \r\nQ 925 -63 603 228 \r\nQ 281 519 281 947 \r\nQ 281 1488 682 1777 \r\nQ 1084 2066 1831 2066 \r\nL 2297 2066 \r\nL 2297 2288 \r\nQ 2297 2550 2150 2708 \r\nQ 2003 2866 1703 2866 \r\nQ 1444 2866 1278 2736 \r\nQ 1113 2606 1113 2406 \r\nL 353 2406 \r\nQ 353 2684 537 2926 \r\nQ 722 3169 1039 3306 \r\nQ 1356 3444 1747 3444 \r\nQ 2341 3444 2694 3145 \r\nQ 3047 2847 3056 2306 \r\nL 3056 781 \r\nQ 3056 325 3184 53 \r\nL 3184 0 \r\nL 2409 0 \r\nz\r\nM 1575 547 \r\nQ 1800 547 1998 656 \r\nQ 2197 766 2297 950 \r\nL 2297 1588 \r\nL 1888 1588 \r\nQ 1466 1588 1253 1441 \r\nQ 1041 1294 1041 1025 \r\nQ 1041 806 1186 676 \r\nQ 1331 547 1575 547 \r\nz\r\n\" id=\"Roboto-Medium-61\" transform=\"scale(0.015625)\"/>\r\n      </defs>\r\n      <use xlink:href=\"#Roboto-Medium-6d\"/>\r\n      <use x=\"87.011719\" xlink:href=\"#Roboto-Medium-61\"/>\r\n      <use x=\"141.113281\" xlink:href=\"#Roboto-Medium-65\"/>\r\n     </g>\r\n    </g>\r\n   </g>\r\n  </g>\r\n </g>\r\n <defs>\r\n  <clipPath id=\"p4eee6ae07c\">\r\n   <rect height=\"217.44\" width=\"334.8\" x=\"50.46875\" y=\"7.2\"/>\r\n  </clipPath>\r\n </defs>\r\n</svg>\r\n",
      "image/png": "[encoded data removed]"
     },
     "metadata": {}
    }
   ],
   "metadata": {}
  },
  {
   "cell_type": "code",
   "execution_count": 31,
   "source": [
    "history_2 = insurance_model_2.fit(X_train, y_train, epochs=100)"
   ],
   "outputs": [
    {
     "output_type": "stream",
     "name": "stdout",
     "text": [
      "Epoch 1/100\n",
      "34/34 [==============================] - 0s 4ms/step - loss: 4989.6201 - mae: 4989.6201\n",
      "Epoch 2/100\n",
      "34/34 [==============================] - 0s 4ms/step - loss: 4915.0635 - mae: 4915.0635\n",
      "Epoch 3/100\n",
      "34/34 [==============================] - 0s 4ms/step - loss: 4841.5186 - mae: 4841.5186\n",
      "Epoch 4/100\n",
      "34/34 [==============================] - 0s 8ms/step - loss: 4761.9346 - mae: 4761.9346\n",
      "Epoch 5/100\n",
      "34/34 [==============================] - 0s 7ms/step - loss: 4682.8105 - mae: 4682.8105\n",
      "Epoch 6/100\n",
      "34/34 [==============================] - 0s 7ms/step - loss: 4606.6265 - mae: 4606.6265\n",
      "Epoch 7/100\n",
      "34/34 [==============================] - 0s 6ms/step - loss: 4510.3018 - mae: 4510.3018\n",
      "Epoch 8/100\n",
      "34/34 [==============================] - 0s 4ms/step - loss: 4421.1680 - mae: 4421.1680\n",
      "Epoch 9/100\n",
      "34/34 [==============================] - 0s 2ms/step - loss: 4349.3481 - mae: 4349.3481\n",
      "Epoch 10/100\n",
      "34/34 [==============================] - 0s 3ms/step - loss: 4256.1733 - mae: 4256.1733\n",
      "Epoch 11/100\n",
      "34/34 [==============================] - 0s 4ms/step - loss: 4174.3716 - mae: 4174.3716\n",
      "Epoch 12/100\n",
      "34/34 [==============================] - 0s 4ms/step - loss: 4101.9194 - mae: 4101.9194\n",
      "Epoch 13/100\n",
      "34/34 [==============================] - 0s 3ms/step - loss: 4029.7817 - mae: 4029.7817\n",
      "Epoch 14/100\n",
      "34/34 [==============================] - 0s 2ms/step - loss: 3978.0471 - mae: 3978.0471\n",
      "Epoch 15/100\n",
      "34/34 [==============================] - 0s 3ms/step - loss: 3937.7029 - mae: 3937.7029\n",
      "Epoch 16/100\n",
      "34/34 [==============================] - 0s 3ms/step - loss: 3906.0911 - mae: 3906.0911\n",
      "Epoch 17/100\n",
      "34/34 [==============================] - 0s 3ms/step - loss: 3895.5471 - mae: 3895.5471\n",
      "Epoch 18/100\n",
      "34/34 [==============================] - 0s 4ms/step - loss: 3861.8894 - mae: 3861.8894\n",
      "Epoch 19/100\n",
      "34/34 [==============================] - 0s 3ms/step - loss: 3852.1711 - mae: 3852.1711\n",
      "Epoch 20/100\n",
      "34/34 [==============================] - 0s 5ms/step - loss: 3842.0264 - mae: 3842.0264\n",
      "Epoch 21/100\n",
      "34/34 [==============================] - 0s 4ms/step - loss: 3825.8000 - mae: 3825.8000\n",
      "Epoch 22/100\n",
      "34/34 [==============================] - 0s 2ms/step - loss: 3814.2595 - mae: 3814.2595\n",
      "Epoch 23/100\n",
      "34/34 [==============================] - 0s 2ms/step - loss: 3806.0984 - mae: 3806.0984\n",
      "Epoch 24/100\n",
      "34/34 [==============================] - 0s 5ms/step - loss: 3802.9600 - mae: 3802.9600\n",
      "Epoch 25/100\n",
      "34/34 [==============================] - 0s 4ms/step - loss: 3804.9297 - mae: 3804.9297\n",
      "Epoch 26/100\n",
      "34/34 [==============================] - 0s 3ms/step - loss: 3792.4849 - mae: 3792.4849\n",
      "Epoch 27/100\n",
      "34/34 [==============================] - 0s 3ms/step - loss: 3787.2520 - mae: 3787.2520\n",
      "Epoch 28/100\n",
      "34/34 [==============================] - 0s 3ms/step - loss: 3797.0776 - mae: 3797.0776\n",
      "Epoch 29/100\n",
      "34/34 [==============================] - 0s 3ms/step - loss: 3780.1111 - mae: 3780.1111\n",
      "Epoch 30/100\n",
      "34/34 [==============================] - 0s 3ms/step - loss: 3784.1096 - mae: 3784.1096\n",
      "Epoch 31/100\n",
      "34/34 [==============================] - 0s 2ms/step - loss: 3784.2095 - mae: 3784.2095\n",
      "Epoch 32/100\n",
      "34/34 [==============================] - 0s 4ms/step - loss: 3777.1907 - mae: 3777.1907\n",
      "Epoch 33/100\n",
      "34/34 [==============================] - 0s 6ms/step - loss: 3778.4551 - mae: 3778.4551\n",
      "Epoch 34/100\n",
      "34/34 [==============================] - 0s 3ms/step - loss: 3767.8069 - mae: 3767.8069\n",
      "Epoch 35/100\n",
      "34/34 [==============================] - 0s 2ms/step - loss: 3772.4829 - mae: 3772.4829\n",
      "Epoch 36/100\n",
      "34/34 [==============================] - 0s 3ms/step - loss: 3764.1106 - mae: 3764.1106\n",
      "Epoch 37/100\n",
      "34/34 [==============================] - 0s 5ms/step - loss: 3760.8943 - mae: 3760.8943\n",
      "Epoch 38/100\n",
      "34/34 [==============================] - 0s 8ms/step - loss: 3771.5098 - mae: 3771.5098\n",
      "Epoch 39/100\n",
      "34/34 [==============================] - 0s 7ms/step - loss: 3759.0046 - mae: 3759.0046\n",
      "Epoch 40/100\n",
      "34/34 [==============================] - 0s 8ms/step - loss: 3775.9097 - mae: 3775.9097\n",
      "Epoch 41/100\n",
      "34/34 [==============================] - 0s 5ms/step - loss: 3763.7759 - mae: 3763.7759\n",
      "Epoch 42/100\n",
      "34/34 [==============================] - 0s 6ms/step - loss: 3758.5117 - mae: 3758.5117\n",
      "Epoch 43/100\n",
      "34/34 [==============================] - 0s 3ms/step - loss: 3754.1248 - mae: 3754.1248\n",
      "Epoch 44/100\n",
      "34/34 [==============================] - 0s 4ms/step - loss: 3751.2180 - mae: 3751.2180\n",
      "Epoch 45/100\n",
      "34/34 [==============================] - 0s 4ms/step - loss: 3745.4622 - mae: 3745.4622\n",
      "Epoch 46/100\n",
      "34/34 [==============================] - 0s 4ms/step - loss: 3746.7639 - mae: 3746.7639\n",
      "Epoch 47/100\n",
      "34/34 [==============================] - 0s 5ms/step - loss: 3746.5671 - mae: 3746.5671\n",
      "Epoch 48/100\n",
      "34/34 [==============================] - 0s 3ms/step - loss: 3744.3445 - mae: 3744.3445\n",
      "Epoch 49/100\n",
      "34/34 [==============================] - 0s 2ms/step - loss: 3752.6350 - mae: 3752.6350\n",
      "Epoch 50/100\n",
      "34/34 [==============================] - 0s 2ms/step - loss: 3738.3909 - mae: 3738.3909\n",
      "Epoch 51/100\n",
      "34/34 [==============================] - 0s 3ms/step - loss: 3738.7554 - mae: 3738.7554\n",
      "Epoch 52/100\n",
      "34/34 [==============================] - 0s 2ms/step - loss: 3743.3381 - mae: 3743.3381\n",
      "Epoch 53/100\n",
      "34/34 [==============================] - 0s 3ms/step - loss: 3732.7981 - mae: 3732.7981\n",
      "Epoch 54/100\n",
      "34/34 [==============================] - 0s 4ms/step - loss: 3739.1243 - mae: 3739.1243\n",
      "Epoch 55/100\n",
      "34/34 [==============================] - 0s 2ms/step - loss: 3733.1467 - mae: 3733.1467\n",
      "Epoch 56/100\n",
      "34/34 [==============================] - 0s 3ms/step - loss: 3730.5566 - mae: 3730.5566\n",
      "Epoch 57/100\n",
      "34/34 [==============================] - 0s 2ms/step - loss: 3727.0022 - mae: 3727.0022\n",
      "Epoch 58/100\n",
      "34/34 [==============================] - 0s 4ms/step - loss: 3729.2688 - mae: 3729.2688\n",
      "Epoch 59/100\n",
      "34/34 [==============================] - 0s 2ms/step - loss: 3735.8792 - mae: 3735.8792\n",
      "Epoch 60/100\n",
      "34/34 [==============================] - 0s 2ms/step - loss: 3726.3210 - mae: 3726.3210\n",
      "Epoch 61/100\n",
      "34/34 [==============================] - 0s 2ms/step - loss: 3731.5574 - mae: 3731.5574\n",
      "Epoch 62/100\n",
      "34/34 [==============================] - 0s 2ms/step - loss: 3727.6770 - mae: 3727.6770\n",
      "Epoch 63/100\n",
      "34/34 [==============================] - 0s 2ms/step - loss: 3720.2693 - mae: 3720.2693\n",
      "Epoch 64/100\n",
      "34/34 [==============================] - 0s 2ms/step - loss: 3718.5593 - mae: 3718.5593\n",
      "Epoch 65/100\n",
      "34/34 [==============================] - 0s 2ms/step - loss: 3717.9246 - mae: 3717.9246\n",
      "Epoch 66/100\n",
      "34/34 [==============================] - 0s 2ms/step - loss: 3724.6357 - mae: 3724.6357\n",
      "Epoch 67/100\n",
      "34/34 [==============================] - 0s 2ms/step - loss: 3722.6169 - mae: 3722.6169\n",
      "Epoch 68/100\n",
      "34/34 [==============================] - 0s 2ms/step - loss: 3717.3608 - mae: 3717.3608\n",
      "Epoch 69/100\n",
      "34/34 [==============================] - 0s 4ms/step - loss: 3713.3701 - mae: 3713.3701\n",
      "Epoch 70/100\n",
      "34/34 [==============================] - 0s 3ms/step - loss: 3708.7378 - mae: 3708.7378\n",
      "Epoch 71/100\n",
      "34/34 [==============================] - 0s 4ms/step - loss: 3718.0105 - mae: 3718.0105\n",
      "Epoch 72/100\n",
      "34/34 [==============================] - 0s 3ms/step - loss: 3708.5759 - mae: 3708.5759\n",
      "Epoch 73/100\n",
      "34/34 [==============================] - 0s 3ms/step - loss: 3708.1277 - mae: 3708.1277\n",
      "Epoch 74/100\n",
      "34/34 [==============================] - 0s 2ms/step - loss: 3700.0342 - mae: 3700.0342\n",
      "Epoch 75/100\n",
      "34/34 [==============================] - 0s 2ms/step - loss: 3699.4534 - mae: 3699.4534\n",
      "Epoch 76/100\n",
      "34/34 [==============================] - 0s 6ms/step - loss: 3697.3816 - mae: 3697.3816\n",
      "Epoch 77/100\n",
      "34/34 [==============================] - 0s 5ms/step - loss: 3697.6641 - mae: 3697.6641\n",
      "Epoch 78/100\n",
      "34/34 [==============================] - 0s 5ms/step - loss: 3693.9990 - mae: 3693.9990\n",
      "Epoch 79/100\n",
      "34/34 [==============================] - 0s 3ms/step - loss: 3694.0103 - mae: 3694.0103\n",
      "Epoch 80/100\n",
      "34/34 [==============================] - 0s 2ms/step - loss: 3691.5747 - mae: 3691.5747\n",
      "Epoch 81/100\n",
      "34/34 [==============================] - 0s 3ms/step - loss: 3692.9548 - mae: 3692.9548\n",
      "Epoch 82/100\n",
      "34/34 [==============================] - 0s 4ms/step - loss: 3687.8008 - mae: 3687.8008\n",
      "Epoch 83/100\n",
      "34/34 [==============================] - 0s 3ms/step - loss: 3689.2424 - mae: 3689.2424\n",
      "Epoch 84/100\n",
      "34/34 [==============================] - 0s 4ms/step - loss: 3686.1238 - mae: 3686.1238\n",
      "Epoch 85/100\n",
      "34/34 [==============================] - 0s 3ms/step - loss: 3680.9663 - mae: 3680.9663\n",
      "Epoch 86/100\n",
      "34/34 [==============================] - 0s 3ms/step - loss: 3681.0669 - mae: 3681.0669\n",
      "Epoch 87/100\n",
      "34/34 [==============================] - 0s 3ms/step - loss: 3685.5459 - mae: 3685.5459\n",
      "Epoch 88/100\n",
      "34/34 [==============================] - 0s 4ms/step - loss: 3683.1353 - mae: 3683.1353\n",
      "Epoch 89/100\n",
      "34/34 [==============================] - 0s 3ms/step - loss: 3677.5867 - mae: 3677.5867\n",
      "Epoch 90/100\n",
      "34/34 [==============================] - 0s 4ms/step - loss: 3685.4531 - mae: 3685.4531\n",
      "Epoch 91/100\n",
      "34/34 [==============================] - 0s 5ms/step - loss: 3687.4490 - mae: 3687.4490\n",
      "Epoch 92/100\n",
      "34/34 [==============================] - 0s 5ms/step - loss: 3676.3840 - mae: 3676.3840\n",
      "Epoch 93/100\n",
      "34/34 [==============================] - 0s 4ms/step - loss: 3671.4824 - mae: 3671.4824\n",
      "Epoch 94/100\n",
      "34/34 [==============================] - 0s 4ms/step - loss: 3670.4834 - mae: 3670.4834\n",
      "Epoch 95/100\n",
      "34/34 [==============================] - 0s 3ms/step - loss: 3667.5630 - mae: 3667.5630\n",
      "Epoch 96/100\n",
      "34/34 [==============================] - 0s 3ms/step - loss: 3667.3906 - mae: 3667.3906\n",
      "Epoch 97/100\n",
      "34/34 [==============================] - 0s 3ms/step - loss: 3664.4419 - mae: 3664.4419\n",
      "Epoch 98/100\n",
      "34/34 [==============================] - 0s 3ms/step - loss: 3659.7524 - mae: 3659.7524\n",
      "Epoch 99/100\n",
      "34/34 [==============================] - 0s 3ms/step - loss: 3671.7759 - mae: 3671.7759\n",
      "Epoch 100/100\n",
      "34/34 [==============================] - 0s 3ms/step - loss: 3667.9414 - mae: 3667.9414\n"
     ]
    }
   ],
   "metadata": {}
  },
  {
   "cell_type": "code",
   "execution_count": 32,
   "source": [
    "insurance_model_2.evaluate(X_test, y_test)"
   ],
   "outputs": [
    {
     "output_type": "stream",
     "name": "stdout",
     "text": [
      "9/9 [==============================] - 0s 2ms/step - loss: 3495.8057 - mae: 3495.8057\n"
     ]
    },
    {
     "output_type": "execute_result",
     "data": {
      "text/plain": [
       "[3495.8056640625, 3495.8056640625]"
      ]
     },
     "metadata": {},
     "execution_count": 32
    }
   ],
   "metadata": {}
  },
  {
   "cell_type": "code",
   "execution_count": 34,
   "source": [
    "pd.DataFrame(history_2.history).plot()\r\n",
    "plt.ylabel('loss')\r\n",
    "plt.xlabel('epochs')"
   ],
   "outputs": [
    {
     "output_type": "execute_result",
     "data": {
      "text/plain": [
       "Text(0.5, 0, 'epochs')"
      ]
     },
     "metadata": {},
     "execution_count": 34
    },
    {
     "output_type": "display_data",
     "data": {
      "text/plain": [
       "<Figure size 600x400 with 1 Axes>"
      ],
      "image/svg+xml": "<?xml version=\"1.0\" encoding=\"utf-8\" standalone=\"no\"?>\r\n<!DOCTYPE svg PUBLIC \"-//W3C//DTD SVG 1.1//EN\"\r\n  \"http://www.w3.org/Graphics/SVG/1.1/DTD/svg11.dtd\">\r\n<svg height=\"259.99625pt\" version=\"1.1\" viewBox=\"0 0 387.92125 259.99625\" width=\"387.92125pt\" xmlns=\"http://www.w3.org/2000/svg\" xmlns:xlink=\"http://www.w3.org/1999/xlink\">\r\n <metadata>\r\n  <rdf:RDF xmlns:cc=\"http://creativecommons.org/ns#\" xmlns:dc=\"http://purl.org/dc/elements/1.1/\" xmlns:rdf=\"http://www.w3.org/1999/02/22-rdf-syntax-ns#\">\r\n   <cc:Work>\r\n    <dc:type rdf:resource=\"http://purl.org/dc/dcmitype/StillImage\"/>\r\n    <dc:date>2021-08-22T13:50:07.882415</dc:date>\r\n    <dc:format>image/svg+xml</dc:format>\r\n    <dc:creator>\r\n     <cc:Agent>\r\n      <dc:title>Matplotlib v3.4.2, https://matplotlib.org/</dc:title>\r\n     </cc:Agent>\r\n    </dc:creator>\r\n   </cc:Work>\r\n  </rdf:RDF>\r\n </metadata>\r\n <defs>\r\n  <style type=\"text/css\">*{stroke-linecap:butt;stroke-linejoin:round;}</style>\r\n </defs>\r\n <g id=\"figure_1\">\r\n  <g id=\"patch_1\">\r\n   <path d=\"M 0 259.99625 \r\nL 387.92125 259.99625 \r\nL 387.92125 0 \r\nL 0 0 \r\nz\r\n\" style=\"fill:#ffffff;\"/>\r\n  </g>\r\n  <g id=\"axes_1\">\r\n   <g id=\"patch_2\">\r\n    <path d=\"M 45.92125 224.64 \r\nL 380.72125 224.64 \r\nL 380.72125 7.2 \r\nL 45.92125 7.2 \r\nz\r\n\" style=\"fill:#ffffff;\"/>\r\n   </g>\r\n   <g id=\"matplotlib.axis_1\">\r\n    <g id=\"xtick_1\">\r\n     <g id=\"line2d_1\">\r\n      <defs>\r\n       <path d=\"M 0 0 \r\nL 0 3.5 \r\n\" id=\"m160a108101\" style=\"stroke:#58544f;stroke-width:0.8;\"/>\r\n      </defs>\r\n      <g>\r\n       <use style=\"fill:#58544f;stroke:#58544f;stroke-width:0.8;\" x=\"61.139432\" xlink:href=\"#m160a108101\" y=\"224.64\"/>\r\n      </g>\r\n     </g>\r\n     <g id=\"text_1\">\r\n      <!-- 0 -->\r\n      <g style=\"fill:#58544f;\" transform=\"translate(58.865682 237.64)scale(0.08 -0.08)\">\r\n       <defs>\r\n        <path d=\"M 3306 1916 \r\nQ 3306 934 2939 435 \r\nQ 2572 -63 1822 -63 \r\nQ 1084 -63 711 423 \r\nQ 338 909 328 1863 \r\nL 328 2650 \r\nQ 328 3631 695 4122 \r\nQ 1063 4613 1816 4613 \r\nQ 2563 4613 2930 4134 \r\nQ 3297 3656 3306 2703 \r\nL 3306 1916 \r\nz\r\nM 2547 2766 \r\nQ 2547 3406 2372 3704 \r\nQ 2197 4003 1816 4003 \r\nQ 1444 4003 1269 3720 \r\nQ 1094 3438 1084 2838 \r\nL 1084 1806 \r\nQ 1084 1169 1262 856 \r\nQ 1441 544 1822 544 \r\nQ 2188 544 2363 833 \r\nQ 2538 1122 2547 1738 \r\nL 2547 2766 \r\nz\r\n\" id=\"Roboto-Medium-30\" transform=\"scale(0.015625)\"/>\r\n       </defs>\r\n       <use xlink:href=\"#Roboto-Medium-30\"/>\r\n      </g>\r\n     </g>\r\n    </g>\r\n    <g id=\"xtick_2\">\r\n     <g id=\"line2d_2\">\r\n      <g>\r\n       <use style=\"fill:#58544f;stroke:#58544f;stroke-width:0.8;\" x=\"122.627035\" xlink:href=\"#m160a108101\" y=\"224.64\"/>\r\n      </g>\r\n     </g>\r\n     <g id=\"text_2\">\r\n      <!-- 20 -->\r\n      <g style=\"fill:#58544f;\" transform=\"translate(118.079535 237.64)scale(0.08 -0.08)\">\r\n       <defs>\r\n        <path d=\"M 3400 0 \r\nL 341 0 \r\nL 341 522 \r\nL 1856 2175 \r\nQ 2184 2541 2323 2786 \r\nQ 2463 3031 2463 3278 \r\nQ 2463 3603 2280 3803 \r\nQ 2097 4003 1788 4003 \r\nQ 1419 4003 1216 3778 \r\nQ 1013 3553 1013 3163 \r\nL 253 3163 \r\nQ 253 3578 442 3911 \r\nQ 631 4244 982 4428 \r\nQ 1334 4613 1794 4613 \r\nQ 2456 4613 2839 4280 \r\nQ 3222 3947 3222 3359 \r\nQ 3222 3019 3030 2645 \r\nQ 2838 2272 2400 1797 \r\nL 1288 606 \r\nL 3400 606 \r\nL 3400 0 \r\nz\r\n\" id=\"Roboto-Medium-32\" transform=\"scale(0.015625)\"/>\r\n       </defs>\r\n       <use xlink:href=\"#Roboto-Medium-32\"/>\r\n       <use x=\"56.835938\" xlink:href=\"#Roboto-Medium-30\"/>\r\n      </g>\r\n     </g>\r\n    </g>\r\n    <g id=\"xtick_3\">\r\n     <g id=\"line2d_3\">\r\n      <g>\r\n       <use style=\"fill:#58544f;stroke:#58544f;stroke-width:0.8;\" x=\"184.114638\" xlink:href=\"#m160a108101\" y=\"224.64\"/>\r\n      </g>\r\n     </g>\r\n     <g id=\"text_3\">\r\n      <!-- 40 -->\r\n      <g style=\"fill:#58544f;\" transform=\"translate(179.567138 237.64)scale(0.08 -0.08)\">\r\n       <defs>\r\n        <path d=\"M 2909 1622 \r\nL 3475 1622 \r\nL 3475 1013 \r\nL 2909 1013 \r\nL 2909 0 \r\nL 2150 0 \r\nL 2150 1013 \r\nL 184 1013 \r\nL 163 1475 \r\nL 2125 4550 \r\nL 2909 4550 \r\nL 2909 1622 \r\nz\r\nM 959 1622 \r\nL 2150 1622 \r\nL 2150 3522 \r\nL 2094 3422 \r\nL 959 1622 \r\nz\r\n\" id=\"Roboto-Medium-34\" transform=\"scale(0.015625)\"/>\r\n       </defs>\r\n       <use xlink:href=\"#Roboto-Medium-34\"/>\r\n       <use x=\"56.835938\" xlink:href=\"#Roboto-Medium-30\"/>\r\n      </g>\r\n     </g>\r\n    </g>\r\n    <g id=\"xtick_4\">\r\n     <g id=\"line2d_4\">\r\n      <g>\r\n       <use style=\"fill:#58544f;stroke:#58544f;stroke-width:0.8;\" x=\"245.602242\" xlink:href=\"#m160a108101\" y=\"224.64\"/>\r\n      </g>\r\n     </g>\r\n     <g id=\"text_4\">\r\n      <!-- 60 -->\r\n      <g style=\"fill:#58544f;\" transform=\"translate(241.054742 237.64)scale(0.08 -0.08)\">\r\n       <defs>\r\n        <path d=\"M 2703 4572 \r\nL 2703 3944 \r\nL 2609 3944 \r\nQ 1972 3934 1590 3593 \r\nQ 1209 3253 1138 2628 \r\nQ 1503 3013 2072 3013 \r\nQ 2675 3013 3023 2588 \r\nQ 3372 2163 3372 1491 \r\nQ 3372 797 2964 367 \r\nQ 2556 -63 1894 -63 \r\nQ 1213 -63 789 440 \r\nQ 366 944 366 1759 \r\nL 366 2019 \r\nQ 366 3216 948 3894 \r\nQ 1531 4572 2625 4572 \r\nL 2703 4572 \r\nz\r\nM 1888 2400 \r\nQ 1638 2400 1430 2259 \r\nQ 1222 2119 1125 1884 \r\nL 1125 1653 \r\nQ 1125 1147 1337 848 \r\nQ 1550 550 1887 550 \r\nQ 2225 550 2422 803 \r\nQ 2619 1056 2619 1468 \r\nQ 2619 1881 2419 2140 \r\nQ 2219 2400 1888 2400 \r\nz\r\n\" id=\"Roboto-Medium-36\" transform=\"scale(0.015625)\"/>\r\n       </defs>\r\n       <use xlink:href=\"#Roboto-Medium-36\"/>\r\n       <use x=\"56.835938\" xlink:href=\"#Roboto-Medium-30\"/>\r\n      </g>\r\n     </g>\r\n    </g>\r\n    <g id=\"xtick_5\">\r\n     <g id=\"line2d_5\">\r\n      <g>\r\n       <use style=\"fill:#58544f;stroke:#58544f;stroke-width:0.8;\" x=\"307.089845\" xlink:href=\"#m160a108101\" y=\"224.64\"/>\r\n      </g>\r\n     </g>\r\n     <g id=\"text_5\">\r\n      <!-- 80 -->\r\n      <g style=\"fill:#58544f;\" transform=\"translate(302.542345 237.64)scale(0.08 -0.08)\">\r\n       <defs>\r\n        <path d=\"M 3206 3350 \r\nQ 3206 3016 3034 2755 \r\nQ 2863 2494 2566 2344 \r\nQ 2922 2178 3114 1890 \r\nQ 3306 1603 3306 1241 \r\nQ 3306 641 2900 289 \r\nQ 2494 -63 1819 -63 \r\nQ 1141 -63 733 290 \r\nQ 325 644 325 1241 \r\nQ 325 1606 519 1897 \r\nQ 713 2188 1063 2344 \r\nQ 769 2494 598 2755 \r\nQ 428 3016 428 3350 \r\nQ 428 3931 803 4272 \r\nQ 1178 4613 1816 4613 \r\nQ 2456 4613 2831 4272 \r\nQ 3206 3931 3206 3350 \r\nz\r\nM 2547 1278 \r\nQ 2547 1616 2345 1823 \r\nQ 2144 2031 1812 2031 \r\nQ 1481 2031 1282 1825 \r\nQ 1084 1619 1084 1278 \r\nQ 1084 944 1279 744 \r\nQ 1475 544 1819 544 \r\nQ 2163 544 2355 737 \r\nQ 2547 931 2547 1278 \r\nz\r\nM 2450 3322 \r\nQ 2450 3619 2278 3811 \r\nQ 2106 4003 1815 4003 \r\nQ 1525 4003 1356 3820 \r\nQ 1188 3638 1188 3322 \r\nQ 1188 3009 1358 2825 \r\nQ 1528 2641 1818 2641 \r\nQ 2109 2641 2279 2825 \r\nQ 2450 3009 2450 3322 \r\nz\r\n\" id=\"Roboto-Medium-38\" transform=\"scale(0.015625)\"/>\r\n       </defs>\r\n       <use xlink:href=\"#Roboto-Medium-38\"/>\r\n       <use x=\"56.835938\" xlink:href=\"#Roboto-Medium-30\"/>\r\n      </g>\r\n     </g>\r\n    </g>\r\n    <g id=\"xtick_6\">\r\n     <g id=\"line2d_6\">\r\n      <g>\r\n       <use style=\"fill:#58544f;stroke:#58544f;stroke-width:0.8;\" x=\"368.577448\" xlink:href=\"#m160a108101\" y=\"224.64\"/>\r\n      </g>\r\n     </g>\r\n     <g id=\"text_6\">\r\n      <!-- 100 -->\r\n      <g style=\"fill:#58544f;\" transform=\"translate(361.756198 237.64)scale(0.08 -0.08)\">\r\n       <defs>\r\n        <path d=\"M 2397 0 \r\nL 1641 0 \r\nL 1641 3653 \r\nL 525 3272 \r\nL 525 3913 \r\nL 2300 4566 \r\nL 2397 4566 \r\nL 2397 0 \r\nz\r\n\" id=\"Roboto-Medium-31\" transform=\"scale(0.015625)\"/>\r\n       </defs>\r\n       <use xlink:href=\"#Roboto-Medium-31\"/>\r\n       <use x=\"56.835938\" xlink:href=\"#Roboto-Medium-30\"/>\r\n       <use x=\"113.671875\" xlink:href=\"#Roboto-Medium-30\"/>\r\n      </g>\r\n     </g>\r\n    </g>\r\n    <g id=\"text_7\">\r\n     <!-- epochs -->\r\n     <g style=\"fill:#58544f;\" transform=\"translate(197.003281 250.765)scale(0.1 -0.1)\">\r\n      <defs>\r\n       <path d=\"M 1878 -63 \r\nQ 1156 -63 707 392 \r\nQ 259 847 259 1603 \r\nL 259 1697 \r\nQ 259 2203 454 2601 \r\nQ 650 3000 1003 3222 \r\nQ 1356 3444 1791 3444 \r\nQ 2481 3444 2857 3003 \r\nQ 3234 2563 3234 1756 \r\nL 3234 1450 \r\nL 1025 1450 \r\nQ 1059 1031 1304 787 \r\nQ 1550 544 1922 544 \r\nQ 2444 544 2772 966 \r\nL 3181 575 \r\nQ 2978 272 2639 104 \r\nQ 2300 -63 1878 -63 \r\nz\r\nM 1788 2834 \r\nQ 1475 2834 1283 2615 \r\nQ 1091 2397 1038 2006 \r\nL 2484 2006 \r\nL 2484 2063 \r\nQ 2459 2444 2281 2639 \r\nQ 2103 2834 1788 2834 \r\nz\r\n\" id=\"Roboto-Medium-65\" transform=\"scale(0.015625)\"/>\r\n       <path d=\"M 3350 1656 \r\nQ 3350 872 2994 404 \r\nQ 2638 -63 2038 -63 \r\nQ 1481 -63 1147 303 \r\nL 1147 -1300 \r\nL 388 -1300 \r\nL 388 3381 \r\nL 1088 3381 \r\nL 1119 3038 \r\nQ 1453 3444 2028 3444 \r\nQ 2647 3444 2998 2983 \r\nQ 3350 2522 3350 1703 \r\nL 3350 1656 \r\nz\r\nM 2594 1722 \r\nQ 2594 2228 2392 2525 \r\nQ 2191 2822 1816 2822 \r\nQ 1350 2822 1147 2438 \r\nL 1147 938 \r\nQ 1353 544 1822 544 \r\nQ 2184 544 2389 836 \r\nQ 2594 1128 2594 1722 \r\nz\r\n\" id=\"Roboto-Medium-70\" transform=\"scale(0.015625)\"/>\r\n       <path d=\"M 247 1722 \r\nQ 247 2219 444 2617 \r\nQ 641 3016 997 3230 \r\nQ 1353 3444 1816 3444 \r\nQ 2500 3444 2926 3003 \r\nQ 3353 2563 3388 1834 \r\nL 3391 1656 \r\nQ 3391 1156 3198 762 \r\nQ 3006 369 2648 153 \r\nQ 2291 -63 1822 -63 \r\nQ 1106 -63 676 414 \r\nQ 247 891 247 1684 \r\nL 247 1722 \r\nz\r\nM 1006 1656 \r\nQ 1006 1134 1222 839 \r\nQ 1438 544 1822 544 \r\nQ 2206 544 2420 844 \r\nQ 2634 1144 2634 1722 \r\nQ 2634 2234 2414 2534 \r\nQ 2194 2834 1816 2834 \r\nQ 1444 2834 1225 2539 \r\nQ 1006 2244 1006 1656 \r\nz\r\n\" id=\"Roboto-Medium-6f\" transform=\"scale(0.015625)\"/>\r\n       <path d=\"M 1778 544 \r\nQ 2063 544 2250 709 \r\nQ 2438 875 2450 1119 \r\nL 3166 1119 \r\nQ 3153 803 2968 529 \r\nQ 2784 256 2468 96 \r\nQ 2153 -63 1788 -63 \r\nQ 1078 -63 662 396 \r\nQ 247 856 247 1666 \r\nL 247 1744 \r\nQ 247 2516 659 2980 \r\nQ 1072 3444 1784 3444 \r\nQ 2388 3444 2767 3092 \r\nQ 3147 2741 3166 2169 \r\nL 2450 2169 \r\nQ 2438 2459 2252 2646 \r\nQ 2066 2834 1778 2834 \r\nQ 1409 2834 1209 2567 \r\nQ 1009 2300 1006 1756 \r\nL 1006 1634 \r\nQ 1006 1084 1204 814 \r\nQ 1403 544 1778 544 \r\nz\r\n\" id=\"Roboto-Medium-63\" transform=\"scale(0.015625)\"/>\r\n       <path d=\"M 1138 3013 \r\nQ 1509 3444 2078 3444 \r\nQ 3159 3444 3175 2209 \r\nL 3175 0 \r\nL 2416 0 \r\nL 2416 2181 \r\nQ 2416 2531 2264 2676 \r\nQ 2113 2822 1819 2822 \r\nQ 1363 2822 1138 2416 \r\nL 1138 0 \r\nL 378 0 \r\nL 378 4800 \r\nL 1138 4800 \r\nL 1138 3013 \r\nz\r\n\" id=\"Roboto-Medium-68\" transform=\"scale(0.015625)\"/>\r\n       <path d=\"M 2284 919 \r\nQ 2284 1122 2117 1228 \r\nQ 1950 1334 1562 1415 \r\nQ 1175 1497 916 1622 \r\nQ 347 1897 347 2419 \r\nQ 347 2856 715 3150 \r\nQ 1084 3444 1653 3444 \r\nQ 2259 3444 2632 3144 \r\nQ 3006 2844 3006 2366 \r\nL 2247 2366 \r\nQ 2247 2584 2084 2729 \r\nQ 1922 2875 1653 2875 \r\nQ 1403 2875 1245 2759 \r\nQ 1088 2644 1088 2450 \r\nQ 1088 2275 1234 2178 \r\nQ 1381 2081 1828 1982 \r\nQ 2275 1884 2529 1748 \r\nQ 2784 1613 2907 1422 \r\nQ 3031 1231 3031 959 \r\nQ 3031 503 2653 220 \r\nQ 2275 -63 1663 -63 \r\nQ 1247 -63 922 87 \r\nQ 597 238 415 500 \r\nQ 234 763 234 1066 \r\nL 972 1066 \r\nQ 988 797 1175 651 \r\nQ 1363 506 1672 506 \r\nQ 1972 506 2128 620 \r\nQ 2284 734 2284 919 \r\nz\r\n\" id=\"Roboto-Medium-73\" transform=\"scale(0.015625)\"/>\r\n      </defs>\r\n      <use xlink:href=\"#Roboto-Medium-65\"/>\r\n      <use x=\"53.662109\" xlink:href=\"#Roboto-Medium-70\"/>\r\n      <use x=\"109.960938\" xlink:href=\"#Roboto-Medium-6f\"/>\r\n      <use x=\"166.894531\" xlink:href=\"#Roboto-Medium-63\"/>\r\n      <use x=\"219.238281\" xlink:href=\"#Roboto-Medium-68\"/>\r\n      <use x=\"274.755859\" xlink:href=\"#Roboto-Medium-73\"/>\r\n     </g>\r\n    </g>\r\n   </g>\r\n   <g id=\"matplotlib.axis_2\">\r\n    <g id=\"ytick_1\">\r\n     <g id=\"line2d_7\">\r\n      <defs>\r\n       <path d=\"M 0 0 \r\nL -3.5 0 \r\n\" id=\"mb8f446aae9\" style=\"stroke:#58544f;stroke-width:0.8;\"/>\r\n      </defs>\r\n      <g>\r\n       <use style=\"fill:#58544f;stroke:#58544f;stroke-width:0.8;\" x=\"45.92125\" xlink:href=\"#mb8f446aae9\" y=\"223.63802\"/>\r\n      </g>\r\n     </g>\r\n     <g id=\"text_8\">\r\n      <!-- 3600 -->\r\n      <g style=\"fill:#58544f;\" transform=\"translate(20.73125 226.63802)scale(0.08 -0.08)\">\r\n       <defs>\r\n        <path d=\"M 1219 2622 \r\nL 1681 2622 \r\nQ 2031 2625 2236 2803 \r\nQ 2441 2981 2441 3319 \r\nQ 2441 3644 2270 3823 \r\nQ 2100 4003 1750 4003 \r\nQ 1444 4003 1247 3826 \r\nQ 1050 3650 1050 3366 \r\nL 291 3366 \r\nQ 291 3716 477 4003 \r\nQ 663 4291 995 4452 \r\nQ 1328 4613 1741 4613 \r\nQ 2422 4613 2811 4270 \r\nQ 3200 3928 3200 3319 \r\nQ 3200 3013 3004 2742 \r\nQ 2809 2472 2500 2334 \r\nQ 2875 2206 3070 1931 \r\nQ 3266 1656 3266 1275 \r\nQ 3266 663 2845 300 \r\nQ 2425 -63 1741 -63 \r\nQ 1084 -63 665 287 \r\nQ 247 638 247 1219 \r\nL 1006 1219 \r\nQ 1006 919 1207 731 \r\nQ 1409 544 1750 544 \r\nQ 2103 544 2306 731 \r\nQ 2509 919 2509 1275 \r\nQ 2509 1634 2296 1828 \r\nQ 2084 2022 1666 2022 \r\nL 1219 2022 \r\nL 1219 2622 \r\nz\r\n\" id=\"Roboto-Medium-33\" transform=\"scale(0.015625)\"/>\r\n       </defs>\r\n       <use xlink:href=\"#Roboto-Medium-33\"/>\r\n       <use x=\"56.835938\" xlink:href=\"#Roboto-Medium-36\"/>\r\n       <use x=\"113.671875\" xlink:href=\"#Roboto-Medium-30\"/>\r\n       <use x=\"170.507812\" xlink:href=\"#Roboto-Medium-30\"/>\r\n      </g>\r\n     </g>\r\n    </g>\r\n    <g id=\"ytick_2\">\r\n     <g id=\"line2d_8\">\r\n      <g>\r\n       <use style=\"fill:#58544f;stroke:#58544f;stroke-width:0.8;\" x=\"45.92125\" xlink:href=\"#mb8f446aae9\" y=\"193.90984\"/>\r\n      </g>\r\n     </g>\r\n     <g id=\"text_9\">\r\n      <!-- 3800 -->\r\n      <g style=\"fill:#58544f;\" transform=\"translate(20.73125 196.90984)scale(0.08 -0.08)\">\r\n       <use xlink:href=\"#Roboto-Medium-33\"/>\r\n       <use x=\"56.835938\" xlink:href=\"#Roboto-Medium-38\"/>\r\n       <use x=\"113.671875\" xlink:href=\"#Roboto-Medium-30\"/>\r\n       <use x=\"170.507812\" xlink:href=\"#Roboto-Medium-30\"/>\r\n      </g>\r\n     </g>\r\n    </g>\r\n    <g id=\"ytick_3\">\r\n     <g id=\"line2d_9\">\r\n      <g>\r\n       <use style=\"fill:#58544f;stroke:#58544f;stroke-width:0.8;\" x=\"45.92125\" xlink:href=\"#mb8f446aae9\" y=\"164.181661\"/>\r\n      </g>\r\n     </g>\r\n     <g id=\"text_10\">\r\n      <!-- 4000 -->\r\n      <g style=\"fill:#58544f;\" transform=\"translate(20.73125 167.181661)scale(0.08 -0.08)\">\r\n       <use xlink:href=\"#Roboto-Medium-34\"/>\r\n       <use x=\"56.835938\" xlink:href=\"#Roboto-Medium-30\"/>\r\n       <use x=\"113.671875\" xlink:href=\"#Roboto-Medium-30\"/>\r\n       <use x=\"170.507812\" xlink:href=\"#Roboto-Medium-30\"/>\r\n      </g>\r\n     </g>\r\n    </g>\r\n    <g id=\"ytick_4\">\r\n     <g id=\"line2d_10\">\r\n      <g>\r\n       <use style=\"fill:#58544f;stroke:#58544f;stroke-width:0.8;\" x=\"45.92125\" xlink:href=\"#mb8f446aae9\" y=\"134.453481\"/>\r\n      </g>\r\n     </g>\r\n     <g id=\"text_11\">\r\n      <!-- 4200 -->\r\n      <g style=\"fill:#58544f;\" transform=\"translate(20.73125 137.453481)scale(0.08 -0.08)\">\r\n       <use xlink:href=\"#Roboto-Medium-34\"/>\r\n       <use x=\"56.835938\" xlink:href=\"#Roboto-Medium-32\"/>\r\n       <use x=\"113.671875\" xlink:href=\"#Roboto-Medium-30\"/>\r\n       <use x=\"170.507812\" xlink:href=\"#Roboto-Medium-30\"/>\r\n      </g>\r\n     </g>\r\n    </g>\r\n    <g id=\"ytick_5\">\r\n     <g id=\"line2d_11\">\r\n      <g>\r\n       <use style=\"fill:#58544f;stroke:#58544f;stroke-width:0.8;\" x=\"45.92125\" xlink:href=\"#mb8f446aae9\" y=\"104.725301\"/>\r\n      </g>\r\n     </g>\r\n     <g id=\"text_12\">\r\n      <!-- 4400 -->\r\n      <g style=\"fill:#58544f;\" transform=\"translate(20.73125 107.725301)scale(0.08 -0.08)\">\r\n       <use xlink:href=\"#Roboto-Medium-34\"/>\r\n       <use x=\"56.835938\" xlink:href=\"#Roboto-Medium-34\"/>\r\n       <use x=\"113.671875\" xlink:href=\"#Roboto-Medium-30\"/>\r\n       <use x=\"170.507812\" xlink:href=\"#Roboto-Medium-30\"/>\r\n      </g>\r\n     </g>\r\n    </g>\r\n    <g id=\"ytick_6\">\r\n     <g id=\"line2d_12\">\r\n      <g>\r\n       <use style=\"fill:#58544f;stroke:#58544f;stroke-width:0.8;\" x=\"45.92125\" xlink:href=\"#mb8f446aae9\" y=\"74.997121\"/>\r\n      </g>\r\n     </g>\r\n     <g id=\"text_13\">\r\n      <!-- 4600 -->\r\n      <g style=\"fill:#58544f;\" transform=\"translate(20.73125 77.997121)scale(0.08 -0.08)\">\r\n       <use xlink:href=\"#Roboto-Medium-34\"/>\r\n       <use x=\"56.835938\" xlink:href=\"#Roboto-Medium-36\"/>\r\n       <use x=\"113.671875\" xlink:href=\"#Roboto-Medium-30\"/>\r\n       <use x=\"170.507812\" xlink:href=\"#Roboto-Medium-30\"/>\r\n      </g>\r\n     </g>\r\n    </g>\r\n    <g id=\"ytick_7\">\r\n     <g id=\"line2d_13\">\r\n      <g>\r\n       <use style=\"fill:#58544f;stroke:#58544f;stroke-width:0.8;\" x=\"45.92125\" xlink:href=\"#mb8f446aae9\" y=\"45.268941\"/>\r\n      </g>\r\n     </g>\r\n     <g id=\"text_14\">\r\n      <!-- 4800 -->\r\n      <g style=\"fill:#58544f;\" transform=\"translate(20.73125 48.268941)scale(0.08 -0.08)\">\r\n       <use xlink:href=\"#Roboto-Medium-34\"/>\r\n       <use x=\"56.835938\" xlink:href=\"#Roboto-Medium-38\"/>\r\n       <use x=\"113.671875\" xlink:href=\"#Roboto-Medium-30\"/>\r\n       <use x=\"170.507812\" xlink:href=\"#Roboto-Medium-30\"/>\r\n      </g>\r\n     </g>\r\n    </g>\r\n    <g id=\"ytick_8\">\r\n     <g id=\"line2d_14\">\r\n      <g>\r\n       <use style=\"fill:#58544f;stroke:#58544f;stroke-width:0.8;\" x=\"45.92125\" xlink:href=\"#mb8f446aae9\" y=\"15.540761\"/>\r\n      </g>\r\n     </g>\r\n     <g id=\"text_15\">\r\n      <!-- 5000 -->\r\n      <g style=\"fill:#58544f;\" transform=\"translate(20.73125 18.540761)scale(0.08 -0.08)\">\r\n       <defs>\r\n        <path d=\"M 544 2256 \r\nL 791 4550 \r\nL 3234 4550 \r\nL 3234 3894 \r\nL 1422 3894 \r\nL 1297 2806 \r\nQ 1613 2988 2009 2988 \r\nQ 2659 2988 3020 2572 \r\nQ 3381 2156 3381 1453 \r\nQ 3381 759 2981 348 \r\nQ 2581 -63 1884 -63 \r\nQ 1259 -63 848 292 \r\nQ 438 647 403 1228 \r\nL 1138 1228 \r\nQ 1181 897 1375 720 \r\nQ 1569 544 1881 544 \r\nQ 2231 544 2426 794 \r\nQ 2622 1044 2622 1475 \r\nQ 2622 1891 2406 2133 \r\nQ 2191 2375 1813 2375 \r\nQ 1606 2375 1462 2320 \r\nQ 1319 2266 1150 2106 \r\nL 544 2256 \r\nz\r\n\" id=\"Roboto-Medium-35\" transform=\"scale(0.015625)\"/>\r\n       </defs>\r\n       <use xlink:href=\"#Roboto-Medium-35\"/>\r\n       <use x=\"56.835938\" xlink:href=\"#Roboto-Medium-30\"/>\r\n       <use x=\"113.671875\" xlink:href=\"#Roboto-Medium-30\"/>\r\n       <use x=\"170.507812\" xlink:href=\"#Roboto-Medium-30\"/>\r\n      </g>\r\n     </g>\r\n    </g>\r\n    <g id=\"text_16\">\r\n     <!-- loss -->\r\n     <g style=\"fill:#58544f;\" transform=\"translate(14.7 125.204375)rotate(-90)scale(0.1 -0.1)\">\r\n      <defs>\r\n       <path d=\"M 1197 0 \r\nL 438 0 \r\nL 438 4800 \r\nL 1197 4800 \r\nL 1197 0 \r\nz\r\n\" id=\"Roboto-Medium-6c\" transform=\"scale(0.015625)\"/>\r\n      </defs>\r\n      <use xlink:href=\"#Roboto-Medium-6c\"/>\r\n      <use x=\"25.537109\" xlink:href=\"#Roboto-Medium-6f\"/>\r\n      <use x=\"82.470703\" xlink:href=\"#Roboto-Medium-73\"/>\r\n      <use x=\"134.082031\" xlink:href=\"#Roboto-Medium-73\"/>\r\n     </g>\r\n    </g>\r\n   </g>\r\n   <g id=\"line2d_15\">\r\n    <path clip-path=\"url(#p4a40efccb4)\" d=\"M 61.139432 17.083636 \r\nL 64.213812 28.165802 \r\nL 67.288192 39.097586 \r\nL 70.362572 50.927021 \r\nL 73.436952 62.688087 \r\nL 76.511333 74.012157 \r\nL 79.585713 88.329948 \r\nL 82.660093 101.578875 \r\nL 85.734473 112.254238 \r\nL 88.808853 126.103825 \r\nL 91.883233 138.262912 \r\nL 94.957614 149.032264 \r\nL 98.031994 159.754876 \r\nL 101.106374 167.444756 \r\nL 104.180754 173.44156 \r\nL 107.255134 178.140369 \r\nL 110.329514 179.707631 \r\nL 113.403895 184.710544 \r\nL 116.478275 186.155075 \r\nL 119.552655 187.663003 \r\nL 122.627035 190.074898 \r\nL 125.701415 191.790292 \r\nL 128.775795 193.00337 \r\nL 131.850176 193.469869 \r\nL 134.924556 193.177087 \r\nL 137.998936 195.026897 \r\nL 141.073316 195.804722 \r\nL 144.147696 194.344223 \r\nL 147.222076 196.866147 \r\nL 150.296457 196.271801 \r\nL 153.370837 196.256959 \r\nL 156.445217 197.300239 \r\nL 159.519597 197.112297 \r\nL 162.593977 198.695054 \r\nL 165.668357 198.000005 \r\nL 168.742738 199.244474 \r\nL 171.817118 199.722549 \r\nL 174.891498 198.144654 \r\nL 177.965878 200.003428 \r\nL 181.040258 197.490649 \r\nL 184.114638 199.294226 \r\nL 187.189019 200.076696 \r\nL 190.263399 200.728778 \r\nL 193.337779 201.160838 \r\nL 196.412159 202.016394 \r\nL 199.486539 201.8229 \r\nL 202.560919 201.852149 \r\nL 205.6353 202.182527 \r\nL 208.70968 200.950215 \r\nL 211.78406 203.067477 \r\nL 214.85844 203.013297 \r\nL 217.93282 202.332111 \r\nL 221.0072 203.898792 \r\nL 224.081581 202.958464 \r\nL 227.155961 203.846971 \r\nL 230.230341 204.231964 \r\nL 233.304721 204.760299 \r\nL 236.379101 204.42339 \r\nL 239.453481 203.440821 \r\nL 242.527862 204.861547 \r\nL 245.602242 204.083214 \r\nL 248.676622 204.659996 \r\nL 251.751002 205.761085 \r\nL 254.825382 206.015255 \r\nL 257.899762 206.109608 \r\nL 260.974143 205.112051 \r\nL 264.048523 205.412128 \r\nL 267.122903 206.193399 \r\nL 270.197283 206.786584 \r\nL 273.271663 207.475137 \r\nL 276.346043 206.096834 \r\nL 279.420424 207.499197 \r\nL 282.494804 207.565824 \r\nL 285.569184 208.76885 \r\nL 288.643564 208.855182 \r\nL 291.717944 209.163133 \r\nL 294.792324 209.121146 \r\nL 297.866705 209.665921 \r\nL 300.941085 209.664252 \r\nL 304.015465 210.026273 \r\nL 307.089845 209.82113 \r\nL 310.164225 210.587233 \r\nL 313.238605 210.372945 \r\nL 316.312986 210.836504 \r\nL 319.387366 211.603115 \r\nL 322.461746 211.588164 \r\nL 325.536126 210.922401 \r\nL 328.610506 211.280721 \r\nL 331.684886 212.105468 \r\nL 334.759267 210.936191 \r\nL 337.833647 210.639526 \r\nL 340.908027 212.284229 \r\nL 343.982407 213.012809 \r\nL 347.056787 213.161305 \r\nL 350.131167 213.595397 \r\nL 353.205548 213.621017 \r\nL 356.279928 214.059319 \r\nL 359.354308 214.756364 \r\nL 362.428688 212.969189 \r\nL 365.503068 213.539149 \r\n\" style=\"fill:none;stroke:#0088ed;stroke-linecap:square;stroke-width:1.5;\"/>\r\n   </g>\r\n   <g id=\"line2d_16\">\r\n    <path clip-path=\"url(#p4a40efccb4)\" d=\"M 61.139432 17.083636 \r\nL 64.213812 28.165802 \r\nL 67.288192 39.097586 \r\nL 70.362572 50.927021 \r\nL 73.436952 62.688087 \r\nL 76.511333 74.012157 \r\nL 79.585713 88.329948 \r\nL 82.660093 101.578875 \r\nL 85.734473 112.254238 \r\nL 88.808853 126.103825 \r\nL 91.883233 138.262912 \r\nL 94.957614 149.032264 \r\nL 98.031994 159.754876 \r\nL 101.106374 167.444756 \r\nL 104.180754 173.44156 \r\nL 107.255134 178.140369 \r\nL 110.329514 179.707631 \r\nL 113.403895 184.710544 \r\nL 116.478275 186.155075 \r\nL 119.552655 187.663003 \r\nL 122.627035 190.074898 \r\nL 125.701415 191.790292 \r\nL 128.775795 193.00337 \r\nL 131.850176 193.469869 \r\nL 134.924556 193.177087 \r\nL 137.998936 195.026897 \r\nL 141.073316 195.804722 \r\nL 144.147696 194.344223 \r\nL 147.222076 196.866147 \r\nL 150.296457 196.271801 \r\nL 153.370837 196.256959 \r\nL 156.445217 197.300239 \r\nL 159.519597 197.112297 \r\nL 162.593977 198.695054 \r\nL 165.668357 198.000005 \r\nL 168.742738 199.244474 \r\nL 171.817118 199.722549 \r\nL 174.891498 198.144654 \r\nL 177.965878 200.003428 \r\nL 181.040258 197.490649 \r\nL 184.114638 199.294226 \r\nL 187.189019 200.076696 \r\nL 190.263399 200.728778 \r\nL 193.337779 201.160838 \r\nL 196.412159 202.016394 \r\nL 199.486539 201.8229 \r\nL 202.560919 201.852149 \r\nL 205.6353 202.182527 \r\nL 208.70968 200.950215 \r\nL 211.78406 203.067477 \r\nL 214.85844 203.013297 \r\nL 217.93282 202.332111 \r\nL 221.0072 203.898792 \r\nL 224.081581 202.958464 \r\nL 227.155961 203.846971 \r\nL 230.230341 204.231964 \r\nL 233.304721 204.760299 \r\nL 236.379101 204.42339 \r\nL 239.453481 203.440821 \r\nL 242.527862 204.861547 \r\nL 245.602242 204.083214 \r\nL 248.676622 204.659996 \r\nL 251.751002 205.761085 \r\nL 254.825382 206.015255 \r\nL 257.899762 206.109608 \r\nL 260.974143 205.112051 \r\nL 264.048523 205.412128 \r\nL 267.122903 206.193399 \r\nL 270.197283 206.786584 \r\nL 273.271663 207.475137 \r\nL 276.346043 206.096834 \r\nL 279.420424 207.499197 \r\nL 282.494804 207.565824 \r\nL 285.569184 208.76885 \r\nL 288.643564 208.855182 \r\nL 291.717944 209.163133 \r\nL 294.792324 209.121146 \r\nL 297.866705 209.665921 \r\nL 300.941085 209.664252 \r\nL 304.015465 210.026273 \r\nL 307.089845 209.82113 \r\nL 310.164225 210.587233 \r\nL 313.238605 210.372945 \r\nL 316.312986 210.836504 \r\nL 319.387366 211.603115 \r\nL 322.461746 211.588164 \r\nL 325.536126 210.922401 \r\nL 328.610506 211.280721 \r\nL 331.684886 212.105468 \r\nL 334.759267 210.936191 \r\nL 337.833647 210.639526 \r\nL 340.908027 212.284229 \r\nL 343.982407 213.012809 \r\nL 347.056787 213.161305 \r\nL 350.131167 213.595397 \r\nL 353.205548 213.621017 \r\nL 356.279928 214.059319 \r\nL 359.354308 214.756364 \r\nL 362.428688 212.969189 \r\nL 365.503068 213.539149 \r\n\" style=\"fill:none;stroke:#ff7721;stroke-linecap:square;stroke-width:1.5;\"/>\r\n   </g>\r\n   <g id=\"patch_3\">\r\n    <path d=\"M 45.92125 224.64 \r\nL 45.92125 7.2 \r\n\" style=\"fill:none;stroke:#58544f;stroke-linecap:square;stroke-linejoin:miter;stroke-width:0.8;\"/>\r\n   </g>\r\n   <g id=\"patch_4\">\r\n    <path d=\"M 380.72125 224.64 \r\nL 380.72125 7.2 \r\n\" style=\"fill:none;stroke:#58544f;stroke-linecap:square;stroke-linejoin:miter;stroke-width:0.8;\"/>\r\n   </g>\r\n   <g id=\"patch_5\">\r\n    <path d=\"M 45.92125 224.64 \r\nL 380.72125 224.64 \r\n\" style=\"fill:none;stroke:#58544f;stroke-linecap:square;stroke-linejoin:miter;stroke-width:0.8;\"/>\r\n   </g>\r\n   <g id=\"patch_6\">\r\n    <path d=\"M 45.92125 7.2 \r\nL 380.72125 7.2 \r\n\" style=\"fill:none;stroke:#58544f;stroke-linecap:square;stroke-linejoin:miter;stroke-width:0.8;\"/>\r\n   </g>\r\n   <g id=\"legend_1\">\r\n    <g id=\"patch_7\">\r\n     <path d=\"M 322.243125 44.2625 \r\nL 373.72125 44.2625 \r\nQ 375.72125 44.2625 375.72125 42.2625 \r\nL 375.72125 14.2 \r\nQ 375.72125 12.2 373.72125 12.2 \r\nL 322.243125 12.2 \r\nQ 320.243125 12.2 320.243125 14.2 \r\nL 320.243125 42.2625 \r\nQ 320.243125 44.2625 322.243125 44.2625 \r\nz\r\n\" style=\"fill:#ffffff;opacity:0.8;stroke:#cccccc;stroke-linejoin:miter;\"/>\r\n    </g>\r\n    <g id=\"line2d_17\">\r\n     <path d=\"M 324.243125 20.2 \r\nL 344.243125 20.2 \r\n\" style=\"fill:none;stroke:#0088ed;stroke-linecap:square;stroke-width:1.5;\"/>\r\n    </g>\r\n    <g id=\"line2d_18\"/>\r\n    <g id=\"text_17\">\r\n     <!-- loss -->\r\n     <g transform=\"translate(352.243125 23.7)scale(0.1 -0.1)\">\r\n      <use xlink:href=\"#Roboto-Medium-6c\"/>\r\n      <use x=\"25.537109\" xlink:href=\"#Roboto-Medium-6f\"/>\r\n      <use x=\"82.470703\" xlink:href=\"#Roboto-Medium-73\"/>\r\n      <use x=\"134.082031\" xlink:href=\"#Roboto-Medium-73\"/>\r\n     </g>\r\n    </g>\r\n    <g id=\"line2d_19\">\r\n     <path d=\"M 324.243125 34.73125 \r\nL 344.243125 34.73125 \r\n\" style=\"fill:none;stroke:#ff7721;stroke-linecap:square;stroke-width:1.5;\"/>\r\n    </g>\r\n    <g id=\"line2d_20\"/>\r\n    <g id=\"text_18\">\r\n     <!-- mae -->\r\n     <g transform=\"translate(352.243125 38.23125)scale(0.1 -0.1)\">\r\n      <defs>\r\n       <path d=\"M 1103 3381 \r\nL 1125 3028 \r\nQ 1481 3444 2100 3444 \r\nQ 2778 3444 3028 2925 \r\nQ 3397 3444 4066 3444 \r\nQ 4625 3444 4898 3134 \r\nQ 5172 2825 5178 2222 \r\nL 5178 0 \r\nL 4419 0 \r\nL 4419 2200 \r\nQ 4419 2522 4278 2672 \r\nQ 4138 2822 3813 2822 \r\nQ 3553 2822 3389 2683 \r\nQ 3225 2544 3159 2319 \r\nL 3163 0 \r\nL 2403 0 \r\nL 2403 2225 \r\nQ 2388 2822 1794 2822 \r\nQ 1338 2822 1147 2450 \r\nL 1147 0 \r\nL 388 0 \r\nL 388 3381 \r\nL 1103 3381 \r\nz\r\n\" id=\"Roboto-Medium-6d\" transform=\"scale(0.015625)\"/>\r\n       <path d=\"M 2409 0 \r\nQ 2359 97 2322 316 \r\nQ 1959 -63 1434 -63 \r\nQ 925 -63 603 228 \r\nQ 281 519 281 947 \r\nQ 281 1488 682 1777 \r\nQ 1084 2066 1831 2066 \r\nL 2297 2066 \r\nL 2297 2288 \r\nQ 2297 2550 2150 2708 \r\nQ 2003 2866 1703 2866 \r\nQ 1444 2866 1278 2736 \r\nQ 1113 2606 1113 2406 \r\nL 353 2406 \r\nQ 353 2684 537 2926 \r\nQ 722 3169 1039 3306 \r\nQ 1356 3444 1747 3444 \r\nQ 2341 3444 2694 3145 \r\nQ 3047 2847 3056 2306 \r\nL 3056 781 \r\nQ 3056 325 3184 53 \r\nL 3184 0 \r\nL 2409 0 \r\nz\r\nM 1575 547 \r\nQ 1800 547 1998 656 \r\nQ 2197 766 2297 950 \r\nL 2297 1588 \r\nL 1888 1588 \r\nQ 1466 1588 1253 1441 \r\nQ 1041 1294 1041 1025 \r\nQ 1041 806 1186 676 \r\nQ 1331 547 1575 547 \r\nz\r\n\" id=\"Roboto-Medium-61\" transform=\"scale(0.015625)\"/>\r\n      </defs>\r\n      <use xlink:href=\"#Roboto-Medium-6d\"/>\r\n      <use x=\"87.011719\" xlink:href=\"#Roboto-Medium-61\"/>\r\n      <use x=\"141.113281\" xlink:href=\"#Roboto-Medium-65\"/>\r\n     </g>\r\n    </g>\r\n   </g>\r\n  </g>\r\n </g>\r\n <defs>\r\n  <clipPath id=\"p4a40efccb4\">\r\n   <rect height=\"217.44\" width=\"334.8\" x=\"45.92125\" y=\"7.2\"/>\r\n  </clipPath>\r\n </defs>\r\n</svg>\r\n",
      "image/png": "[encoded data removed]"
     },
     "metadata": {}
    }
   ],
   "metadata": {}
  },
  {
   "cell_type": "code",
   "execution_count": 36,
   "source": [
    "history_3 = insurance_model_2.fit(X_train, y_train, epochs=100)"
   ],
   "outputs": [
    {
     "output_type": "stream",
     "name": "stdout",
     "text": [
      "Epoch 1/100\n",
      "34/34 [==============================] - 0s 4ms/step - loss: 3657.6953 - mae: 3657.6953\n",
      "Epoch 2/100\n",
      "34/34 [==============================] - 0s 5ms/step - loss: 3651.6064 - mae: 3651.6064\n",
      "Epoch 3/100\n",
      "34/34 [==============================] - 0s 4ms/step - loss: 3654.1047 - mae: 3654.1047\n",
      "Epoch 4/100\n",
      "34/34 [==============================] - 0s 5ms/step - loss: 3654.4329 - mae: 3654.4329\n",
      "Epoch 5/100\n",
      "34/34 [==============================] - 0s 7ms/step - loss: 3653.3511 - mae: 3653.3511\n",
      "Epoch 6/100\n",
      "34/34 [==============================] - 0s 3ms/step - loss: 3660.8716 - mae: 3660.8716\n",
      "Epoch 7/100\n",
      "34/34 [==============================] - 0s 3ms/step - loss: 3651.4697 - mae: 3651.4697\n",
      "Epoch 8/100\n",
      "34/34 [==============================] - 0s 3ms/step - loss: 3648.3267 - mae: 3648.3267\n",
      "Epoch 9/100\n",
      "34/34 [==============================] - 0s 3ms/step - loss: 3644.4326 - mae: 3644.4326\n",
      "Epoch 10/100\n",
      "34/34 [==============================] - 0s 4ms/step - loss: 3653.6536 - mae: 3653.6536\n",
      "Epoch 11/100\n",
      "34/34 [==============================] - 0s 5ms/step - loss: 3647.4338 - mae: 3647.4338\n",
      "Epoch 12/100\n",
      "34/34 [==============================] - 0s 3ms/step - loss: 3640.0317 - mae: 3640.0317\n",
      "Epoch 13/100\n",
      "34/34 [==============================] - 0s 2ms/step - loss: 3638.7253 - mae: 3638.7253\n",
      "Epoch 14/100\n",
      "34/34 [==============================] - 0s 3ms/step - loss: 3643.6436 - mae: 3643.6436\n",
      "Epoch 15/100\n",
      "34/34 [==============================] - 0s 3ms/step - loss: 3633.9934 - mae: 3633.9934\n",
      "Epoch 16/100\n",
      "34/34 [==============================] - 0s 3ms/step - loss: 3638.1187 - mae: 3638.1187\n",
      "Epoch 17/100\n",
      "34/34 [==============================] - 0s 2ms/step - loss: 3636.7156 - mae: 3636.7156\n",
      "Epoch 18/100\n",
      "34/34 [==============================] - 0s 5ms/step - loss: 3627.1392 - mae: 3627.1392\n",
      "Epoch 19/100\n",
      "34/34 [==============================] - 0s 9ms/step - loss: 3632.1504 - mae: 3632.1504\n",
      "Epoch 20/100\n",
      "34/34 [==============================] - 0s 5ms/step - loss: 3631.2722 - mae: 3631.2722\n",
      "Epoch 21/100\n",
      "34/34 [==============================] - 0s 3ms/step - loss: 3633.4016 - mae: 3633.4016\n",
      "Epoch 22/100\n",
      "34/34 [==============================] - 0s 6ms/step - loss: 3624.4946 - mae: 3624.4946\n",
      "Epoch 23/100\n",
      "34/34 [==============================] - 0s 3ms/step - loss: 3621.9722 - mae: 3621.9722\n",
      "Epoch 24/100\n",
      "34/34 [==============================] - 0s 5ms/step - loss: 3625.5933 - mae: 3625.5933\n",
      "Epoch 25/100\n",
      "34/34 [==============================] - 0s 2ms/step - loss: 3626.3813 - mae: 3626.3813\n",
      "Epoch 26/100\n",
      "34/34 [==============================] - 0s 3ms/step - loss: 3614.4114 - mae: 3614.4114\n",
      "Epoch 27/100\n",
      "34/34 [==============================] - 0s 3ms/step - loss: 3613.2581 - mae: 3613.2581\n",
      "Epoch 28/100\n",
      "34/34 [==============================] - 0s 5ms/step - loss: 3624.1482 - mae: 3624.1482\n",
      "Epoch 29/100\n",
      "34/34 [==============================] - 0s 5ms/step - loss: 3613.2546 - mae: 3613.2546\n",
      "Epoch 30/100\n",
      "34/34 [==============================] - 0s 3ms/step - loss: 3615.3335 - mae: 3615.3335\n",
      "Epoch 31/100\n",
      "34/34 [==============================] - 0s 6ms/step - loss: 3612.3164 - mae: 3612.3164\n",
      "Epoch 32/100\n",
      "34/34 [==============================] - 0s 5ms/step - loss: 3615.8015 - mae: 3615.8015\n",
      "Epoch 33/100\n",
      "34/34 [==============================] - 0s 4ms/step - loss: 3621.3113 - mae: 3621.3113\n",
      "Epoch 34/100\n",
      "34/34 [==============================] - 0s 3ms/step - loss: 3601.0081 - mae: 3601.0081\n",
      "Epoch 35/100\n",
      "34/34 [==============================] - 0s 4ms/step - loss: 3599.0195 - mae: 3599.0195\n",
      "Epoch 36/100\n",
      "34/34 [==============================] - 0s 5ms/step - loss: 3603.8484 - mae: 3603.8484\n",
      "Epoch 37/100\n",
      "34/34 [==============================] - 0s 4ms/step - loss: 3604.3345 - mae: 3604.3345\n",
      "Epoch 38/100\n",
      "34/34 [==============================] - 0s 3ms/step - loss: 3610.6453 - mae: 3610.6453\n",
      "Epoch 39/100\n",
      "34/34 [==============================] - 0s 6ms/step - loss: 3591.8318 - mae: 3591.8318\n",
      "Epoch 40/100\n",
      "34/34 [==============================] - 0s 5ms/step - loss: 3604.0278 - mae: 3604.0278\n",
      "Epoch 41/100\n",
      "34/34 [==============================] - 0s 4ms/step - loss: 3594.2622 - mae: 3594.2622\n",
      "Epoch 42/100\n",
      "34/34 [==============================] - 0s 3ms/step - loss: 3591.1045 - mae: 3591.1045\n",
      "Epoch 43/100\n",
      "34/34 [==============================] - 0s 3ms/step - loss: 3582.2439 - mae: 3582.2439\n",
      "Epoch 44/100\n",
      "34/34 [==============================] - 0s 4ms/step - loss: 3580.9546 - mae: 3580.9546\n",
      "Epoch 45/100\n",
      "34/34 [==============================] - 0s 4ms/step - loss: 3573.9104 - mae: 3573.9104\n",
      "Epoch 46/100\n",
      "34/34 [==============================] - 0s 3ms/step - loss: 3576.7817 - mae: 3576.7817\n",
      "Epoch 47/100\n",
      "34/34 [==============================] - 0s 4ms/step - loss: 3579.3911 - mae: 3579.3911\n",
      "Epoch 48/100\n",
      "34/34 [==============================] - 0s 9ms/step - loss: 3571.3657 - mae: 3571.3657\n",
      "Epoch 49/100\n",
      "34/34 [==============================] - 0s 3ms/step - loss: 3579.4722 - mae: 3579.4722\n",
      "Epoch 50/100\n",
      "34/34 [==============================] - 0s 4ms/step - loss: 3571.2402 - mae: 3571.2402\n",
      "Epoch 51/100\n",
      "34/34 [==============================] - 0s 6ms/step - loss: 3568.4866 - mae: 3568.4866\n",
      "Epoch 52/100\n",
      "34/34 [==============================] - 0s 4ms/step - loss: 3580.1724 - mae: 3580.1724\n",
      "Epoch 53/100\n",
      "34/34 [==============================] - 0s 11ms/step - loss: 3564.6650 - mae: 3564.6650\n",
      "Epoch 54/100\n",
      "34/34 [==============================] - 0s 6ms/step - loss: 3566.7349 - mae: 3566.7349\n",
      "Epoch 55/100\n",
      "34/34 [==============================] - 0s 3ms/step - loss: 3561.9048 - mae: 3561.9048\n",
      "Epoch 56/100\n",
      "34/34 [==============================] - 0s 6ms/step - loss: 3559.7346 - mae: 3559.7346\n",
      "Epoch 57/100\n",
      "34/34 [==============================] - 0s 5ms/step - loss: 3556.8203 - mae: 3556.8203\n",
      "Epoch 58/100\n",
      "34/34 [==============================] - 0s 10ms/step - loss: 3560.2017 - mae: 3560.2017\n",
      "Epoch 59/100\n",
      "34/34 [==============================] - 0s 4ms/step - loss: 3561.5947 - mae: 3561.5947\n",
      "Epoch 60/100\n",
      "34/34 [==============================] - 0s 7ms/step - loss: 3555.6658 - mae: 3555.6658\n",
      "Epoch 61/100\n",
      "34/34 [==============================] - 0s 6ms/step - loss: 3560.2126 - mae: 3560.2126\n",
      "Epoch 62/100\n",
      "34/34 [==============================] - 0s 10ms/step - loss: 3560.6660 - mae: 3560.6660\n",
      "Epoch 63/100\n",
      "34/34 [==============================] - 0s 4ms/step - loss: 3550.7827 - mae: 3550.7827\n",
      "Epoch 64/100\n",
      "34/34 [==============================] - 0s 3ms/step - loss: 3552.2349 - mae: 3552.2349\n",
      "Epoch 65/100\n",
      "34/34 [==============================] - 0s 3ms/step - loss: 3550.9277 - mae: 3550.9277\n",
      "Epoch 66/100\n",
      "34/34 [==============================] - 0s 6ms/step - loss: 3551.6511 - mae: 3551.6511\n",
      "Epoch 67/100\n",
      "34/34 [==============================] - 0s 5ms/step - loss: 3555.8821 - mae: 3555.8821\n",
      "Epoch 68/100\n",
      "34/34 [==============================] - 0s 5ms/step - loss: 3555.4106 - mae: 3555.4106\n",
      "Epoch 69/100\n",
      "34/34 [==============================] - 0s 3ms/step - loss: 3537.7798 - mae: 3537.7798\n",
      "Epoch 70/100\n",
      "34/34 [==============================] - 0s 4ms/step - loss: 3541.9578 - mae: 3541.9578\n",
      "Epoch 71/100\n",
      "34/34 [==============================] - 0s 4ms/step - loss: 3540.4585 - mae: 3540.4585\n",
      "Epoch 72/100\n",
      "34/34 [==============================] - 0s 4ms/step - loss: 3537.5613 - mae: 3537.5613\n",
      "Epoch 73/100\n",
      "34/34 [==============================] - 0s 3ms/step - loss: 3549.1494 - mae: 3549.1494\n",
      "Epoch 74/100\n",
      "34/34 [==============================] - 0s 2ms/step - loss: 3533.5408 - mae: 3533.5408\n",
      "Epoch 75/100\n",
      "34/34 [==============================] - 0s 3ms/step - loss: 3529.8516 - mae: 3529.8516\n",
      "Epoch 76/100\n",
      "34/34 [==============================] - 0s 4ms/step - loss: 3529.9626 - mae: 3529.9626\n",
      "Epoch 77/100\n",
      "34/34 [==============================] - 0s 3ms/step - loss: 3531.4751 - mae: 3531.4751\n",
      "Epoch 78/100\n",
      "34/34 [==============================] - 0s 7ms/step - loss: 3528.0962 - mae: 3528.0962\n",
      "Epoch 79/100\n",
      "34/34 [==============================] - 0s 5ms/step - loss: 3537.7129 - mae: 3537.7129\n",
      "Epoch 80/100\n",
      "34/34 [==============================] - 0s 3ms/step - loss: 3525.8848 - mae: 3525.8848\n",
      "Epoch 81/100\n",
      "34/34 [==============================] - 0s 3ms/step - loss: 3526.4458 - mae: 3526.4458\n",
      "Epoch 82/100\n",
      "34/34 [==============================] - 0s 4ms/step - loss: 3523.0376 - mae: 3523.0376\n",
      "Epoch 83/100\n",
      "34/34 [==============================] - 0s 6ms/step - loss: 3525.3149 - mae: 3525.3149\n",
      "Epoch 84/100\n",
      "34/34 [==============================] - 0s 4ms/step - loss: 3523.1924 - mae: 3523.1924\n",
      "Epoch 85/100\n",
      "34/34 [==============================] - 0s 3ms/step - loss: 3522.4202 - mae: 3522.4202\n",
      "Epoch 86/100\n",
      "34/34 [==============================] - 0s 4ms/step - loss: 3517.9417 - mae: 3517.9417\n",
      "Epoch 87/100\n",
      "34/34 [==============================] - 0s 3ms/step - loss: 3519.7102 - mae: 3519.7102\n",
      "Epoch 88/100\n",
      "34/34 [==============================] - 0s 3ms/step - loss: 3516.3911 - mae: 3516.3911\n",
      "Epoch 89/100\n",
      "34/34 [==============================] - 0s 5ms/step - loss: 3519.4368 - mae: 3519.4368\n",
      "Epoch 90/100\n",
      "34/34 [==============================] - 0s 2ms/step - loss: 3513.5266 - mae: 3513.5266\n",
      "Epoch 91/100\n",
      "34/34 [==============================] - 0s 2ms/step - loss: 3513.2834 - mae: 3513.2834\n",
      "Epoch 92/100\n",
      "34/34 [==============================] - 0s 2ms/step - loss: 3516.8115 - mae: 3516.8115\n",
      "Epoch 93/100\n",
      "34/34 [==============================] - 0s 3ms/step - loss: 3508.1821 - mae: 3508.1821\n",
      "Epoch 94/100\n",
      "34/34 [==============================] - 0s 4ms/step - loss: 3509.2627 - mae: 3509.2627\n",
      "Epoch 95/100\n",
      "34/34 [==============================] - 0s 4ms/step - loss: 3504.6177 - mae: 3504.6177\n",
      "Epoch 96/100\n",
      "34/34 [==============================] - 0s 5ms/step - loss: 3510.9854 - mae: 3510.9854\n",
      "Epoch 97/100\n",
      "34/34 [==============================] - 0s 4ms/step - loss: 3504.4336 - mae: 3504.4336\n",
      "Epoch 98/100\n",
      "34/34 [==============================] - 0s 3ms/step - loss: 3500.0938 - mae: 3500.0938\n",
      "Epoch 99/100\n",
      "34/34 [==============================] - 0s 3ms/step - loss: 3521.3467 - mae: 3521.3467\n",
      "Epoch 100/100\n",
      "34/34 [==============================] - 0s 3ms/step - loss: 3511.7959 - mae: 3511.7959\n"
     ]
    }
   ],
   "metadata": {}
  },
  {
   "cell_type": "code",
   "execution_count": 37,
   "source": [
    "# Preprocessing data (normalization 그리고 standadization)\r\n",
    "# 기본 concept : 신경망(neural network)에 전달하는 data의 값을 0 ~ 1사이로 맞춰줌\r\n",
    "# normalization : 원래 값들의 범위를 0~1 사이로 조정\r\n",
    "# standardizatoin : 데이터를 평균이 0인 상태에서 분산으로 조정\r\n",
    "# Comuter vision의 경우 : pixel의 값들이 일반적으로 0~255의 값을 가짐 / pixel_value /255."
   ],
   "outputs": [],
   "metadata": {}
  },
  {
   "cell_type": "code",
   "execution_count": 38,
   "source": [
    "# 1. 처리할 데이터를 숫자로 바꾸어주는 효과 (신경망은 문자열을 다룰 수 없다)\r\n",
    "# 2. 우리가 처리할 데이터가 적절한 형태를 가지고 있다는 것을 확인하는 과정(input shape, output shape)\r\n",
    "# 3. feature scaling 해주는 과정\r\n",
    "#    - normalization => min-max 간의 관계 조정\r\n",
    "#    - standardization => 평균이 0, 분산이 1인 상태 기준으로 조정\r\n",
    "#    일반적으로 신경망에서 normalization을 더 많이 사용"
   ],
   "outputs": [],
   "metadata": {}
  },
  {
   "cell_type": "code",
   "execution_count": 39,
   "source": [
    "insurance = pd.read_csv('insurance.csv')"
   ],
   "outputs": [],
   "metadata": {}
  },
  {
   "cell_type": "code",
   "execution_count": 40,
   "source": [
    "insurance.head()"
   ],
   "outputs": [
    {
     "output_type": "execute_result",
     "data": {
      "text/plain": [
       "   age     sex     bmi  children smoker     region      charges\n",
       "0   19  female  27.900         0    yes  southwest  16884.92400\n",
       "1   18    male  33.770         1     no  southeast   1725.55230\n",
       "2   28    male  33.000         3     no  southeast   4449.46200\n",
       "3   33    male  22.705         0     no  northwest  21984.47061\n",
       "4   32    male  28.880         0     no  northwest   3866.85520"
      ],
      "text/html": [
       "<div>\n",
       "<style scoped>\n",
       "    .dataframe tbody tr th:only-of-type {\n",
       "        vertical-align: middle;\n",
       "    }\n",
       "\n",
       "    .dataframe tbody tr th {\n",
       "        vertical-align: top;\n",
       "    }\n",
       "\n",
       "    .dataframe thead th {\n",
       "        text-align: right;\n",
       "    }\n",
       "</style>\n",
       "<table border=\"1\" class=\"dataframe\">\n",
       "  <thead>\n",
       "    <tr style=\"text-align: right;\">\n",
       "      <th></th>\n",
       "      <th>age</th>\n",
       "      <th>sex</th>\n",
       "      <th>bmi</th>\n",
       "      <th>children</th>\n",
       "      <th>smoker</th>\n",
       "      <th>region</th>\n",
       "      <th>charges</th>\n",
       "    </tr>\n",
       "  </thead>\n",
       "  <tbody>\n",
       "    <tr>\n",
       "      <th>0</th>\n",
       "      <td>19</td>\n",
       "      <td>female</td>\n",
       "      <td>27.900</td>\n",
       "      <td>0</td>\n",
       "      <td>yes</td>\n",
       "      <td>southwest</td>\n",
       "      <td>16884.92400</td>\n",
       "    </tr>\n",
       "    <tr>\n",
       "      <th>1</th>\n",
       "      <td>18</td>\n",
       "      <td>male</td>\n",
       "      <td>33.770</td>\n",
       "      <td>1</td>\n",
       "      <td>no</td>\n",
       "      <td>southeast</td>\n",
       "      <td>1725.55230</td>\n",
       "    </tr>\n",
       "    <tr>\n",
       "      <th>2</th>\n",
       "      <td>28</td>\n",
       "      <td>male</td>\n",
       "      <td>33.000</td>\n",
       "      <td>3</td>\n",
       "      <td>no</td>\n",
       "      <td>southeast</td>\n",
       "      <td>4449.46200</td>\n",
       "    </tr>\n",
       "    <tr>\n",
       "      <th>3</th>\n",
       "      <td>33</td>\n",
       "      <td>male</td>\n",
       "      <td>22.705</td>\n",
       "      <td>0</td>\n",
       "      <td>no</td>\n",
       "      <td>northwest</td>\n",
       "      <td>21984.47061</td>\n",
       "    </tr>\n",
       "    <tr>\n",
       "      <th>4</th>\n",
       "      <td>32</td>\n",
       "      <td>male</td>\n",
       "      <td>28.880</td>\n",
       "      <td>0</td>\n",
       "      <td>no</td>\n",
       "      <td>northwest</td>\n",
       "      <td>3866.85520</td>\n",
       "    </tr>\n",
       "  </tbody>\n",
       "</table>\n",
       "</div>"
      ]
     },
     "metadata": {},
     "execution_count": 40
    }
   ],
   "metadata": {}
  },
  {
   "cell_type": "code",
   "execution_count": 43,
   "source": [
    "from sklearn.compose import make_column_transformer\r\n",
    "from sklearn.preprocessing import MinMaxScaler, OneHotEncoder"
   ],
   "outputs": [],
   "metadata": {}
  },
  {
   "cell_type": "code",
   "execution_count": 44,
   "source": [
    "ct = make_column_transformer(\r\n",
    "    (MinMaxScaler(), ['age', 'bmi', 'children']), # 현재 숫자로 되어있는 값들을 0~1사이로 조정하겠다\r\n",
    "    (OneHotEncoder(handle_unknown='ignore'), ['sex', 'smoker', 'region'])\r\n",
    ")"
   ],
   "outputs": [],
   "metadata": {}
  },
  {
   "cell_type": "code",
   "execution_count": 45,
   "source": [
    "type(ct)"
   ],
   "outputs": [
    {
     "output_type": "execute_result",
     "data": {
      "text/plain": [
       "sklearn.compose._column_transformer.ColumnTransformer"
      ]
     },
     "metadata": {},
     "execution_count": 45
    }
   ],
   "metadata": {}
  },
  {
   "cell_type": "code",
   "execution_count": 46,
   "source": [
    "X = insurance.drop('charges', axis=1)\r\n",
    "y = insurance['charges']"
   ],
   "outputs": [],
   "metadata": {}
  },
  {
   "cell_type": "code",
   "execution_count": 47,
   "source": [
    "X_train, X_test, y_train, y_test = train_test_split(X, y, test_size = 0.2, random_state = 42)"
   ],
   "outputs": [],
   "metadata": {}
  },
  {
   "cell_type": "code",
   "execution_count": 48,
   "source": [
    "ct.fit(X_train)"
   ],
   "outputs": [
    {
     "output_type": "execute_result",
     "data": {
      "text/plain": [
       "ColumnTransformer(transformers=[('minmaxscaler', MinMaxScaler(),\n",
       "                                 ['age', 'bmi', 'children']),\n",
       "                                ('onehotencoder',\n",
       "                                 OneHotEncoder(handle_unknown='ignore'),\n",
       "                                 ['sex', 'smoker', 'region'])])"
      ]
     },
     "metadata": {},
     "execution_count": 48
    }
   ],
   "metadata": {}
  },
  {
   "cell_type": "code",
   "execution_count": 49,
   "source": [
    "X_train_normal = ct.transform(X_train)\r\n",
    "X_test_normal = ct.transform(X_test)"
   ],
   "outputs": [],
   "metadata": {}
  },
  {
   "cell_type": "code",
   "execution_count": 50,
   "source": [
    "type(X_train_normal), X_train_normal"
   ],
   "outputs": [
    {
     "output_type": "execute_result",
     "data": {
      "text/plain": [
       "(numpy.ndarray,\n",
       " array([[0.60869565, 0.10734463, 0.4       , ..., 1.        , 0.        ,\n",
       "         0.        ],\n",
       "        [0.63043478, 0.22491256, 0.        , ..., 0.        , 0.        ,\n",
       "         0.        ],\n",
       "        [0.73913043, 0.23944041, 0.        , ..., 0.        , 1.        ,\n",
       "         0.        ],\n",
       "        ...,\n",
       "        [0.86956522, 0.24791499, 0.        , ..., 0.        , 0.        ,\n",
       "         0.        ],\n",
       "        [0.41304348, 0.85122411, 0.4       , ..., 0.        , 0.        ,\n",
       "         1.        ],\n",
       "        [0.80434783, 0.37503363, 0.        , ..., 0.        , 0.        ,\n",
       "         1.        ]]))"
      ]
     },
     "metadata": {},
     "execution_count": 50
    }
   ],
   "metadata": {}
  },
  {
   "cell_type": "code",
   "execution_count": 51,
   "source": [
    "X_train.loc[0]"
   ],
   "outputs": [
    {
     "output_type": "execute_result",
     "data": {
      "text/plain": [
       "age                19\n",
       "sex            female\n",
       "bmi              27.9\n",
       "children            0\n",
       "smoker            yes\n",
       "region      southwest\n",
       "Name: 0, dtype: object"
      ]
     },
     "metadata": {},
     "execution_count": 51
    }
   ],
   "metadata": {}
  },
  {
   "cell_type": "code",
   "execution_count": 52,
   "source": [
    "X_train_normal[0]"
   ],
   "outputs": [
    {
     "output_type": "execute_result",
     "data": {
      "text/plain": [
       "array([0.60869565, 0.10734463, 0.4       , 1.        , 0.        ,\n",
       "       1.        , 0.        , 0.        , 1.        , 0.        ,\n",
       "       0.        ])"
      ]
     },
     "metadata": {},
     "execution_count": 52
    }
   ],
   "metadata": {}
  },
  {
   "cell_type": "code",
   "execution_count": 54,
   "source": [
    "X_train_normal.shape, X_train.shape"
   ],
   "outputs": [
    {
     "output_type": "execute_result",
     "data": {
      "text/plain": [
       "((1070, 11), (1070, 6))"
      ]
     },
     "metadata": {},
     "execution_count": 54
    }
   ],
   "metadata": {}
  },
  {
   "cell_type": "code",
   "execution_count": 55,
   "source": [
    "# 이제 데이터를 가지고 와서 training set과 test set으로 나누고, normalization까지 완료"
   ],
   "outputs": [],
   "metadata": {}
  },
  {
   "cell_type": "code",
   "execution_count": 57,
   "source": [
    "tf.random.set_seed(42)\r\n",
    "\r\n",
    "insurance_model_3 = tf.keras.Sequential([\r\n",
    "    tf.keras.layers.Dense(100),\r\n",
    "    tf.keras.layers.Dense(10),\r\n",
    "    tf.keras.layers.Dense(1)\r\n",
    "])\r\n",
    "\r\n",
    "insurance_model_3.compile(\r\n",
    "    loss = tf.keras.losses.mae,\r\n",
    "    optimizer = tf.keras.optimizers.Adam(),\r\n",
    "    metrics = [\"mae\"]\r\n",
    ")\r\n",
    "\r\n",
    "# 3. 모델을 fit\r\n",
    "history = insurance_model_3.fit(X_train_normal, y_train, epochs = 200, verbose = 0)"
   ],
   "outputs": [],
   "metadata": {}
  },
  {
   "cell_type": "code",
   "execution_count": 58,
   "source": [
    "insurance_model_3.evaluate(X_test_normal, y_test)"
   ],
   "outputs": [
    {
     "output_type": "stream",
     "name": "stdout",
     "text": [
      "9/9 [==============================] - 0s 2ms/step - loss: 3171.5774 - mae: 3171.5774\n"
     ]
    },
    {
     "output_type": "execute_result",
     "data": {
      "text/plain": [
       "[3171.577392578125, 3171.577392578125]"
      ]
     },
     "metadata": {},
     "execution_count": 58
    }
   ],
   "metadata": {}
  },
  {
   "cell_type": "code",
   "execution_count": null,
   "source": [],
   "outputs": [],
   "metadata": {}
  }
 ],
 "metadata": {
  "orig_nbformat": 4,
  "language_info": {
   "name": "python",
   "version": "3.9.6",
   "mimetype": "text/x-python",
   "codemirror_mode": {
    "name": "ipython",
    "version": 3
   },
   "pygments_lexer": "ipython3",
   "nbconvert_exporter": "python",
   "file_extension": ".py"
  },
  "kernelspec": {
   "name": "python3",
   "display_name": "Python 3.9.6 64-bit ('venv_210822': venv)"
  },
  "interpreter": {
   "hash": "8e061e62b7cc261f8c9d5772241996968a3fb5264e1f7bd8bfe160c7da5031ed"
  }
 },
 "nbformat": 4,
 "nbformat_minor": 2
}