{
 "cells": [
  {
   "cell_type": "markdown",
   "source": [
    "## study_regex.ipynb"
   ],
   "metadata": {}
  },
  {
   "cell_type": "code",
   "execution_count": 1,
   "source": [
    "import re"
   ],
   "outputs": [],
   "metadata": {}
  },
  {
   "cell_type": "code",
   "execution_count": 4,
   "source": [
    "re.findall(\"abc\", \"kafabceiaselfabcalisjeabcflajslefj;aef\")"
   ],
   "outputs": [
    {
     "output_type": "execute_result",
     "data": {
      "text/plain": [
       "['abc', 'abc', 'abc']"
      ]
     },
     "metadata": {},
     "execution_count": 4
    }
   ],
   "metadata": {}
  },
  {
   "cell_type": "code",
   "execution_count": 8,
   "source": [
    "for match in re.findall(\"abc\", \"kafabceiaselfabcalisjeabcflajslefj;aef\"): # 파이썬의 리스트 형태로\r\n",
    "    print(match)"
   ],
   "outputs": [
    {
     "output_type": "stream",
     "name": "stdout",
     "text": [
      "abc\n",
      "abc\n",
      "abc\n"
     ]
    }
   ],
   "metadata": {}
  },
  {
   "cell_type": "code",
   "execution_count": 5,
   "source": [
    "iterator = re.finditer(\"abc\", \"kafabceiaselfabcalisjeabcflajslefj;aef\")"
   ],
   "outputs": [],
   "metadata": {}
  },
  {
   "cell_type": "code",
   "execution_count": 7,
   "source": [
    "for match in iterator:\r\n",
    "    print(match.group())"
   ],
   "outputs": [
    {
     "output_type": "stream",
     "name": "stdout",
     "text": [
      "abc\n",
      "abc\n",
      "abc\n"
     ]
    }
   ],
   "metadata": {}
  },
  {
   "cell_type": "code",
   "execution_count": 10,
   "source": [
    "# [ ] : 일치시키려는 문자 집합인 문자 클래스를 지정하는데 사용\r\n",
    "re.findall(\"abc\", \"askdfj;akdfj;lajdf;laj;lakdsfabcasdfaabcdadf\")"
   ],
   "outputs": [
    {
     "output_type": "execute_result",
     "data": {
      "text/plain": [
       "['abc', 'abc']"
      ]
     },
     "metadata": {},
     "execution_count": 10
    }
   ],
   "metadata": {}
  },
  {
   "cell_type": "code",
   "execution_count": 16,
   "source": [
    "# - 로 문자 클래스의 범위를 지정할 수 있다.\r\n",
    "re.findall(\"[xy]\", \"askdfj;akdfj;lajdf;laj;lakdsfabcasdfaabcdadf\")"
   ],
   "outputs": [
    {
     "output_type": "execute_result",
     "data": {
      "text/plain": [
       "[]"
      ]
     },
     "metadata": {},
     "execution_count": 16
    }
   ],
   "metadata": {}
  },
  {
   "cell_type": "code",
   "execution_count": 15,
   "source": [
    "re.findall(\"[abc]\", \"askdfj;akdfj;lajdf;laj;lakdsfabcasdfaabcdadf\")"
   ],
   "outputs": [
    {
     "output_type": "execute_result",
     "data": {
      "text/plain": [
       "['a', 'a', 'a', 'a', 'a', 'a', 'b', 'c', 'a', 'a', 'a', 'b', 'c', 'a']"
      ]
     },
     "metadata": {},
     "execution_count": 15
    }
   ],
   "metadata": {}
  },
  {
   "cell_type": "code",
   "execution_count": 20,
   "source": [
    "# 퀴즈 1 : 제시한 문자열에서 숫자들의 갯수\r\n",
    "re.findall(\"[0123456789]\", \"asdfjl;ajdf;la3534l2k3o;lkdagj;qi4touoq\"), type(re.findall(\"[0123456789]\", \"asdfjl;ajdf;la3534l2k3o;lkdagj;qi4touoq\"))"
   ],
   "outputs": [
    {
     "output_type": "execute_result",
     "data": {
      "text/plain": [
       "(['3', '5', '3', '4', '2', '3', '4'], list)"
      ]
     },
     "metadata": {},
     "execution_count": 20
    }
   ],
   "metadata": {}
  },
  {
   "cell_type": "code",
   "execution_count": 22,
   "source": [
    "# len(re.findall(\"[0123456789]\", \"asdfjl;ajdf;la3534l2k3o;lkdagj;qi4touoq\"))\r\n",
    "len(re.findall(\"[0-9]\", \"asdfjl;ajdf;la3534l2k3o;lkdagj;qi4touoq\"))"
   ],
   "outputs": [
    {
     "output_type": "execute_result",
     "data": {
      "text/plain": [
       "7"
      ]
     },
     "metadata": {},
     "execution_count": 22
    }
   ],
   "metadata": {}
  },
  {
   "cell_type": "code",
   "execution_count": null,
   "source": [
    "# 파이썬에서 정말 많이 사용하는 데이터 구조 3형제\r\n",
    "# () : tuple, 변경이 안 됨! pandas나 numpy에서 특정한 결과를 줄 때 튜플 형태로 결과를 알려줌\r\n",
    "# {} : dictionary, key-value, JSON 포맷과 형태 비슷. JSON 형태를 웹에서 데이트를 가져오면, decode하면 바로 dictionary\r\n",
    "# [] : list, 모든 것들을 다 담을 수 있다. 길이도 가변적... 왠만한 경우 거의 리스트를 사용! 메모리 사용이 비효율적"
   ],
   "outputs": [],
   "metadata": {}
  },
  {
   "cell_type": "code",
   "execution_count": 23,
   "source": [
    "# 퀴즈 2 : 숫자가 4개 이어진 부분을 찾아주세요!\r\n",
    "re.findall(\"[0-9][0-9][0-9][0-9]\", \"asdfjl;ajdf;la3534l2k3o;lkdagj;qi4touoq\")"
   ],
   "outputs": [
    {
     "output_type": "execute_result",
     "data": {
      "text/plain": [
       "['3534']"
      ]
     },
     "metadata": {},
     "execution_count": 23
    }
   ],
   "metadata": {}
  },
  {
   "cell_type": "code",
   "execution_count": 25,
   "source": [
    "if len(re.findall(\"[0-9][0-9][0-9][0-9][0-9]\", \"asdfjl;ajdf;la3534l2k3o;lkdagj;qi4touoq\")) > 0:\r\n",
    "    print(\"찾았다!\")\r\n",
    "else:\r\n",
    "    print(\"없다!\")"
   ],
   "outputs": [
    {
     "output_type": "stream",
     "name": "stdout",
     "text": [
      "없다!\n"
     ]
    }
   ],
   "metadata": {}
  },
  {
   "cell_type": "code",
   "execution_count": 28,
   "source": [
    "# ^ : 지정한 클래스에 해당되지 않는 것을 찾아라!\r\n",
    "documents = ['asdfj;laieorkdjf;aliejr;akjdf23k4j;lajds;l',\r\n",
    "            'asdfjoqweitulad;ai@weutadg;lajoetiuaodkgjier',\r\n",
    "            'asdkfjqoitlskdnfoqwiekhas;ioew=adgoie',\r\n",
    "            'askdfl_asdkfei_asdjkfla****askeasfff',\r\n",
    "            '{{{{{asdfjowei@@##askdfoie}}}}}']\r\n",
    "regExp = '[0-9:\"{}()@#&]'\r\n",
    "\r\n",
    "for doc in documents:\r\n",
    "    if len(re.findall(regExp, doc)) > 0:\r\n",
    "        pass\r\n",
    "    else:\r\n",
    "        print(doc)"
   ],
   "outputs": [
    {
     "output_type": "stream",
     "name": "stdout",
     "text": [
      "asdkfjqoitlskdnfoqwiekhas;ioew=adgoie\n",
      "askdfl_asdkfei_asdjkfla****askeasfff\n"
     ]
    }
   ],
   "metadata": {}
  },
  {
   "cell_type": "code",
   "execution_count": 34,
   "source": [
    "documents = ['asdfj;laieorkdjf;aliejr;akjdf23k4j;lajds;l',\r\n",
    "            'asdfjoqweitulad;ai@weutadg;lajoetiuaodkgjier',\r\n",
    "            'asdkfjqoitlskdnfoqwiekhas;ioew=adgoie',\r\n",
    "            'askdfl_asdkfei_asdjkfla****askeasfff',\r\n",
    "            '{{{{{asdfjowei@@##askdfoie}}}}}']\r\n",
    "regExp = '[^0-9:;=\"_*{}()@#&]'\r\n",
    "\r\n",
    "for doc in documents:\r\n",
    "    if len(re.findall(regExp, doc)) < 0:\r\n",
    "        pass\r\n",
    "    else:\r\n",
    "        print(re.findall(regExp, doc))"
   ],
   "outputs": [
    {
     "output_type": "stream",
     "name": "stdout",
     "text": [
      "['a', 's', 'd', 'f', 'j', 'l', 'a', 'i', 'e', 'o', 'r', 'k', 'd', 'j', 'f', 'a', 'l', 'i', 'e', 'j', 'r', 'a', 'k', 'j', 'd', 'f', 'k', 'j', 'l', 'a', 'j', 'd', 's', 'l']\n",
      "['a', 's', 'd', 'f', 'j', 'o', 'q', 'w', 'e', 'i', 't', 'u', 'l', 'a', 'd', 'a', 'i', 'w', 'e', 'u', 't', 'a', 'd', 'g', 'l', 'a', 'j', 'o', 'e', 't', 'i', 'u', 'a', 'o', 'd', 'k', 'g', 'j', 'i', 'e', 'r']\n",
      "['a', 's', 'd', 'k', 'f', 'j', 'q', 'o', 'i', 't', 'l', 's', 'k', 'd', 'n', 'f', 'o', 'q', 'w', 'i', 'e', 'k', 'h', 'a', 's', 'i', 'o', 'e', 'w', 'a', 'd', 'g', 'o', 'i', 'e']\n",
      "['a', 's', 'k', 'd', 'f', 'l', 'a', 's', 'd', 'k', 'f', 'e', 'i', 'a', 's', 'd', 'j', 'k', 'f', 'l', 'a', 'a', 's', 'k', 'e', 'a', 's', 'f', 'f', 'f']\n",
      "['a', 's', 'd', 'f', 'j', 'o', 'w', 'e', 'i', 'a', 's', 'k', 'd', 'f', 'o', 'i', 'e']\n"
     ]
    }
   ],
   "metadata": {}
  },
  {
   "cell_type": "code",
   "execution_count": null,
   "source": [
    "# \\\r\n",
    "# 퀴즈 3 : doc에서 모든 \\를 찾아보세요!\r\n",
    "doc = \"\\n for new [line, ] \\section and \\document and \\\\\\section \\n\""
   ],
   "outputs": [],
   "metadata": {}
  },
  {
   "cell_type": "code",
   "execution_count": 37,
   "source": [
    "doc = \"\\n for new [line, ] \\section and \\document and \\\\\\section \\n\"\r\n",
    "regExp = \"\\\"\r\n",
    "print(len(re.findall(regExp, doc)))"
   ],
   "outputs": [
    {
     "output_type": "error",
     "ename": "SyntaxError",
     "evalue": "EOL while scanning string literal (CreatorTemp/ipykernel_15700/409492750.py, line 2)",
     "traceback": [
      "\u001b[1;36m  File \u001b[1;32m\"C:\\Users\\Public\\Documents\\ESTsoft\\CreatorTemp/ipykernel_15700/409492750.py\"\u001b[1;36m, line \u001b[1;32m2\u001b[0m\n\u001b[1;33m    regExp = \"\\\"\u001b[0m\n\u001b[1;37m                ^\u001b[0m\n\u001b[1;31mSyntaxError\u001b[0m\u001b[1;31m:\u001b[0m EOL while scanning string literal\n"
     ]
    }
   ],
   "metadata": {}
  },
  {
   "cell_type": "code",
   "execution_count": 40,
   "source": [
    "# doc = \"\\n for new [line, ] '\\'section and \\document and \\\\\\section \\n\"\r\n",
    "doc = \"\\n for new [line, ] \\section and \\document and \\\\\\section \\n\"\r\n",
    "regExp = \"'\\'\"\r\n",
    "print(len(re.findall(regExp, doc)))"
   ],
   "outputs": [
    {
     "output_type": "stream",
     "name": "stdout",
     "text": [
      "0\n"
     ]
    }
   ],
   "metadata": {}
  },
  {
   "cell_type": "code",
   "execution_count": 47,
   "source": [
    "\r\n",
    "# doc = \"\\n for new [line, ] '\\'section and \\document and \\\\\\section \\n\"\r\n",
    "doc = \"\\n for new [line, ] \\section and \\document and \\\\\\section \\n\"\r\n",
    "# regExp = \"\\\\\" # escape character 특수문자를 표시하기 일반적으로 \\를 추가\r\n",
    "regExp = \"'\\\\'\" # escape character 특수문자를 표시하기 일반적으로 \\를 추가\r\n",
    "print(len(re.findall(regExp, doc)))"
   ],
   "outputs": [
    {
     "output_type": "stream",
     "name": "stdout",
     "text": [
      "0\n"
     ]
    }
   ],
   "metadata": {}
  },
  {
   "cell_type": "code",
   "execution_count": 56,
   "source": [
    "# doc = \"\\n for new [line, ] \\section and \\document and \\\\\\section \\n\"\r\n",
    "doc = \" for new [line, ] \\section and \\document and \\\\\\section \"\r\n",
    "print(doc)"
   ],
   "outputs": [
    {
     "output_type": "stream",
     "name": "stdout",
     "text": [
      " for new [line, ] \\section and \\document and \\\\section \n"
     ]
    }
   ],
   "metadata": {}
  },
  {
   "cell_type": "code",
   "execution_count": 57,
   "source": [
    "doc = \" for new [line, ] \\section and \\document and \\\\\\section \"\r\n",
    "print(doc)"
   ],
   "outputs": [
    {
     "output_type": "stream",
     "name": "stdout",
     "text": [
      " for new [line, ] \\section and \\document and \\\\section \n"
     ]
    }
   ],
   "metadata": {}
  },
  {
   "cell_type": "code",
   "execution_count": 58,
   "source": [
    "doc = \"\\n for new [line, ] \\section and \\document and \\\\\\section \\n\"\r\n",
    "print(doc)"
   ],
   "outputs": [
    {
     "output_type": "stream",
     "name": "stdout",
     "text": [
      "\n",
      " for new [line, ] \\section and \\document and \\\\section \n",
      "\n"
     ]
    }
   ],
   "metadata": {}
  },
  {
   "cell_type": "code",
   "execution_count": 59,
   "source": [
    "doc = \"\\n for new [line, ] \\section and \\document and \\\\\\section \\n\"\r\n",
    "regExp = \"[\\\\\\]\"\r\n",
    "print(len(re.findall(regExp, doc)))"
   ],
   "outputs": [
    {
     "output_type": "stream",
     "name": "stdout",
     "text": [
      "4\n"
     ]
    }
   ],
   "metadata": {}
  },
  {
   "cell_type": "code",
   "execution_count": 51,
   "source": [
    "print(\"\\\\\\section\") # \\\\ => \\"
   ],
   "outputs": [
    {
     "output_type": "stream",
     "name": "stdout",
     "text": [
      "\\\\section\n"
     ]
    }
   ],
   "metadata": {}
  },
  {
   "cell_type": "code",
   "execution_count": 64,
   "source": [
    "doc = r\"\\n for new [line, ] \\section and \\document and \\\\\\section \\n\"\r\n",
    "regExp = \"[\\\\\\]\"\r\n",
    "print(len(re.findall(regExp, doc)))"
   ],
   "outputs": [
    {
     "output_type": "stream",
     "name": "stdout",
     "text": [
      "7\n"
     ]
    }
   ],
   "metadata": {}
  },
  {
   "cell_type": "code",
   "execution_count": 61,
   "source": [
    "doc = \"\\n for new [line, ] \\section and \\document and \\\\\\section \\n\"\r\n",
    "print(doc)"
   ],
   "outputs": [
    {
     "output_type": "stream",
     "name": "stdout",
     "text": [
      "\n",
      " for new [line, ] \\section and \\document and \\\\section \n",
      "\n"
     ]
    }
   ],
   "metadata": {}
  },
  {
   "cell_type": "code",
   "execution_count": 62,
   "source": [
    "doc = r\"\\n for new [line, ] \\section and \\document and \\\\\\section \\n\"\r\n",
    "print(doc)"
   ],
   "outputs": [
    {
     "output_type": "stream",
     "name": "stdout",
     "text": [
      "\\n for new [line, ] \\section and \\document and \\\\\\section \\n\n"
     ]
    }
   ],
   "metadata": {}
  },
  {
   "cell_type": "code",
   "execution_count": 67,
   "source": [
    "# 퀴즈 : \\랑 [랑 ]랑 가진 부분을 찾아주세요 : 갯수는 9가 되어야 합니다.\r\n",
    "doc = r\"\\n for new [line, ] \\section and \\document and \\\\\\section \\n\"\r\n",
    "regExp = \"[\\[\\]\\\\\\]\"\r\n",
    "print(len(re.findall(regExp, doc)))\r\n",
    "\r\n",
    "# \"[\\[\\]\\\\\\]\"\r\n",
    "# \"[  \\[   \\]  \\\\\\]\""
   ],
   "outputs": [
    {
     "output_type": "stream",
     "name": "stdout",
     "text": [
      "9\n"
     ]
    }
   ],
   "metadata": {}
  },
  {
   "cell_type": "code",
   "execution_count": 73,
   "source": [
    "doc = r\"\\n for new [line, ] \\section and \\document and \\\\\\section \\n\"\r\n",
    "regExp_Brackets = \"[\\[\\]]\"\r\n",
    "brackets_count = len(re.findall(regExp_Brackets, doc))\r\n",
    "\r\n",
    "regExp_Slash = \"[\\\\\\\\]\"\r\n",
    "slash_count = len(re.findall(regExp_Slash, doc))\r\n",
    "\r\n",
    "print(brackets_count + slash_count)"
   ],
   "outputs": [
    {
     "output_type": "stream",
     "name": "stdout",
     "text": [
      "9\n"
     ]
    }
   ],
   "metadata": {}
  },
  {
   "cell_type": "code",
   "execution_count": 81,
   "source": [
    "# 퀴즈 : \\section 부분을 찾아주세요! \r\n",
    "doc = \"\\n for new [line, ] \\section and \\document and \\\\\\section \\n\"\r\n",
    "regExp = \"[\\\\\\]section\"\r\n",
    "print(re.findall(regExp, doc))\r\n"
   ],
   "outputs": [
    {
     "output_type": "stream",
     "name": "stdout",
     "text": [
      "['\\\\section', '\\\\section']\n"
     ]
    }
   ],
   "metadata": {}
  },
  {
   "cell_type": "code",
   "execution_count": null,
   "source": [
    "# \\d : 모두 숫자 0-9와 똑같다! [0-9]\r\n",
    "# \\D : [^0-9]\r\n",
    "# \\s : 모든 공백문자를 의미 [\\t\\n\\r\\f\\v]와 동일\r\n",
    "# \\S : [^\\t\\n\\r\\f\\v]\r\n",
    "# \\w : 모든 영문자 + 숫자 + underscore [a-zA-Z0-9_]와 동일 \r\n",
    "# \\W : [^a-zA-Z0-9_]"
   ],
   "outputs": [],
   "metadata": {}
  },
  {
   "cell_type": "code",
   "execution_count": 86,
   "source": [
    "documents = ['asdfj;laieorkdjf;aliejr;akjdf23k4j;lajds;l',\r\n",
    "            'asdfjoqweitulad;ai@weutadg;lajoetiuaodkgjier',\r\n",
    "            'asdkfjqoitlskdnfoqwiekhas;ioew=adgoie',\r\n",
    "            'askdfl_asdkfei_asdjkfla****askeasfff',\r\n",
    "            '{{{{{asdfjowei@@##askdfoie}}}}}']\r\n",
    "regExp = '[\\W]'\r\n",
    "\r\n",
    "for line in documents:\r\n",
    "    rs = re.findall(regExp, line)\r\n",
    "    print(rs)"
   ],
   "outputs": [
    {
     "output_type": "stream",
     "name": "stdout",
     "text": [
      "[';', ';', ';', ';', ';']\n",
      "[';', '@', ';']\n",
      "[';', '=']\n",
      "['*', '*', '*', '*']\n",
      "['{', '{', '{', '{', '{', '@', '@', '#', '#', '}', '}', '}', '}', '}']\n"
     ]
    }
   ],
   "metadata": {}
  },
  {
   "cell_type": "code",
   "execution_count": 93,
   "source": [
    "# * : *앞에 있는 문자가 없거나 갯수에 상관없이 형태를 유지하며 찾는다 : Greedy matching\r\n",
    "doc = \"YahooYahoooYahooooYahoooooYaho\"\r\n",
    "regExp = \"Yahoo*\"\r\n",
    "rs = re.findall(regExp, doc)\r\n",
    "print(rs)"
   ],
   "outputs": [
    {
     "output_type": "stream",
     "name": "stdout",
     "text": [
      "['Yahoo', 'Yahooo', 'Yahoooo', 'Yahooooo', 'Yaho']\n"
     ]
    }
   ],
   "metadata": {}
  },
  {
   "cell_type": "code",
   "execution_count": 95,
   "source": [
    "documents = ['asdfj;laieorkdjf;aliejr;akjdf23k4j;lajds;l',\r\n",
    "            'asdfjoqweitulad;ai@weutadg;lajoetiuaodkgjier',\r\n",
    "            'asdkfjqoitlskdnfoqwiekhas;ioew=adgoie',\r\n",
    "            'askdfl_asdkfei_asdjkfla****askeasfff',\r\n",
    "            '{{{{{asdfjowei@@##askdfoie}}}}}']\r\n",
    "regExp = '[\\w]*'\r\n",
    "\r\n",
    "for line in documents:\r\n",
    "    rs = re.findall(regExp, line)\r\n",
    "    print(rs)"
   ],
   "outputs": [
    {
     "output_type": "stream",
     "name": "stdout",
     "text": [
      "['asdfj', '', 'laieorkdjf', '', 'aliejr', '', 'akjdf23k4j', '', 'lajds', '', 'l', '']\n",
      "['asdfjoqweitulad', '', 'ai', '', 'weutadg', '', 'lajoetiuaodkgjier', '']\n",
      "['asdkfjqoitlskdnfoqwiekhas', '', 'ioew', '', 'adgoie', '']\n",
      "['askdfl_asdkfei_asdjkfla', '', '', '', '', 'askeasfff', '']\n",
      "['', '', '', '', '', 'asdfjowei', '', '', '', '', 'askdfoie', '', '', '', '', '', '']\n"
     ]
    }
   ],
   "metadata": {}
  },
  {
   "cell_type": "code",
   "execution_count": 98,
   "source": [
    "# + : *앞에 있는 문자가 최소 1개이상 갯수에 상관없이 형태를 유지하며 찾는다\r\n",
    "doc = \"YahooYahoooYahooooYahoooooYaho\"\r\n",
    "regExp = \"Yahooo+\"\r\n",
    "rs = re.findall(regExp, doc)\r\n",
    "print(rs)"
   ],
   "outputs": [
    {
     "output_type": "stream",
     "name": "stdout",
     "text": [
      "['Yahooo', 'Yahoooo', 'Yahooooo']\n"
     ]
    }
   ],
   "metadata": {}
  },
  {
   "cell_type": "code",
   "execution_count": 102,
   "source": [
    "# ? : ? 뒤에 문자가 없거나 존재하는 것 계속 확인\r\n",
    "doc = \"YahooYahoooYahooooYahoooooYaho\"\r\n",
    "regExp = \"Yah?ooo\" # Yahoo 라는 패턴이 있는 것 다 찾아달라\r\n",
    "rs = re.findall(regExp, doc)\r\n",
    "print(rs)"
   ],
   "outputs": [
    {
     "output_type": "stream",
     "name": "stdout",
     "text": [
      "['Yahooo', 'Yahooo', 'Yahooo']\n"
     ]
    }
   ],
   "metadata": {}
  },
  {
   "cell_type": "code",
   "execution_count": 127,
   "source": [
    "# {m, n}\r\n",
    "documents = ['asdfj;laieorkdjf;aliejr;akjdf23k4j;lajds;l',\r\n",
    "            'asdf33joqweitulad;ai@weutadg;lajoeti53uaodkgjier',\r\n",
    "            'asdkfjqoitf3f3lskdnfoqwi23423523ekhas;ioew=adgoie',\r\n",
    "            'a3343skdfl_asdkfei_asdjkfla****askeasfff',\r\n",
    "            '{{{{{asdfjowei@@##askdfoie}}}}}']\r\n",
    "regExp = '\\d{1,2}' # {0,} = *, {1,} = +, {0,1} = ?\r\n",
    "\r\n",
    "for line in documents:\r\n",
    "    rs = re.findall(regExp, line)\r\n",
    "    print(rs)"
   ],
   "outputs": [
    {
     "output_type": "stream",
     "name": "stdout",
     "text": [
      "['23', '4']\n",
      "['33', '53']\n",
      "['3', '3', '23', '42', '35', '23']\n",
      "['33', '43']\n",
      "[]\n"
     ]
    }
   ],
   "metadata": {}
  },
  {
   "cell_type": "code",
   "execution_count": null,
   "source": [],
   "outputs": [],
   "metadata": {}
  }
 ],
 "metadata": {
  "orig_nbformat": 4,
  "language_info": {
   "name": "python"
  }
 },
 "nbformat": 4,
 "nbformat_minor": 2
}