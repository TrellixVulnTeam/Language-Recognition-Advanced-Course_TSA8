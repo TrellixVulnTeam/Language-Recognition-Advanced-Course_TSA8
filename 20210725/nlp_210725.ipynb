{
 "cells": [
  {
   "cell_type": "code",
   "execution_count": 7,
   "source": [
    "import spacy"
   ],
   "outputs": [],
   "metadata": {}
  },
  {
   "cell_type": "code",
   "execution_count": 19,
   "source": [
    "import en_core_web_sm\r\n",
    "nlp = en_core_web_sm.load()\r\n",
    "doc = nlp(\"I went there\")"
   ],
   "outputs": [],
   "metadata": {}
  },
  {
   "cell_type": "code",
   "execution_count": 22,
   "source": [
    "import spacy\r\n",
    "from spacy.symbols import ORTH\r\n",
    "special_case = [ {ORTH: \"...lemme...?\"}]\r\n",
    "nlp.tokenizer.add_special_case(\"...lemme...?\", special_case)\r\n",
    "doc = nlp(\"...lemme...?\")\r\n",
    "print([token.text for token in doc], type([token.text for token in doc]))"
   ],
   "outputs": [
    {
     "output_type": "stream",
     "name": "stdout",
     "text": [
      "['...lemme...?'] <class 'list'>\n"
     ]
    }
   ],
   "metadata": {}
  },
  {
   "cell_type": "code",
   "execution_count": 26,
   "source": [
    "import spacy\r\n",
    "import en_core_web_sm\r\n",
    "nlp = en_core_web_sm.load()\r\n",
    "\r\n",
    "text = \"Let's go!\"\r\n",
    "doc = nlp(text)\r\n",
    "print([token.text for token in doc])\r\n",
    "detail_tokens = nlp.tokenizer.explain(text)\r\n",
    "for detail_token in detail_tokens:\r\n",
    "    print(detail_token[1], detail_token[0])\r\n"
   ],
   "outputs": [
    {
     "output_type": "stream",
     "name": "stdout",
     "text": [
      "['Let', \"'s\", 'go', '!']\n",
      "Let SPECIAL-1\n",
      "'s SPECIAL-2\n",
      "go TOKEN\n",
      "! SUFFIX\n"
     ]
    }
   ],
   "metadata": {}
  },
  {
   "cell_type": "code",
   "execution_count": null,
   "source": [],
   "outputs": [],
   "metadata": {}
  }
 ],
 "metadata": {
  "orig_nbformat": 4,
  "language_info": {
   "name": "python",
   "version": "3.9.6",
   "mimetype": "text/x-python",
   "codemirror_mode": {
    "name": "ipython",
    "version": 3
   },
   "pygments_lexer": "ipython3",
   "nbconvert_exporter": "python",
   "file_extension": ".py"
  },
  "kernelspec": {
   "name": "python3",
   "display_name": "Python 3.9.6 64-bit ('venv_20210725': venv)"
  },
  "interpreter": {
   "hash": "471ea15e84e2dd4595f6db37eeacb62c30399656b4cb052a6d9439208c6a3241"
  }
 },
 "nbformat": 4,
 "nbformat_minor": 2
}