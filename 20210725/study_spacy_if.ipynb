{
 "cells": [
  {
   "cell_type": "code",
   "execution_count": 2,
   "source": [
    "import spacy\r\n",
    "import en_core_web_sm\r\n",
    "nlp = en_core_web_sm.load()"
   ],
   "outputs": [],
   "metadata": {}
  },
  {
   "cell_type": "code",
   "execution_count": 3,
   "source": [
    "doc = nlp(\"Alicia and me went to the school by bus\")"
   ],
   "outputs": [],
   "metadata": {}
  },
  {
   "cell_type": "code",
   "execution_count": 8,
   "source": [
    "# pos : part of speech\r\n",
    "for token in doc:\r\n",
    "    print(token.text, \"\\t\", token.pos_, \"\\t\", token.tag, \"\\t\", spacy.explain(token.pos_), \"\\t\", spacy.explain(token.tag_))"
   ],
   "outputs": [
    {
     "output_type": "stream",
     "name": "stdout",
     "text": [
      "Alicia \t PROPN \t 15794550382381185553 \t proper noun \t noun, proper singular\n",
      "and \t CCONJ \t 17571114184892886314 \t coordinating conjunction \t conjunction, coordinating\n",
      "me \t PRON \t 13656873538139661788 \t pronoun \t pronoun, personal\n",
      "went \t VERB \t 17109001835818727656 \t verb \t verb, past tense\n",
      "to \t ADP \t 1292078113972184607 \t adposition \t conjunction, subordinating or preposition\n",
      "the \t DET \t 15267657372422890137 \t determiner \t determiner\n",
      "school \t NOUN \t 15308085513773655218 \t noun \t noun, singular or mass\n",
      "by \t ADP \t 1292078113972184607 \t adposition \t conjunction, subordinating or preposition\n",
      "bus \t NOUN \t 15308085513773655218 \t noun \t noun, singular or mass\n"
     ]
    }
   ],
   "metadata": {}
  },
  {
   "cell_type": "code",
   "execution_count": 9,
   "source": [
    "doc = nlp(\"My friend will fly to New York fast and she is staying there for 3 days\")\r\n"
   ],
   "outputs": [],
   "metadata": {}
  },
  {
   "cell_type": "code",
   "execution_count": 10,
   "source": [
    "for token in doc:\r\n",
    "    print(token.text, \"\\t\", token.pos_, \"\\t\", token.tag, \"\\t\", spacy.explain(token.pos_), \"\\t\", spacy.explain(token.tag_))"
   ],
   "outputs": [
    {
     "output_type": "stream",
     "name": "stdout",
     "text": [
      "My \t PRON \t 4062917326063685704 \t pronoun \t pronoun, possessive\n",
      "friend \t NOUN \t 15308085513773655218 \t noun \t noun, singular or mass\n",
      "will \t AUX \t 16235386156175103506 \t auxiliary \t verb, modal auxiliary\n",
      "fly \t VERB \t 14200088355797579614 \t verb \t verb, base form\n",
      "to \t ADP \t 1292078113972184607 \t adposition \t conjunction, subordinating or preposition\n",
      "New \t PROPN \t 15794550382381185553 \t proper noun \t noun, proper singular\n",
      "York \t PROPN \t 15794550382381185553 \t proper noun \t noun, proper singular\n",
      "fast \t ADV \t 164681854541413346 \t adverb \t adverb\n",
      "and \t CCONJ \t 17571114184892886314 \t coordinating conjunction \t conjunction, coordinating\n",
      "she \t PRON \t 13656873538139661788 \t pronoun \t pronoun, personal\n",
      "is \t AUX \t 13927759927860985106 \t auxiliary \t verb, 3rd person singular present\n",
      "staying \t VERB \t 1534113631682161808 \t verb \t verb, gerund or present participle\n",
      "there \t ADV \t 164681854541413346 \t adverb \t adverb\n",
      "for \t ADP \t 1292078113972184607 \t adposition \t conjunction, subordinating or preposition\n",
      "3 \t NUM \t 8427216679587749980 \t numeral \t cardinal number\n",
      "days \t NOUN \t 783433942507015291 \t noun \t noun, plural\n"
     ]
    }
   ],
   "metadata": {}
  },
  {
   "cell_type": "code",
   "execution_count": null,
   "source": [
    "# lemma, stem\r\n",
    "# lemma : 단어의 base form 을 찾는 것\r\n",
    "# stem : 단어의 어근 의미\r\n",
    "# stem의 예 : university 라는 단어의 lemma (university), stem(univers)\r\n",
    "# stem의 예 : universe 라는 단어의 lemma (universe), stem(univer)\r\n",
    "# stem은 자체로는 완전한 단어의 형태는 아니지만, 의미는 가지고 있음\r\n",
    "\r\n",
    "# Lemma Algorithm : 통사적인, 문법적인 접근을 통해서 분석하는 방식, dictionary와 같은 vocabulary 필요\r\n",
    "# Stem ALgorithm : 언어의 문법적인 내용에 대해서는 상관하지 않는 방식, 단어의 suffix나 prefix를 추려낸 이후 처리하는 방식"
   ],
   "outputs": [],
   "metadata": {}
  },
  {
   "cell_type": "code",
   "execution_count": 11,
   "source": [
    "doc = nlp(\"I will ship the package tommorow\")\r\n",
    "\r\n",
    "for token in doc:\r\n",
    "    print(token.text, \"\\t\", token.pos_, \"\\t\", token.tag, \"\\t\", spacy.explain(token.pos_), \"\\t\", spacy.explain(token.tag_))"
   ],
   "outputs": [
    {
     "output_type": "stream",
     "name": "stdout",
     "text": [
      "I \t PRON \t 13656873538139661788 \t pronoun \t pronoun, personal\n",
      "will \t AUX \t 16235386156175103506 \t auxiliary \t verb, modal auxiliary\n",
      "ship \t VERB \t 14200088355797579614 \t verb \t verb, base form\n",
      "the \t DET \t 15267657372422890137 \t determiner \t determiner\n",
      "package \t NOUN \t 15308085513773655218 \t noun \t noun, singular or mass\n",
      "tommorow \t NOUN \t 15308085513773655218 \t noun \t noun, singular or mass\n"
     ]
    }
   ],
   "metadata": {}
  },
  {
   "cell_type": "code",
   "execution_count": 12,
   "source": [
    "# 위와 같은 ship이지만, 문장에 따라 명사/동사로 구분할 수 있는 것을 보임\r\n",
    "doc = nlp(\"I saw a red ship.\")\r\n",
    "\r\n",
    "for token in doc:\r\n",
    "    print(token.text, \"\\t\", token.pos_, \"\\t\", token.tag, \"\\t\", spacy.explain(token.pos_), \"\\t\", spacy.explain(token.tag_))"
   ],
   "outputs": [
    {
     "output_type": "stream",
     "name": "stdout",
     "text": [
      "I \t PRON \t 13656873538139661788 \t pronoun \t pronoun, personal\n",
      "saw \t VERB \t 17109001835818727656 \t verb \t verb, past tense\n",
      "a \t DET \t 15267657372422890137 \t determiner \t determiner\n",
      "red \t ADJ \t 10554686591937588953 \t adjective \t adjective (English), other noun-modifier (Chinese)\n",
      "ship \t NOUN \t 15308085513773655218 \t noun \t noun, singular or mass\n",
      ". \t PUNCT \t 12646065887601541794 \t punctuation \t punctuation mark, sentence closer\n"
     ]
    }
   ],
   "metadata": {}
  },
  {
   "cell_type": "code",
   "execution_count": 14,
   "source": [
    "doc = nlp(\"My cat will fish for a fish tommorow in a fishy way.\")\r\n",
    "\r\n",
    "for token in doc:\r\n",
    "    print(token.text, \"\\t\", token.pos_, \"\\t\", token.tag, \"\\t\", spacy.explain(token.pos_), \"\\t\", spacy.explain(token.tag_))"
   ],
   "outputs": [
    {
     "output_type": "stream",
     "name": "stdout",
     "text": [
      "My \t PRON \t 4062917326063685704 \t pronoun \t pronoun, possessive\n",
      "cat \t NOUN \t 15308085513773655218 \t noun \t noun, singular or mass\n",
      "will \t AUX \t 16235386156175103506 \t auxiliary \t verb, modal auxiliary\n",
      "fish \t VERB \t 14200088355797579614 \t verb \t verb, base form\n",
      "for \t ADP \t 1292078113972184607 \t adposition \t conjunction, subordinating or preposition\n",
      "a \t DET \t 15267657372422890137 \t determiner \t determiner\n",
      "fish \t NOUN \t 15308085513773655218 \t noun \t noun, singular or mass\n",
      "tommorow \t NOUN \t 15308085513773655218 \t noun \t noun, singular or mass\n",
      "in \t ADP \t 1292078113972184607 \t adposition \t conjunction, subordinating or preposition\n",
      "a \t DET \t 15267657372422890137 \t determiner \t determiner\n",
      "fishy \t ADJ \t 10554686591937588953 \t adjective \t adjective (English), other noun-modifier (Chinese)\n",
      "way \t NOUN \t 15308085513773655218 \t noun \t noun, singular or mass\n",
      ". \t PUNCT \t 12646065887601541794 \t punctuation \t punctuation mark, sentence closer\n"
     ]
    }
   ],
   "metadata": {}
  },
  {
   "cell_type": "code",
   "execution_count": 15,
   "source": [
    "# 이 모델은 한글은 분석하지 못함\r\n",
    "doc = nlp(\"I고기를 잡으러 바다에 간다\")\r\n",
    "\r\n",
    "for token in doc:\r\n",
    "    print(token.text, \"\\t\", token.pos_, \"\\t\", token.tag, \"\\t\", spacy.explain(token.pos_), \"\\t\", spacy.explain(token.tag_))"
   ],
   "outputs": [
    {
     "output_type": "stream",
     "name": "stdout",
     "text": [
      "I고기를 \t PROPN \t 15794550382381185553 \t proper noun \t noun, proper singular\n",
      "잡으러 \t ADV \t 164681854541413346 \t adverb \t adverb\n",
      "바다에 \t NOUN \t 15308085513773655218 \t noun \t noun, singular or mass\n",
      "간다 \t NOUN \t 15308085513773655218 \t noun \t noun, singular or mass\n"
     ]
    }
   ],
   "metadata": {}
  },
  {
   "cell_type": "code",
   "execution_count": 16,
   "source": [
    "# POS : Part of Speech => 각 단어가 위치나 문장 구조 안에 형태에 따라 어떤 형식을 갖는지 알아보았음\r\n",
    "# NLU에서 왜 중요할까?\r\n",
    "# Natural Language Understanding 측면에서 정확도를 높이기 위해 필요하다!\r\n",
    "# 개떡같이 말해도 찰떡같이 알아듣는 애플리케이션 만들고자 함\r\n",
    "# 위의 예제에서 동사로 사용한 fish와 명사로 사용한 fish는 한국어로 표현할 때 전혀 다른 의미\r\n",
    "# 동사 fish => 낚시, / 명사 fish => 물고기\r\n",
    "# 구문정보(syntactic information)이 pos에 영향을 가져왔다고 이야기 할 수 있음\r\n"
   ],
   "outputs": [],
   "metadata": {}
  },
  {
   "cell_type": "code",
   "execution_count": 21,
   "source": [
    "sentence1 = \"I flew to Rome\"\r\n",
    "sentence2 = \"I'm flying to Rome\"\r\n",
    "sentence3 = \"I will fly to Rome\"\r\n",
    "\r\n",
    "doc1 = nlp(sentence1)\r\n",
    "doc2 = nlp(sentence2)\r\n",
    "doc3 = nlp(sentence3)\r\n",
    "\r\n",
    "for doc in [doc1, doc2, doc3]:\r\n",
    "    print([(w.text, w.lemma_) for w in doc if w.tag_ == \"VBG\" or w.tag_ == \"VB\"])"
   ],
   "outputs": [
    {
     "output_type": "stream",
     "name": "stdout",
     "text": [
      "[]\n",
      "[('flying', 'fly')]\n",
      "[('fly', 'fly')]\n"
     ]
    }
   ],
   "metadata": {}
  },
  {
   "cell_type": "code",
   "execution_count": null,
   "source": [
    "# WSD : Word-sense Disambiguation 단어 의미 중의성 해소\r\n",
    "# 단어들이 가진 중의성으로 인해 사람들도 다른 의미로 해석함\r\n",
    "# WSD problem : 자연어 처리에서 open problem, 복잡하고 통계적인 모델을 계속 연구하고 발표하고 있음\r\n",
    "\r\n",
    "# Bass - fish \r\n",
    "# Bass - lowest male voice\r\n",
    "# Bass - guitar(noun)\r\n",
    "\r\n",
    "# fish - verb / noun\r\n",
    "\r\n"
   ],
   "outputs": [],
   "metadata": {}
  },
  {
   "cell_type": "code",
   "execution_count": 25,
   "source": [
    "for token in doc3:\r\n",
    "    print(token.text, token.tag_, spacy.explain(token.tag_))"
   ],
   "outputs": [
    {
     "output_type": "stream",
     "name": "stdout",
     "text": [
      "I PRP pronoun, personal\n",
      "will MD verb, modal auxiliary\n",
      "fly VB verb, base form\n",
      "to IN conjunction, subordinating or preposition\n",
      "Rome NNP noun, proper singular\n"
     ]
    }
   ],
   "metadata": {}
  },
  {
   "cell_type": "code",
   "execution_count": 26,
   "source": [
    "doc = nlp(\"He earned $5.5 million in 2020 and paid %35 max.\")\r\n",
    "\r\n",
    "for token in doc:\r\n",
    "    print(token.text, token.tag_, spacy.explain(token.tag_))"
   ],
   "outputs": [
    {
     "output_type": "stream",
     "name": "stdout",
     "text": [
      "He PRP pronoun, personal\n",
      "earned VBD verb, past tense\n",
      "$ $ symbol, currency\n",
      "5.5 CD cardinal number\n",
      "million CD cardinal number\n",
      "in IN conjunction, subordinating or preposition\n",
      "2020 CD cardinal number\n",
      "and CC conjunction, coordinating\n",
      "paid VBD verb, past tense\n",
      "% NN noun, singular or mass\n",
      "35 CD cardinal number\n",
      "max NN noun, singular or mass\n",
      ". . punctuation mark, sentence closer\n"
     ]
    }
   ],
   "metadata": {}
  },
  {
   "cell_type": "code",
   "execution_count": 27,
   "source": [
    "doc = nlp(\"blue flower\")\r\n",
    "for token in doc:\r\n",
    "    print(token.text, token.dep_)"
   ],
   "outputs": [
    {
     "output_type": "stream",
     "name": "stdout",
     "text": [
      "blue amod\n",
      "flower ROOT\n"
     ]
    }
   ],
   "metadata": {}
  },
  {
   "cell_type": "code",
   "execution_count": 30,
   "source": [
    "# NE = Name Entity\r\n",
    "doc = nlp(\"The president Donald Trump visited France\")\r\n",
    "doc.ents"
   ],
   "outputs": [
    {
     "output_type": "execute_result",
     "data": {
      "text/plain": [
       "(Donald Trump, France)"
      ]
     },
     "metadata": {},
     "execution_count": 30
    }
   ],
   "metadata": {}
  },
  {
   "cell_type": "code",
   "execution_count": 31,
   "source": [
    "spacy.explain(\"ORG\")"
   ],
   "outputs": [
    {
     "output_type": "execute_result",
     "data": {
      "text/plain": [
       "'Companies, agencies, institutions, etc.'"
      ]
     },
     "metadata": {},
     "execution_count": 31
    }
   ],
   "metadata": {}
  },
  {
   "cell_type": "code",
   "execution_count": 36,
   "source": [
    "doc = nlp(\"He worked fo NASA.\")\r\n",
    "print(doc.ents)\r\n",
    "print(doc[3].ent_type_, spacy.explain(doc.ent_type_))"
   ],
   "outputs": [
    {
     "output_type": "stream",
     "name": "stdout",
     "text": [
      "(NASA,)\n"
     ]
    },
    {
     "output_type": "error",
     "ename": "AttributeError",
     "evalue": "'spacy.tokens.doc.Doc' object has no attribute 'ent_type_'",
     "traceback": [
      "\u001b[1;31m---------------------------------------------------------------------------\u001b[0m",
      "\u001b[1;31mAttributeError\u001b[0m                            Traceback (most recent call last)",
      "\u001b[1;32m~\\AppData\\Local\\Temp/ipykernel_34164/3109770198.py\u001b[0m in \u001b[0;36m<module>\u001b[1;34m\u001b[0m\n\u001b[0;32m      1\u001b[0m \u001b[0mdoc\u001b[0m \u001b[1;33m=\u001b[0m \u001b[0mnlp\u001b[0m\u001b[1;33m(\u001b[0m\u001b[1;34m\"He worked fo NASA.\"\u001b[0m\u001b[1;33m)\u001b[0m\u001b[1;33m\u001b[0m\u001b[1;33m\u001b[0m\u001b[0m\n\u001b[0;32m      2\u001b[0m \u001b[0mprint\u001b[0m\u001b[1;33m(\u001b[0m\u001b[0mdoc\u001b[0m\u001b[1;33m.\u001b[0m\u001b[0ments\u001b[0m\u001b[1;33m)\u001b[0m\u001b[1;33m\u001b[0m\u001b[1;33m\u001b[0m\u001b[0m\n\u001b[1;32m----> 3\u001b[1;33m \u001b[0mprint\u001b[0m\u001b[1;33m(\u001b[0m\u001b[0mdoc\u001b[0m\u001b[1;33m[\u001b[0m\u001b[1;36m3\u001b[0m\u001b[1;33m]\u001b[0m\u001b[1;33m.\u001b[0m\u001b[0ment_type_\u001b[0m\u001b[1;33m,\u001b[0m \u001b[0mspacy\u001b[0m\u001b[1;33m.\u001b[0m\u001b[0mexplain\u001b[0m\u001b[1;33m(\u001b[0m\u001b[0mdoc\u001b[0m\u001b[1;33m.\u001b[0m\u001b[0ment_type_\u001b[0m\u001b[1;33m)\u001b[0m\u001b[1;33m)\u001b[0m\u001b[1;33m\u001b[0m\u001b[1;33m\u001b[0m\u001b[0m\n\u001b[0m",
      "\u001b[1;31mAttributeError\u001b[0m: 'spacy.tokens.doc.Doc' object has no attribute 'ent_type_'"
     ]
    }
   ],
   "metadata": {}
  },
  {
   "cell_type": "code",
   "execution_count": 37,
   "source": [
    "# 많이 쓰이는 entity type\r\n",
    "# PER : Named person or family\r\n",
    "# LOC\r\n",
    "# ORG\r\n",
    "# MISC"
   ],
   "outputs": [],
   "metadata": {}
  },
  {
   "cell_type": "code",
   "execution_count": 38,
   "source": [
    "doc = nlp(\"Albert Einstein was born in Ulm in 1879. He studied electronical engineering at ETH Zurich.\")\r\n",
    "doc.ents"
   ],
   "outputs": [
    {
     "output_type": "execute_result",
     "data": {
      "text/plain": [
       "(Albert Einstein, Ulm, 1879, ETH Zurich)"
      ]
     },
     "metadata": {},
     "execution_count": 38
    }
   ],
   "metadata": {}
  },
  {
   "cell_type": "code",
   "execution_count": 40,
   "source": [
    "for token in doc:\r\n",
    "    print(token.text, token.ent_type_, spacy.explain(token.ent_type_))"
   ],
   "outputs": [
    {
     "output_type": "stream",
     "name": "stdout",
     "text": [
      "Albert PERSON People, including fictional\n",
      "Einstein PERSON People, including fictional\n",
      "was  None\n",
      "born  None\n",
      "in  None\n",
      "Ulm GPE Countries, cities, states\n",
      "in  None\n",
      "1879 DATE Absolute or relative dates or periods\n",
      ".  None\n",
      "He  None\n",
      "studied  None\n",
      "electronical  None\n",
      "engineering  None\n",
      "at  None\n",
      "ETH ORG Companies, agencies, institutions, etc.\n",
      "Zurich ORG Companies, agencies, institutions, etc.\n",
      ".  None\n"
     ]
    }
   ],
   "metadata": {}
  },
  {
   "cell_type": "code",
   "execution_count": 45,
   "source": [
    "doc = nlp(\"Jean-Michel Basquiat was an American artist of Haitian and Puerto Rican descent who gained fame with his graffiti and street art work\")\r\n",
    "\r\n",
    "doc.ents, type(doc.ents)\r\n"
   ],
   "outputs": [
    {
     "output_type": "execute_result",
     "data": {
      "text/plain": [
       "tuple"
      ]
     },
     "metadata": {},
     "execution_count": 45
    }
   ],
   "metadata": {}
  },
  {
   "cell_type": "code",
   "execution_count": 47,
   "source": [
    "# Spacy에서 다룰 수 있는 객체 : doc, span, \r\n",
    "for ent in doc.ents:\r\n",
    "    print(ent,ent.label_, spacy.explain(ent.label_))"
   ],
   "outputs": [
    {
     "output_type": "stream",
     "name": "stdout",
     "text": [
      "Jean-Michel Basquiat PERSON People, including fictional\n",
      "American NORP Nationalities or religious or political groups\n",
      "Haitian GPE Countries, cities, states\n",
      "Puerto Rican NORP Nationalities or religious or political groups\n"
     ]
    }
   ],
   "metadata": {}
  },
  {
   "cell_type": "code",
   "execution_count": null,
   "source": [
    "doc = nlp(\"Jean-Michel Basquiat was an American artist of Haitian and Puerto Rican descent who gained fame with his graffiti and street art work\")\r\n"
   ],
   "outputs": [],
   "metadata": {}
  },
  {
   "cell_type": "code",
   "execution_count": 48,
   "source": [
    "import spacy\r\n",
    "from spacy import displacy\r\n",
    "import en_core_web_sm\r\n",
    "nlp = en_core_web_sm.load()\r\n",
    "\r\n",
    "doc = nlp(\"Bill Gates is the CEO of Microsoft\")\r\n",
    "\r\n",
    "#displacy.serve(doc, style = \"dep\", port=5005)\r\n",
    "# dependency parse를 시각화\r\n",
    "\r\n",
    "#displacy.serve(doc, style='ent')\r\n",
    "# entity parse 시각화\r\n",
    "\r\n",
    "displacy.render(doc,style=\"ent\")"
   ],
   "outputs": [
    {
     "output_type": "display_data",
     "data": {
      "text/plain": [
       "<IPython.core.display.HTML object>"
      ],
      "text/html": [
       "<span class=\"tex2jax_ignore\"><div class=\"entities\" style=\"line-height: 2.5; direction: ltr\">\n",
       "<mark class=\"entity\" style=\"background: #aa9cfc; padding: 0.45em 0.6em; margin: 0 0.25em; line-height: 1; border-radius: 0.35em;\">\n",
       "    Bill Gates\n",
       "    <span style=\"font-size: 0.8em; font-weight: bold; line-height: 1; border-radius: 0.35em; vertical-align: middle; margin-left: 0.5rem\">PERSON</span>\n",
       "</mark>\n",
       " is the CEO of \n",
       "<mark class=\"entity\" style=\"background: #7aecec; padding: 0.45em 0.6em; margin: 0 0.25em; line-height: 1; border-radius: 0.35em;\">\n",
       "    Microsoft\n",
       "    <span style=\"font-size: 0.8em; font-weight: bold; line-height: 1; border-radius: 0.35em; vertical-align: middle; margin-left: 0.5rem\">ORG</span>\n",
       "</mark>\n",
       "</div></span>"
      ]
     },
     "metadata": {}
    }
   ],
   "metadata": {}
  },
  {
   "cell_type": "code",
   "execution_count": 49,
   "source": [
    "import spacy\r\n",
    "from spacy import displacy\r\n",
    "import en_core_web_sm\r\n",
    "nlp = en_core_web_sm.load()\r\n",
    "\r\n",
    "doc = nlp(\"I own a ginger cat\")\r\n",
    "\r\n",
    "displacy.serve(doc, style = \"dep\", port=5005)\r\n",
    "# dependency parse를 시각화\r\n",
    "\r\n",
    "#displacy.serve(doc, style='ent')\r\n",
    "# entity parse 시각화\r\n",
    "\r\n",
    "#displacy.render(doc,style=\"ent\")"
   ],
   "outputs": [
    {
     "output_type": "stream",
     "name": "stderr",
     "text": [
      "c:\\Users\\kdh\\Desktop\\Language_Recognition\\Language_recognition\\20210725\\venv_20210725\\lib\\site-packages\\spacy\\displacy\\__init__.py:97: UserWarning: [W011] It looks like you're calling displacy.serve from within a Jupyter notebook or a similar environment. This likely means you're already running a local web server, so there's no need to make displaCy start another one. Instead, you should be able to replace displacy.serve with displacy.render to show the visualization.\n",
      "  warnings.warn(Warnings.W011)\n"
     ]
    },
    {
     "output_type": "display_data",
     "data": {
      "text/plain": [
       "<IPython.core.display.HTML object>"
      ],
      "text/html": [
       "<span class=\"tex2jax_ignore\"><!DOCTYPE html>\n",
       "<html lang=\"en\">\n",
       "    <head>\n",
       "        <title>displaCy</title>\n",
       "    </head>\n",
       "\n",
       "    <body style=\"font-size: 16px; font-family: -apple-system, BlinkMacSystemFont, 'Segoe UI', Helvetica, Arial, sans-serif, 'Apple Color Emoji', 'Segoe UI Emoji', 'Segoe UI Symbol'; padding: 4rem 2rem; direction: ltr\">\n",
       "<figure style=\"margin-bottom: 6rem\">\n",
       "<svg xmlns=\"http://www.w3.org/2000/svg\" xmlns:xlink=\"http://www.w3.org/1999/xlink\" xml:lang=\"en\" id=\"a562d78be77149a197b9b243fc93b81f-0\" class=\"displacy\" width=\"925\" height=\"399.5\" direction=\"ltr\" style=\"max-width: none; height: 399.5px; color: #000000; background: #ffffff; font-family: Arial; direction: ltr\">\n",
       "<text class=\"displacy-token\" fill=\"currentColor\" text-anchor=\"middle\" y=\"309.5\">\n",
       "    <tspan class=\"displacy-word\" fill=\"currentColor\" x=\"50\">I</tspan>\n",
       "    <tspan class=\"displacy-tag\" dy=\"2em\" fill=\"currentColor\" x=\"50\">PRON</tspan>\n",
       "</text>\n",
       "\n",
       "<text class=\"displacy-token\" fill=\"currentColor\" text-anchor=\"middle\" y=\"309.5\">\n",
       "    <tspan class=\"displacy-word\" fill=\"currentColor\" x=\"225\">own</tspan>\n",
       "    <tspan class=\"displacy-tag\" dy=\"2em\" fill=\"currentColor\" x=\"225\">VERB</tspan>\n",
       "</text>\n",
       "\n",
       "<text class=\"displacy-token\" fill=\"currentColor\" text-anchor=\"middle\" y=\"309.5\">\n",
       "    <tspan class=\"displacy-word\" fill=\"currentColor\" x=\"400\">a</tspan>\n",
       "    <tspan class=\"displacy-tag\" dy=\"2em\" fill=\"currentColor\" x=\"400\">DET</tspan>\n",
       "</text>\n",
       "\n",
       "<text class=\"displacy-token\" fill=\"currentColor\" text-anchor=\"middle\" y=\"309.5\">\n",
       "    <tspan class=\"displacy-word\" fill=\"currentColor\" x=\"575\">ginger</tspan>\n",
       "    <tspan class=\"displacy-tag\" dy=\"2em\" fill=\"currentColor\" x=\"575\">NOUN</tspan>\n",
       "</text>\n",
       "\n",
       "<text class=\"displacy-token\" fill=\"currentColor\" text-anchor=\"middle\" y=\"309.5\">\n",
       "    <tspan class=\"displacy-word\" fill=\"currentColor\" x=\"750\">cat</tspan>\n",
       "    <tspan class=\"displacy-tag\" dy=\"2em\" fill=\"currentColor\" x=\"750\">NOUN</tspan>\n",
       "</text>\n",
       "\n",
       "<g class=\"displacy-arrow\">\n",
       "    <path class=\"displacy-arc\" id=\"arrow-a562d78be77149a197b9b243fc93b81f-0-0\" stroke-width=\"2px\" d=\"M70,264.5 C70,177.0 215.0,177.0 215.0,264.5\" fill=\"none\" stroke=\"currentColor\"/>\n",
       "    <text dy=\"1.25em\" style=\"font-size: 0.8em; letter-spacing: 1px\">\n",
       "        <textPath xlink:href=\"#arrow-a562d78be77149a197b9b243fc93b81f-0-0\" class=\"displacy-label\" startOffset=\"50%\" side=\"left\" fill=\"currentColor\" text-anchor=\"middle\">nsubj</textPath>\n",
       "    </text>\n",
       "    <path class=\"displacy-arrowhead\" d=\"M70,266.5 L62,254.5 78,254.5\" fill=\"currentColor\"/>\n",
       "</g>\n",
       "\n",
       "<g class=\"displacy-arrow\">\n",
       "    <path class=\"displacy-arc\" id=\"arrow-a562d78be77149a197b9b243fc93b81f-0-1\" stroke-width=\"2px\" d=\"M420,264.5 C420,89.5 745.0,89.5 745.0,264.5\" fill=\"none\" stroke=\"currentColor\"/>\n",
       "    <text dy=\"1.25em\" style=\"font-size: 0.8em; letter-spacing: 1px\">\n",
       "        <textPath xlink:href=\"#arrow-a562d78be77149a197b9b243fc93b81f-0-1\" class=\"displacy-label\" startOffset=\"50%\" side=\"left\" fill=\"currentColor\" text-anchor=\"middle\">det</textPath>\n",
       "    </text>\n",
       "    <path class=\"displacy-arrowhead\" d=\"M420,266.5 L412,254.5 428,254.5\" fill=\"currentColor\"/>\n",
       "</g>\n",
       "\n",
       "<g class=\"displacy-arrow\">\n",
       "    <path class=\"displacy-arc\" id=\"arrow-a562d78be77149a197b9b243fc93b81f-0-2\" stroke-width=\"2px\" d=\"M595,264.5 C595,177.0 740.0,177.0 740.0,264.5\" fill=\"none\" stroke=\"currentColor\"/>\n",
       "    <text dy=\"1.25em\" style=\"font-size: 0.8em; letter-spacing: 1px\">\n",
       "        <textPath xlink:href=\"#arrow-a562d78be77149a197b9b243fc93b81f-0-2\" class=\"displacy-label\" startOffset=\"50%\" side=\"left\" fill=\"currentColor\" text-anchor=\"middle\">compound</textPath>\n",
       "    </text>\n",
       "    <path class=\"displacy-arrowhead\" d=\"M595,266.5 L587,254.5 603,254.5\" fill=\"currentColor\"/>\n",
       "</g>\n",
       "\n",
       "<g class=\"displacy-arrow\">\n",
       "    <path class=\"displacy-arc\" id=\"arrow-a562d78be77149a197b9b243fc93b81f-0-3\" stroke-width=\"2px\" d=\"M245,264.5 C245,2.0 750.0,2.0 750.0,264.5\" fill=\"none\" stroke=\"currentColor\"/>\n",
       "    <text dy=\"1.25em\" style=\"font-size: 0.8em; letter-spacing: 1px\">\n",
       "        <textPath xlink:href=\"#arrow-a562d78be77149a197b9b243fc93b81f-0-3\" class=\"displacy-label\" startOffset=\"50%\" side=\"left\" fill=\"currentColor\" text-anchor=\"middle\">dobj</textPath>\n",
       "    </text>\n",
       "    <path class=\"displacy-arrowhead\" d=\"M750.0,266.5 L758.0,254.5 742.0,254.5\" fill=\"currentColor\"/>\n",
       "</g>\n",
       "</svg>\n",
       "</figure>\n",
       "</body>\n",
       "</html></span>"
      ]
     },
     "metadata": {}
    },
    {
     "output_type": "stream",
     "name": "stdout",
     "text": [
      "\n",
      "Using the 'dep' visualizer\n",
      "Serving on http://0.0.0.0:5005 ...\n",
      "\n"
     ]
    }
   ],
   "metadata": {}
  },
  {
   "cell_type": "code",
   "execution_count": null,
   "source": [
    "import spacy\r\n",
    "from spacy import displacy\r\n",
    "import en_core_web_sm\r\n",
    "nlp = en_core_web_sm.load()\r\n",
    "\r\n",
    "from pathlib import Path\r\n",
    "\r\n",
    "doc  = nlp(\"I'm a butterfly.\")\r\n",
    "svg = displacy.render(doc, style='dep', jupyter=False)\r\n",
    "filename = \"butterfly.svg\"\r\n",
    "output_path = Path(filename)\r\n",
    "\r\n",
    "output_path.open(\"w\", encoding=\"utf-8\").write(svg)\r\n"
   ],
   "outputs": [],
   "metadata": {}
  },
  {
   "cell_type": "code",
   "execution_count": null,
   "source": [],
   "outputs": [],
   "metadata": {}
  }
 ],
 "metadata": {
  "orig_nbformat": 4,
  "language_info": {
   "name": "python",
   "version": "3.9.6",
   "mimetype": "text/x-python",
   "codemirror_mode": {
    "name": "ipython",
    "version": 3
   },
   "pygments_lexer": "ipython3",
   "nbconvert_exporter": "python",
   "file_extension": ".py"
  },
  "kernelspec": {
   "name": "python3",
   "display_name": "Python 3.9.6 64-bit ('venv_20210725': venv)"
  },
  "interpreter": {
   "hash": "471ea15e84e2dd4595f6db37eeacb62c30399656b4cb052a6d9439208c6a3241"
  }
 },
 "nbformat": 4,
 "nbformat_minor": 2
}