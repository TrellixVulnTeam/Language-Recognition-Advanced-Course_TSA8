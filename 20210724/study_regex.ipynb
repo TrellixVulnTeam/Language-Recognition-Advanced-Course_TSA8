{
 "cells": [
  {
   "cell_type": "markdown",
   "source": [
    "## study_regex.ipynb"
   ],
   "metadata": {}
  },
  {
   "cell_type": "code",
   "execution_count": 1,
   "source": [
    "import re"
   ],
   "outputs": [],
   "metadata": {}
  },
  {
   "cell_type": "code",
   "execution_count": 2,
   "source": [
    "re.findall(\"abc\", \"kafabceiaselfabcalisjeabcflajslefj;aef\")"
   ],
   "outputs": [
    {
     "output_type": "execute_result",
     "data": {
      "text/plain": [
       "['abc', 'abc', 'abc']"
      ]
     },
     "metadata": {},
     "execution_count": 2
    }
   ],
   "metadata": {}
  },
  {
   "cell_type": "code",
   "execution_count": 3,
   "source": [
    "for match in re.findall(\"abc\", \"kafabceiaselfabcalisjeabcflajslefj;aef\"): # 파이썬의 리스트 형태로\r\n",
    "    print(match)"
   ],
   "outputs": [
    {
     "output_type": "stream",
     "name": "stdout",
     "text": [
      "abc\n",
      "abc\n",
      "abc\n"
     ]
    }
   ],
   "metadata": {}
  },
  {
   "cell_type": "code",
   "execution_count": 4,
   "source": [
    "iterator = re.finditer(\"abc\", \"kafabceiaselfabcalisjeabcflajslefj;aef\")"
   ],
   "outputs": [],
   "metadata": {}
  },
  {
   "cell_type": "code",
   "execution_count": 5,
   "source": [
    "for match in iterator:\r\n",
    "    print(match.group())"
   ],
   "outputs": [
    {
     "output_type": "stream",
     "name": "stdout",
     "text": [
      "abc\n",
      "abc\n",
      "abc\n"
     ]
    }
   ],
   "metadata": {}
  },
  {
   "cell_type": "code",
   "execution_count": 6,
   "source": [
    "# [ ] : 일치시키려는 문자 집합인 문자 클래스를 지정하는데 사용\r\n",
    "re.findall(\"abc\", \"askdfj;akdfj;lajdf;laj;lakdsfabcasdfaabcdadf\")"
   ],
   "outputs": [
    {
     "output_type": "execute_result",
     "data": {
      "text/plain": [
       "['abc', 'abc']"
      ]
     },
     "metadata": {},
     "execution_count": 6
    }
   ],
   "metadata": {}
  },
  {
   "cell_type": "code",
   "execution_count": 7,
   "source": [
    "# - 로 문자 클래스의 범위를 지정할 수 있다.\r\n",
    "re.findall(\"[xy]\", \"askdfj;akdfj;lajdf;laj;lakdsfabcasdfaabcdadf\")"
   ],
   "outputs": [
    {
     "output_type": "execute_result",
     "data": {
      "text/plain": [
       "[]"
      ]
     },
     "metadata": {},
     "execution_count": 7
    }
   ],
   "metadata": {}
  },
  {
   "cell_type": "code",
   "execution_count": 8,
   "source": [
    "re.findall(\"[abc]\", \"askdfj;akdfj;lajdf;laj;lakdsfabcasdfaabcdadf\")"
   ],
   "outputs": [
    {
     "output_type": "execute_result",
     "data": {
      "text/plain": [
       "['a', 'a', 'a', 'a', 'a', 'a', 'b', 'c', 'a', 'a', 'a', 'b', 'c', 'a']"
      ]
     },
     "metadata": {},
     "execution_count": 8
    }
   ],
   "metadata": {}
  },
  {
   "cell_type": "code",
   "execution_count": 9,
   "source": [
    "# 퀴즈 1 : 제시한 문자열에서 숫자들의 갯수\r\n",
    "re.findall(\"[0123456789]\", \"asdfjl;ajdf;la3534l2k3o;lkdagj;qi4touoq\"), type(re.findall(\"[0123456789]\", \"asdfjl;ajdf;la3534l2k3o;lkdagj;qi4touoq\"))"
   ],
   "outputs": [
    {
     "output_type": "execute_result",
     "data": {
      "text/plain": [
       "(['3', '5', '3', '4', '2', '3', '4'], list)"
      ]
     },
     "metadata": {},
     "execution_count": 9
    }
   ],
   "metadata": {}
  },
  {
   "cell_type": "code",
   "execution_count": 10,
   "source": [
    "# len(re.findall(\"[0123456789]\", \"asdfjl;ajdf;la3534l2k3o;lkdagj;qi4touoq\"))\r\n",
    "len(re.findall(\"[0-9]\", \"asdfjl;ajdf;la3534l2k3o;lkdagj;qi4touoq\")) "
   ],
   "outputs": [
    {
     "output_type": "execute_result",
     "data": {
      "text/plain": [
       "7"
      ]
     },
     "metadata": {},
     "execution_count": 10
    }
   ],
   "metadata": {}
  },
  {
   "cell_type": "code",
   "execution_count": 11,
   "source": [
    "# 파이썬에서 정말 많이 사용하는 데이터 구조 3형제\r\n",
    "# () : tuple, 변경이 안 됨! pandas나 numpy에서 특정한 결과를 줄 때 튜플 형태로 결과를 알려줌\r\n",
    "# {} : dictionary, key-value, JSON 포맷과 형태 비슷. JSON 형태를 웹에서 데이트를 가져오면, decode하면 바로 dictionary\r\n",
    "# [] : list, 모든 것들을 다 담을 수 있다. 길이도 가변적... 왠만한 경우 거의 리스트를 사용! 메모리 사용이 비효율적"
   ],
   "outputs": [],
   "metadata": {}
  },
  {
   "cell_type": "code",
   "execution_count": 18,
   "source": [
    "# 퀴즈 2 : 숫자가 4개 이어진 부분을 찾아주세요!\r\n",
    "re.findall(\"[0-9][0-9][0-9][0-9]\", \"asdfjl;ajdf;la3534l2k3o;lkdagj;qi4touoq\")"
   ],
   "outputs": [
    {
     "output_type": "execute_result",
     "data": {
      "text/plain": [
       "['3534']"
      ]
     },
     "metadata": {},
     "execution_count": 18
    }
   ],
   "metadata": {}
  },
  {
   "cell_type": "code",
   "execution_count": 19,
   "source": [
    "re.findall(\"[0-9]{4}\", \"asdfjl;ajdf;la3534l2k3o;lkdagj;qi4touoq\")"
   ],
   "outputs": [
    {
     "output_type": "execute_result",
     "data": {
      "text/plain": [
       "['3534']"
      ]
     },
     "metadata": {},
     "execution_count": 19
    }
   ],
   "metadata": {}
  },
  {
   "cell_type": "code",
   "execution_count": 13,
   "source": [
    "if len(re.findall(\"[0-9][0-9][0-9][0-9][0-9]\", \"asdfjl;ajdf;la3534l2k3o;lkdagj;qi4touoq\")) > 0:\r\n",
    "    print(\"찾았다!\")\r\n",
    "else:\r\n",
    "    print(\"없다!\")"
   ],
   "outputs": [
    {
     "output_type": "stream",
     "name": "stdout",
     "text": [
      "없다!\n"
     ]
    }
   ],
   "metadata": {}
  },
  {
   "cell_type": "code",
   "execution_count": 14,
   "source": [
    "# ^ : 지정한 클래스에 해당되지 않는 것을 찾아라!\r\n",
    "documents = ['asdfj;laieorkdjf;aliejr;akjdf23k4j;lajds;l',\r\n",
    "            'asdfjoqweitulad;ai@weutadg;lajoetiuaodkgjier',\r\n",
    "            'asdkfjqoitlskdnfoqwiekhas;ioew=adgoie',\r\n",
    "            'askdfl_asdkfei_asdjkfla****askeasfff',\r\n",
    "            '{{{{{asdfjowei@@##askdfoie}}}}}']\r\n",
    "regExp = '[0-9:\"{}()@#&]'\r\n",
    "\r\n",
    "for doc in documents:\r\n",
    "    if len(re.findall(regExp, doc)) > 0:\r\n",
    "        pass\r\n",
    "    else:\r\n",
    "        print(doc)"
   ],
   "outputs": [
    {
     "output_type": "stream",
     "name": "stdout",
     "text": [
      "asdkfjqoitlskdnfoqwiekhas;ioew=adgoie\n",
      "askdfl_asdkfei_asdjkfla****askeasfff\n"
     ]
    }
   ],
   "metadata": {}
  },
  {
   "cell_type": "code",
   "execution_count": 15,
   "source": [
    "documents = ['asdfj;laieorkdjf;aliejr;akjdf23k4j;lajds;l',\r\n",
    "            'asdfjoqweitulad;ai@weutadg;lajoetiuaodkgjier',\r\n",
    "            'asdkfjqoitlskdnfoqwiekhas;ioew=adgoie',\r\n",
    "            'askdfl_asdkfei_asdjkfla****askeasfff',\r\n",
    "            '{{{{{asdfjowei@@##askdfoie}}}}}']\r\n",
    "regExp = '[^0-9:;=\"_*{}()@#&]'\r\n",
    "\r\n",
    "for doc in documents:\r\n",
    "    if len(re.findall(regExp, doc)) < 0:\r\n",
    "        pass\r\n",
    "    else:\r\n",
    "        print(re.findall(regExp, doc))"
   ],
   "outputs": [
    {
     "output_type": "stream",
     "name": "stdout",
     "text": [
      "['a', 's', 'd', 'f', 'j', 'l', 'a', 'i', 'e', 'o', 'r', 'k', 'd', 'j', 'f', 'a', 'l', 'i', 'e', 'j', 'r', 'a', 'k', 'j', 'd', 'f', 'k', 'j', 'l', 'a', 'j', 'd', 's', 'l']\n",
      "['a', 's', 'd', 'f', 'j', 'o', 'q', 'w', 'e', 'i', 't', 'u', 'l', 'a', 'd', 'a', 'i', 'w', 'e', 'u', 't', 'a', 'd', 'g', 'l', 'a', 'j', 'o', 'e', 't', 'i', 'u', 'a', 'o', 'd', 'k', 'g', 'j', 'i', 'e', 'r']\n",
      "['a', 's', 'd', 'k', 'f', 'j', 'q', 'o', 'i', 't', 'l', 's', 'k', 'd', 'n', 'f', 'o', 'q', 'w', 'i', 'e', 'k', 'h', 'a', 's', 'i', 'o', 'e', 'w', 'a', 'd', 'g', 'o', 'i', 'e']\n",
      "['a', 's', 'k', 'd', 'f', 'l', 'a', 's', 'd', 'k', 'f', 'e', 'i', 'a', 's', 'd', 'j', 'k', 'f', 'l', 'a', 'a', 's', 'k', 'e', 'a', 's', 'f', 'f', 'f']\n",
      "['a', 's', 'd', 'f', 'j', 'o', 'w', 'e', 'i', 'a', 's', 'k', 'd', 'f', 'o', 'i', 'e']\n"
     ]
    }
   ],
   "metadata": {}
  },
  {
   "cell_type": "code",
   "execution_count": 16,
   "source": [
    "# \\\r\n",
    "# 퀴즈 3 : doc에서 모든 \\를 찾아보세요!\r\n",
    "doc = \"\\n for new [line, ] \\section and \\document and \\\\\\section \\n\""
   ],
   "outputs": [],
   "metadata": {}
  },
  {
   "cell_type": "code",
   "execution_count": 17,
   "source": [
    "doc = \"\\n for new [line, ] \\section and \\document and \\\\\\section \\n\"\r\n",
    "regExp = \"\\\"\r\n",
    "print(len(re.findall(regExp, doc)))"
   ],
   "outputs": [
    {
     "output_type": "error",
     "ename": "SyntaxError",
     "evalue": "EOL while scanning string literal (CreatorTemp/ipykernel_2428/409492750.py, line 2)",
     "traceback": [
      "\u001b[1;36m  File \u001b[1;32m\"C:\\Users\\Public\\Documents\\ESTsoft\\CreatorTemp/ipykernel_2428/409492750.py\"\u001b[1;36m, line \u001b[1;32m2\u001b[0m\n\u001b[1;33m    regExp = \"\\\"\u001b[0m\n\u001b[1;37m                ^\u001b[0m\n\u001b[1;31mSyntaxError\u001b[0m\u001b[1;31m:\u001b[0m EOL while scanning string literal\n"
     ]
    }
   ],
   "metadata": {}
  },
  {
   "cell_type": "code",
   "execution_count": null,
   "source": [
    "# doc = \"\\n for new [line, ] '\\'section and \\document and \\\\\\section \\n\"\r\n",
    "doc = \"\\n for new [line, ] \\section and \\document and \\\\\\section \\n\"\r\n",
    "regExp = \"'\\'\"\r\n",
    "print(len(re.findall(regExp, doc)))"
   ],
   "outputs": [
    {
     "output_type": "stream",
     "name": "stdout",
     "text": [
      "0\n"
     ]
    }
   ],
   "metadata": {}
  },
  {
   "cell_type": "code",
   "execution_count": null,
   "source": [
    "\r\n",
    "# doc = \"\\n for new [line, ] '\\'section and \\document and \\\\\\section \\n\"\r\n",
    "doc = \"\\n for new [line, ] \\section and \\document and \\\\\\section \\n\"\r\n",
    "# regExp = \"\\\\\" # escape character 특수문자를 표시하기 일반적으로 \\를 추가\r\n",
    "regExp = \"'\\\\'\" # escape character 특수문자를 표시하기 일반적으로 \\를 추가\r\n",
    "print(len(re.findall(regExp, doc)))"
   ],
   "outputs": [
    {
     "output_type": "stream",
     "name": "stdout",
     "text": [
      "0\n"
     ]
    }
   ],
   "metadata": {}
  },
  {
   "cell_type": "code",
   "execution_count": null,
   "source": [
    "# doc = \"\\n for new [line, ] \\section and \\document and \\\\\\section \\n\"\r\n",
    "doc = \" for new [line, ] \\section and \\document and \\\\\\section \"\r\n",
    "print(doc)"
   ],
   "outputs": [
    {
     "output_type": "stream",
     "name": "stdout",
     "text": [
      " for new [line, ] \\section and \\document and \\\\section \n"
     ]
    }
   ],
   "metadata": {}
  },
  {
   "cell_type": "code",
   "execution_count": null,
   "source": [
    "doc = \" for new [line, ] \\section and \\document and \\\\\\section \"\r\n",
    "print(doc)"
   ],
   "outputs": [
    {
     "output_type": "stream",
     "name": "stdout",
     "text": [
      " for new [line, ] \\section and \\document and \\\\section \n"
     ]
    }
   ],
   "metadata": {}
  },
  {
   "cell_type": "code",
   "execution_count": null,
   "source": [
    "doc = \"\\n for new [line, ] \\section and \\document and \\\\\\section \\n\"\r\n",
    "print(doc)"
   ],
   "outputs": [
    {
     "output_type": "stream",
     "name": "stdout",
     "text": [
      "\n",
      " for new [line, ] \\section and \\document and \\\\section \n",
      "\n"
     ]
    }
   ],
   "metadata": {}
  },
  {
   "cell_type": "code",
   "execution_count": null,
   "source": [
    "doc = \"\\n for new [line, ] \\section and \\document and \\\\\\section \\n\"\r\n",
    "regExp = \"[\\\\\\]\"\r\n",
    "print(len(re.findall(regExp, doc)))"
   ],
   "outputs": [
    {
     "output_type": "stream",
     "name": "stdout",
     "text": [
      "4\n"
     ]
    }
   ],
   "metadata": {}
  },
  {
   "cell_type": "code",
   "execution_count": null,
   "source": [
    "print(\"\\\\\\section\") # \\\\ => \\"
   ],
   "outputs": [
    {
     "output_type": "stream",
     "name": "stdout",
     "text": [
      "\\\\section\n"
     ]
    }
   ],
   "metadata": {}
  },
  {
   "cell_type": "code",
   "execution_count": null,
   "source": [
    "doc = r\"\\n for new [line, ] \\section and \\document and \\\\\\section \\n\"\r\n",
    "regExp = \"[\\\\\\]\"\r\n",
    "print(len(re.findall(regExp, doc)))"
   ],
   "outputs": [
    {
     "output_type": "stream",
     "name": "stdout",
     "text": [
      "7\n"
     ]
    }
   ],
   "metadata": {}
  },
  {
   "cell_type": "code",
   "execution_count": null,
   "source": [
    "doc = \"\\n for new [line, ] \\section and \\document and \\\\\\section \\n\"\r\n",
    "print(doc)"
   ],
   "outputs": [
    {
     "output_type": "stream",
     "name": "stdout",
     "text": [
      "\n",
      " for new [line, ] \\section and \\document and \\\\section \n",
      "\n"
     ]
    }
   ],
   "metadata": {}
  },
  {
   "cell_type": "code",
   "execution_count": null,
   "source": [
    "doc = r\"\\n for new [line, ] \\section and \\document and \\\\\\section \\n\"\r\n",
    "print(doc)"
   ],
   "outputs": [
    {
     "output_type": "stream",
     "name": "stdout",
     "text": [
      "\\n for new [line, ] \\section and \\document and \\\\\\section \\n\n"
     ]
    }
   ],
   "metadata": {}
  },
  {
   "cell_type": "code",
   "execution_count": null,
   "source": [
    "# 퀴즈 : \\랑 [랑 ]랑 가진 부분을 찾아주세요 : 갯수는 9가 되어야 합니다.\r\n",
    "doc = r\"\\n for new [line, ] \\section and \\document and \\\\\\section \\n\"\r\n",
    "regExp = \"[\\[\\]\\\\\\]\"\r\n",
    "print(len(re.findall(regExp, doc)))\r\n",
    "\r\n",
    "# \"[\\[\\]\\\\\\]\"\r\n",
    "# \"[  \\[   \\]  \\\\\\]\""
   ],
   "outputs": [
    {
     "output_type": "stream",
     "name": "stdout",
     "text": [
      "9\n"
     ]
    }
   ],
   "metadata": {}
  },
  {
   "cell_type": "code",
   "execution_count": null,
   "source": [
    "doc = r\"\\n for new [line, ] \\section and \\document and \\\\\\section \\n\"\r\n",
    "regExp_Brackets = \"[\\[\\]]\"\r\n",
    "brackets_count = len(re.findall(regExp_Brackets, doc))\r\n",
    "\r\n",
    "regExp_Slash = \"[\\\\\\\\]\"\r\n",
    "slash_count = len(re.findall(regExp_Slash, doc))\r\n",
    "\r\n",
    "print(brackets_count + slash_count)"
   ],
   "outputs": [
    {
     "output_type": "stream",
     "name": "stdout",
     "text": [
      "9\n"
     ]
    }
   ],
   "metadata": {}
  },
  {
   "cell_type": "code",
   "execution_count": null,
   "source": [
    "# 퀴즈 : \\section 부분을 찾아주세요! \r\n",
    "doc = \"\\n for new [line, ] \\section and \\document and \\\\\\section \\n\"\r\n",
    "regExp = \"[\\\\\\]section\"\r\n",
    "print(re.findall(regExp, doc))\r\n"
   ],
   "outputs": [
    {
     "output_type": "stream",
     "name": "stdout",
     "text": [
      "['\\\\section', '\\\\section']\n"
     ]
    }
   ],
   "metadata": {}
  },
  {
   "cell_type": "code",
   "execution_count": null,
   "source": [
    "# \\d : 모두 숫자 0-9와 똑같다! [0-9]\r\n",
    "# \\D : [^0-9]\r\n",
    "# \\s : 모든 공백문자를 의미 [\\t\\n\\r\\f\\v]와 동일\r\n",
    "# \\S : [^\\t\\n\\r\\f\\v]\r\n",
    "# \\w : 모든 영문자 + 숫자 + underscore [a-zA-Z0-9_]와 동일 \r\n",
    "# \\W : [^a-zA-Z0-9_]"
   ],
   "outputs": [],
   "metadata": {}
  },
  {
   "cell_type": "code",
   "execution_count": null,
   "source": [
    "documents = ['asdfj;laieorkdjf;aliejr;akjdf23k4j;lajds;l',\r\n",
    "            'asdfjoqweitulad;ai@weutadg;lajoetiuaodkgjier',\r\n",
    "            'asdkfjqoitlskdnfoqwiekhas;ioew=adgoie',\r\n",
    "            'askdfl_asdkfei_asdjkfla****askeasfff',\r\n",
    "            '{{{{{asdfjowei@@##askdfoie}}}}}']\r\n",
    "regExp = '[\\W]'\r\n",
    "\r\n",
    "for line in documents:\r\n",
    "    rs = re.findall(regExp, line)\r\n",
    "    print(rs)"
   ],
   "outputs": [
    {
     "output_type": "stream",
     "name": "stdout",
     "text": [
      "[';', ';', ';', ';', ';']\n",
      "[';', '@', ';']\n",
      "[';', '=']\n",
      "['*', '*', '*', '*']\n",
      "['{', '{', '{', '{', '{', '@', '@', '#', '#', '}', '}', '}', '}', '}']\n"
     ]
    }
   ],
   "metadata": {}
  },
  {
   "cell_type": "code",
   "execution_count": null,
   "source": [
    "# * : *앞에 있는 문자가 없거나 갯수에 상관없이 형태를 유지하며 찾는다 : Greedy matching\r\n",
    "doc = \"YahooYahoooYahooooYahoooooYaho\"\r\n",
    "regExp = \"Yahoo*\"\r\n",
    "rs = re.findall(regExp, doc)\r\n",
    "print(rs)"
   ],
   "outputs": [
    {
     "output_type": "stream",
     "name": "stdout",
     "text": [
      "['Yahoo', 'Yahooo', 'Yahoooo', 'Yahooooo', 'Yaho']\n"
     ]
    }
   ],
   "metadata": {}
  },
  {
   "cell_type": "code",
   "execution_count": null,
   "source": [
    "documents = ['asdfj;laieorkdjf;aliejr;akjdf23k4j;lajds;l',\r\n",
    "            'asdfjoqweitulad;ai@weutadg;lajoetiuaodkgjier',\r\n",
    "            'asdkfjqoitlskdnfoqwiekhas;ioew=adgoie',\r\n",
    "            'askdfl_asdkfei_asdjkfla****askeasfff',\r\n",
    "            '{{{{{asdfjowei@@##askdfoie}}}}}']\r\n",
    "regExp = '[\\w]*'\r\n",
    "\r\n",
    "for line in documents:\r\n",
    "    rs = re.findall(regExp, line)\r\n",
    "    print(rs)"
   ],
   "outputs": [
    {
     "output_type": "stream",
     "name": "stdout",
     "text": [
      "['asdfj', '', 'laieorkdjf', '', 'aliejr', '', 'akjdf23k4j', '', 'lajds', '', 'l', '']\n",
      "['asdfjoqweitulad', '', 'ai', '', 'weutadg', '', 'lajoetiuaodkgjier', '']\n",
      "['asdkfjqoitlskdnfoqwiekhas', '', 'ioew', '', 'adgoie', '']\n",
      "['askdfl_asdkfei_asdjkfla', '', '', '', '', 'askeasfff', '']\n",
      "['', '', '', '', '', 'asdfjowei', '', '', '', '', 'askdfoie', '', '', '', '', '', '']\n"
     ]
    }
   ],
   "metadata": {}
  },
  {
   "cell_type": "code",
   "execution_count": null,
   "source": [
    "# + : *앞에 있는 문자가 최소 1개이상 갯수에 상관없이 형태를 유지하며 찾는다\r\n",
    "doc = \"YahooYahoooYahooooYahoooooYaho\"\r\n",
    "regExp = \"Yahooo+\"\r\n",
    "rs = re.findall(regExp, doc)\r\n",
    "print(rs)"
   ],
   "outputs": [
    {
     "output_type": "stream",
     "name": "stdout",
     "text": [
      "['Yahooo', 'Yahoooo', 'Yahooooo']\n"
     ]
    }
   ],
   "metadata": {}
  },
  {
   "cell_type": "code",
   "execution_count": null,
   "source": [
    "# ? : ? 뒤에 문자가 없거나 존재하는 것 계속 확인\r\n",
    "doc = \"YahooYahoooYahooooYahoooooYaho\"\r\n",
    "regExp = \"Yah?ooo\" # Yahoo 라는 패턴이 있는 것 다 찾아달라\r\n",
    "rs = re.findall(regExp, doc)\r\n",
    "print(rs)"
   ],
   "outputs": [
    {
     "output_type": "stream",
     "name": "stdout",
     "text": [
      "['Yahooo', 'Yahooo', 'Yahooo']\n"
     ]
    }
   ],
   "metadata": {}
  },
  {
   "cell_type": "code",
   "execution_count": null,
   "source": [
    "# {m, n}\r\n",
    "documents = ['asdfj;laieorkdjf;aliejr;akjdf23k4j;lajds;l',\r\n",
    "            'asdf33joqweitulad;ai@weutadg;lajoeti53uaodkgjier',\r\n",
    "            'asdkfjqoitf3f3lskdnfoqwi23423523ekhas;ioew=adgoie',\r\n",
    "            'a3343skdfl_asdkfei_asdjkfla****askeasfff',\r\n",
    "            '{{{{{asdfjowei@@##askdfoie}}}}}']\r\n",
    "regExp = '\\d{1,2}' # {0,} = *, {1,} = +, {0,1} = ?\r\n",
    "\r\n",
    "for line in documents:\r\n",
    "    rs = re.findall(regExp, line)\r\n",
    "    print(rs)"
   ],
   "outputs": [
    {
     "output_type": "stream",
     "name": "stdout",
     "text": [
      "['23', '4']\n",
      "['33', '53']\n",
      "['3', '3', '23', '42', '35', '23']\n",
      "['33', '43']\n",
      "[]\n"
     ]
    }
   ],
   "metadata": {}
  },
  {
   "cell_type": "code",
   "execution_count": 30,
   "source": [
    "p = re.compile(\"a\\d*b\", re.IGNORECASE)\r\n",
    "p.findall(\"a234122B2352Ab\")"
   ],
   "outputs": [
    {
     "output_type": "execute_result",
     "data": {
      "text/plain": [
       "['a234122B', 'Ab']"
      ]
     },
     "metadata": {},
     "execution_count": 30
    }
   ],
   "metadata": {}
  },
  {
   "cell_type": "code",
   "execution_count": 21,
   "source": [
    "p = re.compile(\"a\\d*b\")\r\n",
    "p.findall(\"a234122B2352Ab\")"
   ],
   "outputs": [
    {
     "output_type": "execute_result",
     "data": {
      "text/plain": [
       "[]"
      ]
     },
     "metadata": {},
     "execution_count": 21
    }
   ],
   "metadata": {}
  },
  {
   "cell_type": "code",
   "execution_count": 54,
   "source": [
    "# space 문자들의 갯수를 찾아보고 싶다!\r\n",
    "# \\s : 모든 공백문자를 의미 [\\t\\n\\r\\f\\v]와 동일\r\n",
    "# \\S : [^\\t\\n\\r\\f\\v]\r\n",
    "doc = '      \\t    \\t   \\t how are   \\t  you today ... asdfjla;joeito;angl;a4o3'\r\n",
    "p = re.compile(\"\\s*\")\r\n",
    "m = p.findall(doc)\r\n",
    "print(m)"
   ],
   "outputs": [
    {
     "output_type": "stream",
     "name": "stdout",
     "text": [
      "['      \\t    \\t   \\t ', '', '', '', ' ', '', '', '', '   \\t  ', '', '', '', ' ', '', '', '', '', '', ' ', '', '', '', ' ', '', '', '', '', '', '', '', '', '', '', '', '', '', '', '', '', '', '', '', '', '', '', '', '', '']\n"
     ]
    }
   ],
   "metadata": {}
  },
  {
   "cell_type": "code",
   "execution_count": 62,
   "source": [
    "# match() 함수 : (원본) 문자열의 시작부분부터 패턴이 매칭이 되는지 검사\r\n",
    "# 문자열 중간에 패턴이 있더라고 시작부터 없으면 찾지 않는다.\r\n",
    "# match가 된 값을 얻으려면 group이라는 메서드를 사용\r\n",
    "# doc = '      \\t    \\t   \\t how are   \\t  you today ... asdfjla;joeito;angl;a4o3'\r\n",
    "doc = '  how are   \\t  you today ... asdfjla;joeito;angl;a4o3'\r\n",
    "p = re.compile(\"\\s*\")\r\n",
    "m = p.match(doc)\r\n",
    "print(m.span(), m.start(), m.end(), len(m.group()))\r\n",
    "print(doc[m.end():])"
   ],
   "outputs": [
    {
     "output_type": "stream",
     "name": "stdout",
     "text": [
      "(0, 2) 0 2 2\n",
      "how are   \t  you today ... asdfjla;joeito;angl;a4o3\n"
     ]
    }
   ],
   "metadata": {}
  },
  {
   "cell_type": "code",
   "execution_count": 64,
   "source": [
    "# search() : 처음부터 매칭되는 것을 찾아갑니다. 매칭되는 결과가 있다면 검사를 중지\r\n",
    "doc = \"lololololo\"\r\n",
    "p = re.compile(\"olo\")\r\n",
    "m = p.search(doc)\r\n",
    "print(m.span(), m.start(), m.end(), len(m.group()))\r\n",
    "print(doc[m.end():])\r\n",
    "print(m.group())"
   ],
   "outputs": [
    {
     "output_type": "stream",
     "name": "stdout",
     "text": [
      "(1, 4) 1 4 3\n",
      "lololo\n",
      "olo\n"
     ]
    }
   ],
   "metadata": {}
  },
  {
   "cell_type": "code",
   "execution_count": 70,
   "source": [
    "doc = \"ololololo\"\r\n",
    "p = re.compile(\"olo\")\r\n",
    "m = p.match(doc)\r\n",
    "print(m.span())\r\n"
   ],
   "outputs": [
    {
     "output_type": "stream",
     "name": "stdout",
     "text": [
      "(0, 3)\n"
     ]
    }
   ],
   "metadata": {}
  },
  {
   "cell_type": "code",
   "execution_count": 77,
   "source": [
    "documents = 'asdfj;laieorkdjf;aliejr;akjdf23k4j;lajds;lasdf33joqweitulad;ai@weutadg;lajoeti53uaodkgjierasdkfjqoitf3f3lskdnfoqwi23423523ekhas;ioew=adgoiea3343skdfl_asdkfei_asdjkfla****askeasfff{{{{{asdfjowei@@##askdfoie}}}}}'\r\n",
    "p = re.compile(\"[a-zA-Z_]\\w*\")\r\n",
    "iterator = p.finditer(documents)\r\n",
    "for match in iterator:\r\n",
    "    print(match.span(), match.group())"
   ],
   "outputs": [
    {
     "output_type": "stream",
     "name": "stdout",
     "text": [
      "(0, 5) asdfj\n",
      "(6, 16) laieorkdjf\n",
      "(17, 23) aliejr\n",
      "(24, 34) akjdf23k4j\n",
      "(35, 40) lajds\n",
      "(41, 59) lasdf33joqweitulad\n",
      "(60, 62) ai\n",
      "(63, 70) weutadg\n",
      "(71, 127) lajoeti53uaodkgjierasdkfjqoitf3f3lskdnfoqwi23423523ekhas\n",
      "(128, 132) ioew\n",
      "(133, 166) adgoiea3343skdfl_asdkfei_asdjkfla\n",
      "(170, 179) askeasfff\n",
      "(184, 193) asdfjowei\n",
      "(197, 205) askdfoie\n"
     ]
    }
   ],
   "metadata": {}
  },
  {
   "cell_type": "code",
   "execution_count": 88,
   "source": [
    "# | : 논리연산 or\r\n",
    "doc = r\"\\n for new [line, ] \\section and \\document and \\\\\\section \\n\"\r\n",
    "regExp_brackets = \"[\\[\\]]\"\r\n",
    "regExp_slashes = \"[\\\\\\]\"\r\n",
    "p = re.compile(regExp_brackets + \"|\" + regExp_slashes)\r\n",
    "# p = re.compile(regExp_brackets)\r\n",
    "# p = re.compile(regExp_slashes)\r\n",
    "print(p.findall(doc))\r\n",
    "print(len(p.findall(doc)))"
   ],
   "outputs": [
    {
     "output_type": "stream",
     "name": "stdout",
     "text": [
      "['\\\\', '[', ']', '\\\\', '\\\\', '\\\\', '\\\\', '\\\\', '\\\\']\n",
      "9\n"
     ]
    }
   ],
   "metadata": {}
  },
  {
   "cell_type": "code",
   "execution_count": 97,
   "source": [
    "# ^ : []안에 ^이 존재한다면 그 클래스 문자 이외의 문자들을 의미한다!\r\n",
    "# [] 안에 ^이 없는 경우, regex 사용하는 문자열이 인덱스가 0부터 시작하는 확인\r\n",
    "# vim 이라는 리눅스에서 많이 사용하는 에디터의 경우 편집시 ^를 입력하는 경우, 바로 해당 문장의 앞으로 이동합니다.\r\n",
    "m = re.search(\"From\", \" From Here to Eternity\")\r\n",
    "m.span(), m.group()"
   ],
   "outputs": [
    {
     "output_type": "execute_result",
     "data": {
      "text/plain": [
       "((1, 5), 'From')"
      ]
     },
     "metadata": {},
     "execution_count": 97
    }
   ],
   "metadata": {}
  },
  {
   "cell_type": "code",
   "execution_count": 99,
   "source": [
    "m = re.search(\"^From\", \"From Here to Eternity\")\r\n",
    "m.span(), m.group()"
   ],
   "outputs": [
    {
     "output_type": "execute_result",
     "data": {
      "text/plain": [
       "((0, 4), 'From')"
      ]
     },
     "metadata": {},
     "execution_count": 99
    }
   ],
   "metadata": {}
  },
  {
   "cell_type": "code",
   "execution_count": 103,
   "source": [
    "m = re.search(\"From\", \"Reciting From Memory From Me\")\r\n",
    "m.span(), m.group()"
   ],
   "outputs": [
    {
     "output_type": "execute_result",
     "data": {
      "text/plain": [
       "((9, 13), 'From')"
      ]
     },
     "metadata": {},
     "execution_count": 103
    }
   ],
   "metadata": {}
  },
  {
   "cell_type": "code",
   "execution_count": 104,
   "source": [
    "m = re.search(\"^From\", \"Reciting From Memory From Me\")\r\n",
    "m.span(), m.group()"
   ],
   "outputs": [
    {
     "output_type": "error",
     "ename": "AttributeError",
     "evalue": "'NoneType' object has no attribute 'span'",
     "traceback": [
      "\u001b[1;31m---------------------------------------------------------------------------\u001b[0m",
      "\u001b[1;31mAttributeError\u001b[0m                            Traceback (most recent call last)",
      "\u001b[1;32mC:\\Users\\Public\\Documents\\ESTsoft\\CreatorTemp/ipykernel_2428/342322192.py\u001b[0m in \u001b[0;36m<module>\u001b[1;34m\u001b[0m\n\u001b[0;32m      1\u001b[0m \u001b[0mm\u001b[0m \u001b[1;33m=\u001b[0m \u001b[0mre\u001b[0m\u001b[1;33m.\u001b[0m\u001b[0msearch\u001b[0m\u001b[1;33m(\u001b[0m\u001b[1;34m\"^From\"\u001b[0m\u001b[1;33m,\u001b[0m \u001b[1;34m\"Reciting From Memory From Me\"\u001b[0m\u001b[1;33m)\u001b[0m\u001b[1;33m\u001b[0m\u001b[1;33m\u001b[0m\u001b[0m\n\u001b[1;32m----> 2\u001b[1;33m \u001b[0mm\u001b[0m\u001b[1;33m.\u001b[0m\u001b[0mspan\u001b[0m\u001b[1;33m(\u001b[0m\u001b[1;33m)\u001b[0m\u001b[1;33m,\u001b[0m \u001b[0mm\u001b[0m\u001b[1;33m.\u001b[0m\u001b[0mgroup\u001b[0m\u001b[1;33m(\u001b[0m\u001b[1;33m)\u001b[0m\u001b[1;33m\u001b[0m\u001b[1;33m\u001b[0m\u001b[0m\n\u001b[0m",
      "\u001b[1;31mAttributeError\u001b[0m: 'NoneType' object has no attribute 'span'"
     ]
    }
   ],
   "metadata": {}
  },
  {
   "cell_type": "code",
   "execution_count": 106,
   "source": [
    "# $ : 앞에서 살펴본 ^의 반대 개념,\r\n",
    "# vim 이라는 리눅스에서 많이 사용하는 에디터의 경우 편집시 $를 입력하는 경우, 바로 해당 문장의 끝으로 이동합니다.\r\n",
    "\r\n",
    "m = re.search(\"}$\", \"{block}\")\r\n",
    "m.span(), m.group()"
   ],
   "outputs": [
    {
     "output_type": "execute_result",
     "data": {
      "text/plain": [
       "((6, 7), '}')"
      ]
     },
     "metadata": {},
     "execution_count": 106
    }
   ],
   "metadata": {}
  },
  {
   "cell_type": "code",
   "execution_count": 108,
   "source": [
    "m = re.search(\"}$\", \"{block}\\n\")\r\n",
    "m.span(), m.group()"
   ],
   "outputs": [
    {
     "output_type": "execute_result",
     "data": {
      "text/plain": [
       "((6, 7), '}')"
      ]
     },
     "metadata": {},
     "execution_count": 108
    }
   ],
   "metadata": {}
  },
  {
   "cell_type": "code",
   "execution_count": 109,
   "source": [
    "m = re.search(\"}$\", r\"{block}\\n\")\r\n",
    "m.span(), m.group()"
   ],
   "outputs": [
    {
     "output_type": "error",
     "ename": "AttributeError",
     "evalue": "'NoneType' object has no attribute 'span'",
     "traceback": [
      "\u001b[1;31m---------------------------------------------------------------------------\u001b[0m",
      "\u001b[1;31mAttributeError\u001b[0m                            Traceback (most recent call last)",
      "\u001b[1;32mC:\\Users\\Public\\Documents\\ESTsoft\\CreatorTemp/ipykernel_2428/3858390739.py\u001b[0m in \u001b[0;36m<module>\u001b[1;34m\u001b[0m\n\u001b[0;32m      1\u001b[0m \u001b[0mm\u001b[0m \u001b[1;33m=\u001b[0m \u001b[0mre\u001b[0m\u001b[1;33m.\u001b[0m\u001b[0msearch\u001b[0m\u001b[1;33m(\u001b[0m\u001b[1;34m\"}$\"\u001b[0m\u001b[1;33m,\u001b[0m \u001b[1;34mr\"{block}\\n\"\u001b[0m\u001b[1;33m)\u001b[0m\u001b[1;33m\u001b[0m\u001b[1;33m\u001b[0m\u001b[0m\n\u001b[1;32m----> 2\u001b[1;33m \u001b[0mm\u001b[0m\u001b[1;33m.\u001b[0m\u001b[0mspan\u001b[0m\u001b[1;33m(\u001b[0m\u001b[1;33m)\u001b[0m\u001b[1;33m,\u001b[0m \u001b[0mm\u001b[0m\u001b[1;33m.\u001b[0m\u001b[0mgroup\u001b[0m\u001b[1;33m(\u001b[0m\u001b[1;33m)\u001b[0m\u001b[1;33m\u001b[0m\u001b[1;33m\u001b[0m\u001b[0m\n\u001b[0m",
      "\u001b[1;31mAttributeError\u001b[0m: 'NoneType' object has no attribute 'span'"
     ]
    }
   ],
   "metadata": {}
  },
  {
   "cell_type": "code",
   "execution_count": 107,
   "source": [
    "m = re.search(\"}$\", \"{block} \")\r\n",
    "m.span(), m.group()"
   ],
   "outputs": [
    {
     "output_type": "error",
     "ename": "AttributeError",
     "evalue": "'NoneType' object has no attribute 'span'",
     "traceback": [
      "\u001b[1;31m---------------------------------------------------------------------------\u001b[0m",
      "\u001b[1;31mAttributeError\u001b[0m                            Traceback (most recent call last)",
      "\u001b[1;32mC:\\Users\\Public\\Documents\\ESTsoft\\CreatorTemp/ipykernel_2428/1056242347.py\u001b[0m in \u001b[0;36m<module>\u001b[1;34m\u001b[0m\n\u001b[0;32m      1\u001b[0m \u001b[0mm\u001b[0m \u001b[1;33m=\u001b[0m \u001b[0mre\u001b[0m\u001b[1;33m.\u001b[0m\u001b[0msearch\u001b[0m\u001b[1;33m(\u001b[0m\u001b[1;34m\"}$\"\u001b[0m\u001b[1;33m,\u001b[0m \u001b[1;34m\"{block} \"\u001b[0m\u001b[1;33m)\u001b[0m\u001b[1;33m\u001b[0m\u001b[1;33m\u001b[0m\u001b[0m\n\u001b[1;32m----> 2\u001b[1;33m \u001b[0mm\u001b[0m\u001b[1;33m.\u001b[0m\u001b[0mspan\u001b[0m\u001b[1;33m(\u001b[0m\u001b[1;33m)\u001b[0m\u001b[1;33m,\u001b[0m \u001b[0mm\u001b[0m\u001b[1;33m.\u001b[0m\u001b[0mgroup\u001b[0m\u001b[1;33m(\u001b[0m\u001b[1;33m)\u001b[0m\u001b[1;33m\u001b[0m\u001b[1;33m\u001b[0m\u001b[0m\n\u001b[0m",
      "\u001b[1;31mAttributeError\u001b[0m: 'NoneType' object has no attribute 'span'"
     ]
    }
   ],
   "metadata": {}
  },
  {
   "cell_type": "code",
   "execution_count": 110,
   "source": [
    "# () : 단일 문자처럼 다루고 싶은 문자들 모아두는 것\r\n",
    "doc = \"find inthethethethethegroup\"\r\n",
    "p = re.compile(\"(the)+\")\r\n",
    "m = p.search(doc)\r\n",
    "m.span(), m.group()"
   ],
   "outputs": [
    {
     "output_type": "execute_result",
     "data": {
      "text/plain": [
       "((7, 22), 'thethethethethe')"
      ]
     },
     "metadata": {},
     "execution_count": 110
    }
   ],
   "metadata": {}
  },
  {
   "cell_type": "code",
   "execution_count": 111,
   "source": [
    "doc = \"find inthethethethethegroup\"\r\n",
    "p = re.compile(\"the\")\r\n",
    "m = p.search(doc)\r\n",
    "m.span(), m.group()"
   ],
   "outputs": [
    {
     "output_type": "execute_result",
     "data": {
      "text/plain": [
       "((7, 10), 'the')"
      ]
     },
     "metadata": {},
     "execution_count": 111
    }
   ],
   "metadata": {}
  },
  {
   "cell_type": "code",
   "execution_count": 116,
   "source": [
    "doc = \"find inthethethethethegroup\"\r\n",
    "p = re.compile(\"(the)+\")\r\n",
    "print(p.findall(doc))\r\n"
   ],
   "outputs": [
    {
     "output_type": "stream",
     "name": "stdout",
     "text": [
      "['the']\n"
     ]
    }
   ],
   "metadata": {}
  },
  {
   "cell_type": "code",
   "execution_count": 118,
   "source": [
    "# word tokenizer를 간단히 경험!\r\n",
    "doc = \"This test, --++**\\\\ is short and sweet ,,... 45u4__&&##buft\"\r\n",
    "p = re.compile(\"\\w+\")\r\n",
    "p.split(doc)"
   ],
   "outputs": [
    {
     "output_type": "execute_result",
     "data": {
      "text/plain": [
       "['', ' ', ', --++**\\\\ ', ' ', ' ', ' ', ' ,,... ', '&&##', '']"
      ]
     },
     "metadata": {},
     "execution_count": 118
    }
   ],
   "metadata": {}
  },
  {
   "cell_type": "code",
   "execution_count": 119,
   "source": [
    "doc = \"This test, --++**\\\\ is short and sweet ,,... 45u4__&&##buft\"\r\n",
    "p = re.compile(\"\\W+\")\r\n",
    "p.split(doc)"
   ],
   "outputs": [
    {
     "output_type": "execute_result",
     "data": {
      "text/plain": [
       "['This', 'test', 'is', 'short', 'and', 'sweet', '45u4__', 'buft']"
      ]
     },
     "metadata": {},
     "execution_count": 119
    }
   ],
   "metadata": {}
  },
  {
   "cell_type": "code",
   "execution_count": 123,
   "source": [
    "doc.split(\" \")"
   ],
   "outputs": [
    {
     "output_type": "execute_result",
     "data": {
      "text/plain": [
       "['This',\n",
       " 'test,',\n",
       " '--++**\\\\',\n",
       " 'is',\n",
       " 'short',\n",
       " 'and',\n",
       " 'sweet',\n",
       " ',,...',\n",
       " '45u4__&&##buft']"
      ]
     },
     "metadata": {},
     "execution_count": 123
    }
   ],
   "metadata": {}
  },
  {
   "cell_type": "code",
   "execution_count": 125,
   "source": [
    "p = re.compile(\"(blue\\s|white\\s|red\\s)+\")\r\n",
    "p.sub(\"color \", \"blue red shoes and white blue red socks\")"
   ],
   "outputs": [
    {
     "output_type": "execute_result",
     "data": {
      "text/plain": [
       "'color shoes and color socks'"
      ]
     },
     "metadata": {},
     "execution_count": 125
    }
   ],
   "metadata": {}
  },
  {
   "cell_type": "code",
   "execution_count": 129,
   "source": [
    "p = re.compile(\"(blue\\s|white\\s|red\\s)+\")\r\n",
    "p.sub(\"color \", \"blue red shoes and white blue red socks\")"
   ],
   "outputs": [
    {
     "output_type": "execute_result",
     "data": {
      "text/plain": [
       "'color shoes and color socks'"
      ]
     },
     "metadata": {},
     "execution_count": 129
    }
   ],
   "metadata": {}
  },
  {
   "cell_type": "code",
   "execution_count": null,
   "source": [
    "# 마지막 실습 및 퀴즈 :\r\n",
    "# 1) 연결된 공백 문자를 1개로 교체\r\n",
    "# 2) 앞에 있는 공백을 제거\r\n",
    "# 3) 뒤에 있는 공백도 제거\r\n",
    "doc = \"   abd     asd kluoeiur   liueou lkuioe    lieoj \\t sd \"\r\n",
    "\r\n",
    "p1 = re.compile(\"\\s+\")\r\n",
    "p2 = re.compile(\"^| $\")\r\n",
    "print(p1.sub(\" \", doc))\r\n",
    "print(p2.sub(\"\", p1.sub(\" \", doc)))"
   ],
   "outputs": [],
   "metadata": {}
  },
  {
   "cell_type": "code",
   "execution_count": null,
   "source": [],
   "outputs": [],
   "metadata": {}
  }
 ],
 "metadata": {
  "orig_nbformat": 4,
  "language_info": {
   "name": "python"
  }
 },
 "nbformat": 4,
 "nbformat_minor": 2
}