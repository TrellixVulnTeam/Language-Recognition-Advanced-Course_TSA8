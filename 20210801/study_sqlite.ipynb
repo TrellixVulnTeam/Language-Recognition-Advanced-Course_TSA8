{
 "cells": [
  {
   "cell_type": "code",
   "execution_count": 2,
   "source": [
    "# 파이썬으로 Database 생성\r\n",
    "# SQLite3의 경우 connection을 생성할 때, 해당 database 파일이 존재하지 않으면 생성\r\n",
    "# 다른관계형(Relational) DBMS(Database Management System)의 경우는 사전에 Database가 생성되어 있어야 함\r\n",
    "\r\n",
    "import sqlite3\r\n",
    "\r\n",
    "conn = sqlite3.connect(\"coffee.db\")\r\n",
    "\r\n",
    "print(\"Database 생성 및 연결\")"
   ],
   "outputs": [
    {
     "output_type": "stream",
     "name": "stdout",
     "text": [
      "Database 생성 및 연결\n"
     ]
    }
   ],
   "metadata": {}
  },
  {
   "cell_type": "code",
   "execution_count": 3,
   "source": [
    "# Database라는 곳은 데이터들을 보관하는 곳\r\n",
    "# table: 데이터들을 논리적으로 묶은 것\r\n",
    "#        행(row, record)및 열(column, )로 이루어짐\r\n",
    "# table schema :  어떤 데이터로 들러 구성이고, 각 열이 어떤 데이터 형식을 가지는지 정의\r\n",
    "# 테이블 생성하고 데이터 입력\r\n",
    "\r\n",
    "conn.execute('''\r\n",
    "CREATE TABLE users (\r\n",
    "    id      INT     PRIMARY KEY     NOT NULL,\r\n",
    "    name    TEXT    NOT NULL\r\n",
    ")\r\n",
    "\r\n",
    "''')\r\n",
    "\r\n",
    "print(\"테이블이 생성되었습니다\")"
   ],
   "outputs": [
    {
     "output_type": "stream",
     "name": "stdout",
     "text": [
      "테이블이 생성되었습니다\n"
     ]
    }
   ],
   "metadata": {}
  },
  {
   "cell_type": "code",
   "execution_count": 7,
   "source": [
    "# Database가 존재하고, Table 생성한 상태\r\n",
    "# 이 table에 데이터 입력\r\n",
    "conn.execute('''\r\n",
    "INSERT INTO users (id, name)\r\n",
    "VALUES (5, '김철수')\r\n",
    "''')\r\n",
    "conn.execute('''\r\n",
    "INSERT INTO users (id, name)\r\n",
    "VALUES (6, '이영희')\r\n",
    "''')\r\n",
    "conn.execute('''\r\n",
    "INSERT INTO users (id, name)\r\n",
    "VALUES (7, '이동국')\r\n",
    "''')\r\n",
    "conn.execute('''\r\n",
    "INSERT INTO users (id, name)\r\n",
    "VALUES (8, '안정환')\r\n",
    "''')\r\n",
    " \r\n",
    "conn.commit() #입력, 삭제, 수정시에는 항상 commit해줘야함"
   ],
   "outputs": [],
   "metadata": {}
  },
  {
   "cell_type": "code",
   "execution_count": 8,
   "source": [
    "# 데이터를 보여준다!\r\n",
    "# 우선 데이터를 조회해서 Result Set를 가져옴\r\n",
    "\r\n",
    "cursor = conn.execute('''\r\n",
    "SELECT * -- 테이블의 모든 열을 보여달라\r\n",
    "FROM users\r\n",
    "''')"
   ],
   "outputs": [],
   "metadata": {}
  },
  {
   "cell_type": "code",
   "execution_count": 9,
   "source": [
    "type(cursor)"
   ],
   "outputs": [
    {
     "output_type": "execute_result",
     "data": {
      "text/plain": [
       "sqlite3.Cursor"
      ]
     },
     "metadata": {},
     "execution_count": 9
    }
   ],
   "metadata": {}
  },
  {
   "cell_type": "code",
   "execution_count": 10,
   "source": [
    "for row in cursor:\r\n",
    "    print(row)"
   ],
   "outputs": [
    {
     "output_type": "stream",
     "name": "stdout",
     "text": [
      "(1, '김철수')\n",
      "(2, '이영희')\n",
      "(3, '이동국')\n",
      "(4, '안정환')\n",
      "(5, '김철수')\n",
      "(6, '이영희')\n",
      "(7, '이동국')\n",
      "(8, '안정환')\n"
     ]
    }
   ],
   "metadata": {}
  },
  {
   "cell_type": "code",
   "execution_count": 13,
   "source": [
    "# 데이터를 삭제하고 싶다\r\n",
    "conn.execute('''\r\n",
    "DELETE FROM users\r\n",
    "WHERE id = 7\r\n",
    "''')\r\n",
    "\r\n",
    "conn.commit()"
   ],
   "outputs": [],
   "metadata": {}
  },
  {
   "cell_type": "code",
   "execution_count": 12,
   "source": [
    "cursor = conn.execute('''\r\n",
    "SELECT *\r\n",
    "FROM users\r\n",
    "''')\r\n",
    "for row in cursor:\r\n",
    "    print(row)"
   ],
   "outputs": [
    {
     "output_type": "stream",
     "name": "stdout",
     "text": [
      "(1, '김철수')\n",
      "(2, '이영희')\n",
      "(3, '이동국')\n",
      "(4, '안정환')\n",
      "(5, '김철수')\n",
      "(6, '이영희')\n",
      "(8, '안정환')\n"
     ]
    }
   ],
   "metadata": {}
  },
  {
   "cell_type": "code",
   "execution_count": 14,
   "source": [
    "conn.execute('''\r\n",
    "DELETE FROM users\r\n",
    "WHERE id > 4\r\n",
    "''')\r\n",
    "\r\n",
    "conn.commit()\r\n",
    "\r\n",
    "cursor = conn.execute('''\r\n",
    "SELECT *\r\n",
    "FROM users\r\n",
    "''')\r\n",
    "for row in cursor:\r\n",
    "    print(row)"
   ],
   "outputs": [
    {
     "output_type": "stream",
     "name": "stdout",
     "text": [
      "(1, '김철수')\n",
      "(2, '이영희')\n",
      "(3, '이동국')\n",
      "(4, '안정환')\n"
     ]
    }
   ],
   "metadata": {}
  },
  {
   "cell_type": "code",
   "execution_count": 15,
   "source": [
    "# 데이터 입력, 조회, 삭제 함\r\n",
    "# 이제 남은 수정\r\n",
    "\r\n",
    "conn.execute('''\r\n",
    "UPDATE users \r\n",
    "SET name = '이강인'\r\n",
    "WHERE id = 2\r\n",
    "''')\r\n",
    "\r\n",
    "conn.commit()\r\n",
    "\r\n",
    "cursor = conn.execute('''\r\n",
    "SELECT *\r\n",
    "FROM users\r\n",
    "''')\r\n",
    "for row in cursor:\r\n",
    "    print(row)"
   ],
   "outputs": [
    {
     "output_type": "stream",
     "name": "stdout",
     "text": [
      "(1, '김철수')\n",
      "(2, '이강인')\n",
      "(3, '이동국')\n",
      "(4, '안정환')\n"
     ]
    }
   ],
   "metadata": {}
  },
  {
   "cell_type": "code",
   "execution_count": null,
   "source": [],
   "outputs": [],
   "metadata": {}
  }
 ],
 "metadata": {
  "orig_nbformat": 4,
  "language_info": {
   "name": "python",
   "version": "3.9.6",
   "mimetype": "text/x-python",
   "codemirror_mode": {
    "name": "ipython",
    "version": 3
   },
   "pygments_lexer": "ipython3",
   "nbconvert_exporter": "python",
   "file_extension": ".py"
  },
  "kernelspec": {
   "name": "python3",
   "display_name": "Python 3.9.6 64-bit ('venv_210801': venv)"
  },
  "interpreter": {
   "hash": "a3c92a9cf48705703daf46dd939059238c44a370e3356bed78ef851aa309f844"
  }
 },
 "nbformat": 4,
 "nbformat_minor": 2
}