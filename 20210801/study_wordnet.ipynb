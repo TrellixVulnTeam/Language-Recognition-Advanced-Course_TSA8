{
 "cells": [
  {
   "cell_type": "code",
   "execution_count": 1,
   "source": [
    "import nltk\r\n",
    "nltk.download('wordnet')"
   ],
   "outputs": [
    {
     "output_type": "stream",
     "name": "stderr",
     "text": [
      "[nltk_data] Downloading package wordnet to\n",
      "[nltk_data]     C:\\Users\\kdh\\AppData\\Roaming\\nltk_data...\n",
      "[nltk_data]   Package wordnet is already up-to-date!\n"
     ]
    },
    {
     "output_type": "execute_result",
     "data": {
      "text/plain": [
       "True"
      ]
     },
     "metadata": {},
     "execution_count": 1
    }
   ],
   "metadata": {}
  },
  {
   "cell_type": "code",
   "execution_count": 2,
   "source": [
    "from textblob import Word\r\n",
    "\r\n",
    "word = Word('defend')\r\n",
    "type(word), len(word), word"
   ],
   "outputs": [
    {
     "output_type": "execute_result",
     "data": {
      "text/plain": [
       "(textblob.blob.Word, 6, 'defend')"
      ]
     },
     "metadata": {},
     "execution_count": 2
    }
   ],
   "metadata": {}
  },
  {
   "cell_type": "code",
   "execution_count": 6,
   "source": [
    "synsets = word.get_synsets()"
   ],
   "outputs": [],
   "metadata": {}
  },
  {
   "cell_type": "code",
   "execution_count": 7,
   "source": [
    "type(synsets), len(synsets), synsets"
   ],
   "outputs": [
    {
     "output_type": "execute_result",
     "data": {
      "text/plain": [
       "(list,\n",
       " 7,\n",
       " [Synset('defend.v.01'),\n",
       "  Synset('defend.v.02'),\n",
       "  Synset('defend.v.03'),\n",
       "  Synset('fight.v.02'),\n",
       "  Synset('champion.v.01'),\n",
       "  Synset('defend.v.06'),\n",
       "  Synset('maintain.v.08')])"
      ]
     },
     "metadata": {},
     "execution_count": 7
    }
   ],
   "metadata": {}
  },
  {
   "cell_type": "code",
   "execution_count": 9,
   "source": [
    "first_syn = synsets[0]\r\n",
    "type(first_syn), first_syn"
   ],
   "outputs": [
    {
     "output_type": "execute_result",
     "data": {
      "text/plain": [
       "(nltk.corpus.reader.wordnet.Synset, Synset('defend.v.01'))"
      ]
     },
     "metadata": {},
     "execution_count": 9
    }
   ],
   "metadata": {}
  },
  {
   "cell_type": "code",
   "execution_count": 10,
   "source": [
    "lemmas = first_syn.lemmas()\r\n",
    "for lem in lemmas:\r\n",
    "    print(lem.name())"
   ],
   "outputs": [
    {
     "output_type": "stream",
     "name": "stdout",
     "text": [
      "defend\n",
      "support\n",
      "fend_for\n"
     ]
    }
   ],
   "metadata": {}
  },
  {
   "cell_type": "code",
   "execution_count": 14,
   "source": [
    "string = 'terrific'\r\n",
    "result= []\r\n",
    "\r\n",
    "word = Word(string)\r\n",
    "\r\n",
    "for syn in word.get_synsets():\r\n",
    "    for lem in syn.lemmas():\r\n",
    "        if lem.name() != string:\r\n",
    "            result.append(lem.name())\r\n",
    "\r\n",
    "print(result)"
   ],
   "outputs": [
    {
     "output_type": "stream",
     "name": "stdout",
     "text": [
      "['fantastic', 'grand', 'howling', 'marvelous', 'marvellous', 'rattling', 'tremendous', 'wonderful', 'wondrous', 'terrifying']\n"
     ]
    }
   ],
   "metadata": {}
  },
  {
   "cell_type": "code",
   "execution_count": null,
   "source": [],
   "outputs": [],
   "metadata": {}
  }
 ],
 "metadata": {
  "orig_nbformat": 4,
  "language_info": {
   "name": "python",
   "version": "3.9.6",
   "mimetype": "text/x-python",
   "codemirror_mode": {
    "name": "ipython",
    "version": 3
   },
   "pygments_lexer": "ipython3",
   "nbconvert_exporter": "python",
   "file_extension": ".py"
  },
  "kernelspec": {
   "name": "python3",
   "display_name": "Python 3.9.6 64-bit ('venv_210801': venv)"
  },
  "interpreter": {
   "hash": "a3c92a9cf48705703daf46dd939059238c44a370e3356bed78ef851aa309f844"
  }
 },
 "nbformat": 4,
 "nbformat_minor": 2
}